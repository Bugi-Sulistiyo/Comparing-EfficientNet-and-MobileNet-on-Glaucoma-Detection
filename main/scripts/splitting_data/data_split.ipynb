{
 "cells": [
  {
   "cell_type": "code",
   "execution_count": 12,
   "metadata": {},
   "outputs": [],
   "source": [
    "import os\n",
    "import sys\n",
    "from dotenv import load_dotenv\n",
    "\n",
    "load_dotenv()\n",
    "sys.path.append(os.environ.get('PATH_CUSTOM_MODULES'))\n",
    "\n",
    "from sklearn.model_selection import StratifiedKFold\n",
    "\n",
    "import data_prep"
   ]
  },
  {
   "cell_type": "code",
   "execution_count": null,
   "metadata": {},
   "outputs": [],
   "source": [
    "path_destination = os.environ.get('PATH_DATASET_DESTINATION')\n",
    "path_source_rimone = os.path.join(os.environ.get('PATH_DATASET_COMBINED'),\n",
    "                                    'rimone')\n",
    "path_source_g1020 = os.path.join(os.environ.get('PATH_DATASET_COMBINED'),\n",
    "                                    'g1020')\n",
    "path_source_refuge = os.path.join(os.environ.get('PATH_DATASET_COMBINED'),\n",
    "                                    'refuge')\n",
    "path_source_papila = os.path.join(os.environ.get('PATH_DATASET_COMBINED'),\n",
    "                                    'papila')"
   ]
  }
 ],
 "metadata": {
  "kernelspec": {
   "display_name": "env_skripsi",
   "language": "python",
   "name": "python3"
  },
  "language_info": {
   "codemirror_mode": {
    "name": "ipython",
    "version": 3
   },
   "file_extension": ".py",
   "mimetype": "text/x-python",
   "name": "python",
   "nbconvert_exporter": "python",
   "pygments_lexer": "ipython3",
   "version": "3.10.13"
  }
 },
 "nbformat": 4,
 "nbformat_minor": 2
}
