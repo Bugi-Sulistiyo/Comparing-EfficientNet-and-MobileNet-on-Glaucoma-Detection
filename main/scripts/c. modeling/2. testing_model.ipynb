{
 "cells": [
  {
   "cell_type": "code",
   "execution_count": 1,
   "metadata": {},
   "outputs": [],
   "source": [
    "import os\n",
    "import sys\n",
    "from dotenv import load_dotenv\n",
    "\n",
    "load_dotenv()\n",
    "sys.path.append(os.environ.get('PATH_CUSTOM_MODULES'))\n",
    "\n",
    "import modeling"
   ]
  },
  {
   "cell_type": "markdown",
   "metadata": {},
   "source": [
    "### Prepare all basic variable"
   ]
  },
  {
   "cell_type": "code",
   "execution_count": 2,
   "metadata": {},
   "outputs": [],
   "source": [
    "path_source = os.environ.get('PATH_DATASET_DESTINATION')\n",
    "path_model = os.environ.get('PATH_MODEL')\n",
    "path_result = os.environ.get('PATH_TEST_RESULT')\n",
    "scenario_names = ['scenario_1', 'scenario_2', 'scenario_3']\n",
    "dataset_names = ['rimone', 'g1020', 'refuge', 'papila']\n",
    "fold_names = ['fold_1', 'fold_2', 'fold_3', 'fold_4', 'fold_5']\n",
    "pre_trained_models = ['mobilenet_v2', 'mobilenet_v3small', 'mobilenet_v3large',\n",
    "                'efficientnet_v2s', 'efficientnet_v2m', 'efficientnet_v2l']"
   ]
  },
  {
   "cell_type": "markdown",
   "metadata": {},
   "source": [
    "### Prepare the path source"
   ]
  },
  {
   "cell_type": "code",
   "execution_count": 3,
   "metadata": {},
   "outputs": [],
   "source": [
    "path_dataset_src = modeling.get_path(scenario_names=scenario_names,\n",
    "                                    dataset_names=dataset_names,\n",
    "                                    fold_names=fold_names,\n",
    "                                    path_source=path_source)"
   ]
  },
  {
   "cell_type": "markdown",
   "metadata": {},
   "source": [
    "### Prepare the image generator"
   ]
  },
  {
   "cell_type": "code",
   "execution_count": 4,
   "metadata": {},
   "outputs": [
    {
     "name": "stdout",
     "output_type": "stream",
     "text": [
      "Creating image data generator for scenario_1 rimone fold_1 test\n",
      "Found 97 images belonging to 2 classes.\n",
      "Creating image data generator for scenario_1 rimone fold_2 test\n",
      "Found 97 images belonging to 2 classes.\n",
      "Creating image data generator for scenario_1 rimone fold_3 test\n",
      "Found 97 images belonging to 2 classes.\n",
      "Creating image data generator for scenario_1 rimone fold_4 test\n",
      "Found 97 images belonging to 2 classes.\n",
      "Creating image data generator for scenario_1 rimone fold_5 test\n",
      "Found 97 images belonging to 2 classes.\n",
      "Creating image data generator for scenario_1 g1020 fold_1 test\n",
      "Found 204 images belonging to 2 classes.\n",
      "Creating image data generator for scenario_1 g1020 fold_2 test\n",
      "Found 204 images belonging to 2 classes.\n"
     ]
    },
    {
     "name": "stdout",
     "output_type": "stream",
     "text": [
      "Creating image data generator for scenario_1 g1020 fold_3 test\n",
      "Found 204 images belonging to 2 classes.\n",
      "Creating image data generator for scenario_1 g1020 fold_4 test\n",
      "Found 204 images belonging to 2 classes.\n",
      "Creating image data generator for scenario_1 g1020 fold_5 test\n",
      "Found 204 images belonging to 2 classes.\n",
      "Creating image data generator for scenario_1 refuge fold_1 test\n",
      "Found 240 images belonging to 2 classes.\n",
      "Creating image data generator for scenario_1 refuge fold_2 test\n",
      "Found 240 images belonging to 2 classes.\n",
      "Creating image data generator for scenario_1 refuge fold_3 test\n",
      "Found 240 images belonging to 2 classes.\n",
      "Creating image data generator for scenario_1 refuge fold_4 test\n",
      "Found 240 images belonging to 2 classes.\n",
      "Creating image data generator for scenario_1 refuge fold_5 test\n",
      "Found 240 images belonging to 2 classes.\n",
      "Creating image data generator for scenario_1 papila fold_1 test\n",
      "Found 98 images belonging to 2 classes.\n",
      "Creating image data generator for scenario_1 papila fold_2 test\n",
      "Found 98 images belonging to 2 classes.\n",
      "Creating image data generator for scenario_1 papila fold_3 test\n",
      "Found 98 images belonging to 2 classes.\n",
      "Creating image data generator for scenario_1 papila fold_4 test\n",
      "Found 97 images belonging to 2 classes.\n",
      "Creating image data generator for scenario_1 papila fold_5 test\n",
      "Found 97 images belonging to 2 classes.\n",
      "Creating image data generator for scenario_2 rimone fold_1 test\n",
      "Found 97 images belonging to 2 classes.\n",
      "Creating image data generator for scenario_2 rimone fold_2 test\n",
      "Found 97 images belonging to 2 classes.\n",
      "Creating image data generator for scenario_2 rimone fold_3 test\n",
      "Found 97 images belonging to 2 classes.\n",
      "Creating image data generator for scenario_2 rimone fold_4 test\n",
      "Found 97 images belonging to 2 classes.\n",
      "Creating image data generator for scenario_2 rimone fold_5 test\n",
      "Found 97 images belonging to 2 classes.\n",
      "Creating image data generator for scenario_2 g1020 fold_1 test\n",
      "Found 204 images belonging to 2 classes.\n",
      "Creating image data generator for scenario_2 g1020 fold_2 test\n",
      "Found 204 images belonging to 2 classes.\n",
      "Creating image data generator for scenario_2 g1020 fold_3 test\n",
      "Found 204 images belonging to 2 classes.\n",
      "Creating image data generator for scenario_2 g1020 fold_4 test\n",
      "Found 204 images belonging to 2 classes.\n",
      "Creating image data generator for scenario_2 g1020 fold_5 test\n",
      "Found 204 images belonging to 2 classes.\n",
      "Creating image data generator for scenario_2 refuge fold_1 test\n",
      "Found 240 images belonging to 2 classes.\n",
      "Creating image data generator for scenario_2 refuge fold_2 test\n",
      "Found 240 images belonging to 2 classes.\n",
      "Creating image data generator for scenario_2 refuge fold_3 test\n",
      "Found 240 images belonging to 2 classes.\n",
      "Creating image data generator for scenario_2 refuge fold_4 test\n",
      "Found 240 images belonging to 2 classes.\n",
      "Creating image data generator for scenario_2 refuge fold_5 test\n",
      "Found 240 images belonging to 2 classes.\n",
      "Creating image data generator for scenario_2 papila fold_1 test\n",
      "Found 98 images belonging to 2 classes.\n",
      "Creating image data generator for scenario_2 papila fold_2 test\n",
      "Found 98 images belonging to 2 classes.\n",
      "Creating image data generator for scenario_2 papila fold_3 test\n",
      "Found 98 images belonging to 2 classes.\n",
      "Creating image data generator for scenario_2 papila fold_4 test\n",
      "Found 97 images belonging to 2 classes.\n",
      "Creating image data generator for scenario_2 papila fold_5 test\n",
      "Found 97 images belonging to 2 classes.\n",
      "Creating image data generator for scenario_3 rimone fold_1 test\n",
      "Found 97 images belonging to 2 classes.\n",
      "Creating image data generator for scenario_3 rimone fold_2 test\n",
      "Found 97 images belonging to 2 classes.\n",
      "Creating image data generator for scenario_3 rimone fold_3 test\n",
      "Found 97 images belonging to 2 classes.\n",
      "Creating image data generator for scenario_3 rimone fold_4 test\n",
      "Found 97 images belonging to 2 classes.\n",
      "Creating image data generator for scenario_3 rimone fold_5 test\n",
      "Found 97 images belonging to 2 classes.\n",
      "Creating image data generator for scenario_3 g1020 fold_1 test\n",
      "Found 204 images belonging to 2 classes.\n",
      "Creating image data generator for scenario_3 g1020 fold_2 test\n",
      "Found 204 images belonging to 2 classes.\n",
      "Creating image data generator for scenario_3 g1020 fold_3 test\n",
      "Found 204 images belonging to 2 classes.\n",
      "Creating image data generator for scenario_3 g1020 fold_4 test\n",
      "Found 204 images belonging to 2 classes.\n",
      "Creating image data generator for scenario_3 g1020 fold_5 test\n",
      "Found 204 images belonging to 2 classes.\n",
      "Creating image data generator for scenario_3 refuge fold_1 test\n",
      "Found 240 images belonging to 2 classes.\n",
      "Creating image data generator for scenario_3 refuge fold_2 test\n",
      "Found 240 images belonging to 2 classes.\n",
      "Creating image data generator for scenario_3 refuge fold_3 test\n",
      "Found 240 images belonging to 2 classes.\n",
      "Creating image data generator for scenario_3 refuge fold_4 test\n",
      "Found 240 images belonging to 2 classes.\n",
      "Creating image data generator for scenario_3 refuge fold_5 test\n",
      "Found 240 images belonging to 2 classes.\n",
      "Creating image data generator for scenario_3 papila fold_1 test\n",
      "Found 98 images belonging to 2 classes.\n",
      "Creating image data generator for scenario_3 papila fold_2 test\n",
      "Found 98 images belonging to 2 classes.\n",
      "Creating image data generator for scenario_3 papila fold_3 test\n",
      "Found 98 images belonging to 2 classes.\n",
      "Creating image data generator for scenario_3 papila fold_4 test\n",
      "Found 97 images belonging to 2 classes.\n",
      "Creating image data generator for scenario_3 papila fold_5 test\n",
      "Found 97 images belonging to 2 classes.\n"
     ]
    }
   ],
   "source": [
    "img_gen = modeling.datagen(scenario_names=scenario_names,\n",
    "                            dataset_names=dataset_names,\n",
    "                            fold_names=fold_names,\n",
    "                            path_dataset_src=path_dataset_src,\n",
    "                            usage='testing')"
   ]
  },
  {
   "cell_type": "markdown",
   "metadata": {},
   "source": [
    "### Testing model for scenario 1"
   ]
  },
  {
   "cell_type": "code",
   "execution_count": null,
   "metadata": {},
   "outputs": [],
   "source": [
    "modeling.testing_model(path_src=path_model,\n",
    "                        scenario=scenario_names[0],\n",
    "                        models=pre_trained_models,\n",
    "                        folds=fold_names,\n",
    "                        datasets=dataset_names,\n",
    "                        datagen=img_gen,\n",
    "                        path_dest=path_result)"
   ]
  },
  {
   "cell_type": "markdown",
   "metadata": {},
   "source": [
    "### Testing model for scenario 2"
   ]
  },
  {
   "cell_type": "code",
   "execution_count": null,
   "metadata": {},
   "outputs": [],
   "source": [
    "modeling.testing_model(path_src=path_model,\n",
    "                        scenario=scenario_names[1],\n",
    "                        models=pre_trained_models[-1:],\n",
    "                        folds=fold_names,\n",
    "                        datasets=dataset_names[2:],\n",
    "                        datagen=img_gen,\n",
    "                        path_dest=path_result)"
   ]
  },
  {
   "cell_type": "markdown",
   "metadata": {},
   "source": [
    "### Testing model for scenario 3"
   ]
  },
  {
   "cell_type": "code",
   "execution_count": 5,
   "metadata": {},
   "outputs": [
    {
     "name": "stdout",
     "output_type": "stream",
     "text": [
      "Completed efficientnet_v2l refuge in 136.34 seconds\n",
      "Completed efficientnet_v2l papila in 111.4 seconds\n"
     ]
    },
    {
     "data": {
      "text/plain": [
       "{'model': ['efficientnet_v2l',\n",
       "  'efficientnet_v2l',\n",
       "  'efficientnet_v2l',\n",
       "  'efficientnet_v2l',\n",
       "  'efficientnet_v2l'],\n",
       " 'scenario': ['scenario_3',\n",
       "  'scenario_3',\n",
       "  'scenario_3',\n",
       "  'scenario_3',\n",
       "  'scenario_3'],\n",
       " 'dataset': ['papila', 'papila', 'papila', 'papila', 'papila'],\n",
       " 'fold': ['fold_1', 'fold_2', 'fold_3', 'fold_4', 'fold_5'],\n",
       " 'loss': [0.619800329208374,\n",
       "  0.6229496002197266,\n",
       "  0.6257930994033813,\n",
       "  0.627869725227356,\n",
       "  0.624907910823822],\n",
       " 'auc': [0.5775156021118164,\n",
       "  0.572941780090332,\n",
       "  0.42079925537109375,\n",
       "  0.5821114778518677,\n",
       "  0.578201413154602],\n",
       " 'true_positive': [67.0, 67.0, 67.0, 66.0, 66.0],\n",
       " 'true_negative': [0.0, 0.0, 0.0, 0.0, 0.0],\n",
       " 'false_positive': [31.0, 31.0, 31.0, 31.0, 31.0],\n",
       " 'false_negative': [0.0, 0.0, 0.0, 0.0, 0.0]}"
      ]
     },
     "execution_count": 5,
     "metadata": {},
     "output_type": "execute_result"
    }
   ],
   "source": [
    "modeling.testing_model(path_src=path_model,\n",
    "                        scenario=scenario_names[2],\n",
    "                        models=pre_trained_models[-1:],\n",
    "                        folds=fold_names,\n",
    "                        datasets=dataset_names[2:],\n",
    "                        datagen=img_gen,\n",
    "                        path_dest=path_result)"
   ]
  }
 ],
 "metadata": {
  "kernelspec": {
   "display_name": "env_skripsi",
   "language": "python",
   "name": "python3"
  },
  "language_info": {
   "codemirror_mode": {
    "name": "ipython",
    "version": 3
   },
   "file_extension": ".py",
   "mimetype": "text/x-python",
   "name": "python",
   "nbconvert_exporter": "python",
   "pygments_lexer": "ipython3",
   "version": "3.10.13"
  }
 },
 "nbformat": 4,
 "nbformat_minor": 2
}
