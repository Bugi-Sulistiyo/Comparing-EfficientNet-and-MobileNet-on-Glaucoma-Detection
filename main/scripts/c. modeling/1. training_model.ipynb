{
 "cells": [
  {
   "cell_type": "code",
   "execution_count": 1,
   "metadata": {},
   "outputs": [],
   "source": [
    "import os\n",
    "import sys\n",
    "from dotenv import load_dotenv\n",
    "\n",
    "load_dotenv()\n",
    "sys.path.append(os.environ.get('PATH_CUSTOM_MODULES'))\n",
    "\n",
    "import modeling"
   ]
  },
  {
   "cell_type": "markdown",
   "metadata": {},
   "source": [
    "### Prepare all basic variable"
   ]
  },
  {
   "cell_type": "code",
   "execution_count": 2,
   "metadata": {},
   "outputs": [],
   "source": [
    "path_source = os.environ.get('PATH_DATASET_DESTINATION')\n",
    "path_pretrained = os.environ.get('PATH_PRETRAINED')\n",
    "path_model_storage = os.environ.get('PATH_MODEL')\n",
    "path_result = os.environ.get('PATH_TRAIN_RESULT')\n",
    "scenario_names = ['scenario_1', 'scenario_2', 'scenario_3']\n",
    "dataset_names = ['rimone', 'g1020', 'refuge', 'papila']\n",
    "fold_names = ['fold_1', 'fold_2', 'fold_3', 'fold_4', 'fold_5']\n",
    "pre_trained_models = ['mobilenet_v2', 'mobilenet_v3small', 'mobilenet_v3large',\n",
    "                'efficientnet_v2s', 'efficientnet_v2m', 'efficientnet_v2l']"
   ]
  },
  {
   "cell_type": "markdown",
   "metadata": {},
   "source": [
    "### Prepare the path source"
   ]
  },
  {
   "cell_type": "code",
   "execution_count": 3,
   "metadata": {},
   "outputs": [],
   "source": [
    "path_dataset_src = modeling.get_path(scenario_names=scenario_names,\n",
    "                                    dataset_names=dataset_names,\n",
    "                                    fold_names=fold_names,\n",
    "                                    path_source=path_source)"
   ]
  },
  {
   "cell_type": "markdown",
   "metadata": {},
   "source": [
    "### Prepare the image data generator"
   ]
  },
  {
   "cell_type": "code",
   "execution_count": 4,
   "metadata": {},
   "outputs": [
    {
     "name": "stdout",
     "output_type": "stream",
     "text": [
      "Creating image data generator for scenario_3 rimone fold_1 train_merged\n",
      "Found 678 images belonging to 2 classes.\n",
      "Creating image data generator for scenario_3 rimone fold_1 val\n",
      "Found 49 images belonging to 2 classes.\n",
      "Creating image data generator for scenario_3 rimone fold_2 train_merged\n",
      "Found 678 images belonging to 2 classes.\n",
      "Creating image data generator for scenario_3 rimone fold_2 val\n",
      "Found 49 images belonging to 2 classes.\n",
      "Creating image data generator for scenario_3 rimone fold_3 train_merged\n",
      "Found 678 images belonging to 2 classes.\n",
      "Creating image data generator for scenario_3 rimone fold_3 val\n",
      "Found 49 images belonging to 2 classes.\n"
     ]
    },
    {
     "name": "stdout",
     "output_type": "stream",
     "text": [
      "Creating image data generator for scenario_3 rimone fold_4 train_merged\n",
      "Found 678 images belonging to 2 classes.\n",
      "Creating image data generator for scenario_3 rimone fold_4 val\n",
      "Found 49 images belonging to 2 classes.\n",
      "Creating image data generator for scenario_3 rimone fold_5 train_merged\n",
      "Found 678 images belonging to 2 classes.\n",
      "Creating image data generator for scenario_3 rimone fold_5 val\n",
      "Found 49 images belonging to 2 classes.\n",
      "Creating image data generator for scenario_3 g1020 fold_1 train_merged\n",
      "Found 1428 images belonging to 2 classes.\n",
      "Creating image data generator for scenario_3 g1020 fold_1 val\n",
      "Found 102 images belonging to 2 classes.\n",
      "Creating image data generator for scenario_3 g1020 fold_2 train_merged\n",
      "Found 1428 images belonging to 2 classes.\n",
      "Creating image data generator for scenario_3 g1020 fold_2 val\n",
      "Found 102 images belonging to 2 classes.\n",
      "Creating image data generator for scenario_3 g1020 fold_3 train_merged\n",
      "Found 1428 images belonging to 2 classes.\n",
      "Creating image data generator for scenario_3 g1020 fold_3 val\n",
      "Found 102 images belonging to 2 classes.\n",
      "Creating image data generator for scenario_3 g1020 fold_4 train_merged\n",
      "Found 1428 images belonging to 2 classes.\n",
      "Creating image data generator for scenario_3 g1020 fold_4 val\n",
      "Found 102 images belonging to 2 classes.\n",
      "Creating image data generator for scenario_3 g1020 fold_5 train_merged\n",
      "Found 1428 images belonging to 2 classes.\n",
      "Creating image data generator for scenario_3 g1020 fold_5 val\n",
      "Found 102 images belonging to 2 classes.\n",
      "Creating image data generator for scenario_3 refuge fold_1 train_merged\n",
      "Found 1680 images belonging to 2 classes.\n",
      "Creating image data generator for scenario_3 refuge fold_1 val\n",
      "Found 120 images belonging to 2 classes.\n",
      "Creating image data generator for scenario_3 refuge fold_2 train_merged\n",
      "Found 1680 images belonging to 2 classes.\n",
      "Creating image data generator for scenario_3 refuge fold_2 val\n",
      "Found 120 images belonging to 2 classes.\n",
      "Creating image data generator for scenario_3 refuge fold_3 train_merged\n",
      "Found 1680 images belonging to 2 classes.\n",
      "Creating image data generator for scenario_3 refuge fold_3 val\n",
      "Found 120 images belonging to 2 classes.\n",
      "Creating image data generator for scenario_3 refuge fold_4 train_merged\n",
      "Found 1680 images belonging to 2 classes.\n",
      "Creating image data generator for scenario_3 refuge fold_4 val\n",
      "Found 120 images belonging to 2 classes.\n",
      "Creating image data generator for scenario_3 refuge fold_5 train_merged\n",
      "Found 1680 images belonging to 2 classes.\n",
      "Creating image data generator for scenario_3 refuge fold_5 val\n",
      "Found 120 images belonging to 2 classes.\n",
      "Creating image data generator for scenario_3 papila fold_1 train_merged\n",
      "Found 682 images belonging to 2 classes.\n",
      "Creating image data generator for scenario_3 papila fold_1 val\n",
      "Found 49 images belonging to 2 classes.\n",
      "Creating image data generator for scenario_3 papila fold_2 train_merged\n",
      "Found 682 images belonging to 2 classes.\n",
      "Creating image data generator for scenario_3 papila fold_2 val\n",
      "Found 49 images belonging to 2 classes.\n",
      "Creating image data generator for scenario_3 papila fold_3 train_merged\n",
      "Found 682 images belonging to 2 classes.\n",
      "Creating image data generator for scenario_3 papila fold_3 val\n",
      "Found 49 images belonging to 2 classes.\n",
      "Creating image data generator for scenario_3 papila fold_4 train_merged\n",
      "Found 684 images belonging to 2 classes.\n",
      "Creating image data generator for scenario_3 papila fold_4 val\n",
      "Found 49 images belonging to 2 classes.\n",
      "Creating image data generator for scenario_3 papila fold_5 train_merged\n",
      "Found 684 images belonging to 2 classes.\n",
      "Creating image data generator for scenario_3 papila fold_5 val\n",
      "Found 49 images belonging to 2 classes.\n"
     ]
    }
   ],
   "source": [
    "img_gen = modeling.datagen(scenario_names=scenario_names[2:],\n",
    "                            dataset_names=dataset_names,\n",
    "                            fold_names=fold_names,\n",
    "                            path_dataset_src=path_dataset_src,\n",
    "                            usage='training')"
   ]
  },
  {
   "cell_type": "markdown",
   "metadata": {},
   "source": [
    "### Training the model"
   ]
  },
  {
   "cell_type": "markdown",
   "metadata": {},
   "source": [
    "#### Scenario 1"
   ]
  },
  {
   "cell_type": "markdown",
   "metadata": {},
   "source": [
    "##### Mobilenet V2 - completed the training"
   ]
  },
  {
   "cell_type": "code",
   "execution_count": 5,
   "metadata": {},
   "outputs": [
    {
     "name": "stdout",
     "output_type": "stream",
     "text": [
      "refuge fold_1 finished in 710.83 seconds\n",
      "refuge fold_2 finished in 593.09 seconds\n",
      "refuge fold_3 finished in 645.44 seconds\n",
      "refuge fold_4 finished in 494.99 seconds\n",
      "refuge fold_5 finished in 453.15 seconds\n",
      "papila fold_1 finished in 247.5 seconds\n",
      "papila fold_2 finished in 246.06 seconds\n",
      "papila fold_3 finished in 233.4 seconds\n",
      "papila fold_4 finished in 236.75 seconds\n",
      "papila fold_5 finished in 233.02 seconds\n"
     ]
    }
   ],
   "source": [
    "# Train the model with all dataset\n",
    "model = pre_trained_models[0]\n",
    "model_base_name = f's{scenario_names[0].split(\"_\")[-1]}_{model}'\n",
    "for dataset in dataset_names:\n",
    "    for fold in fold_names:\n",
    "        # Train the model\n",
    "        history = modeling.train_model(pre_trained=model,\n",
    "                                        model_src=path_pretrained,\n",
    "                                        model_dest=path_model_storage,\n",
    "                                        model_name=f'{model_base_name}_{dataset}_f{fold.split(\"_\")[-1]}',\n",
    "                                        dataset=dataset,\n",
    "                                        fold=fold,\n",
    "                                        datagen_train=img_gen[f'scenario_1_{dataset}_{fold}_train'],\n",
    "                                        datagen_val=img_gen[f'scenario_1_{dataset}_{fold}_val'])\n",
    "        # Store the result\n",
    "        modeling.train_result(result=history,\n",
    "                            path_store=path_result,\n",
    "                            type_name=f'{model_base_name}_{dataset}_f{fold.split(\"_\")[-1]}',)\n",
    "del dataset, fold, history, model, model_base_name"
   ]
  },
  {
   "cell_type": "markdown",
   "metadata": {},
   "source": [
    "##### Mobilenet V3 small - completed the training"
   ]
  },
  {
   "cell_type": "code",
   "execution_count": 5,
   "metadata": {},
   "outputs": [
    {
     "name": "stdout",
     "output_type": "stream",
     "text": [
      "rimone fold_1 finished in 134.51 seconds\n",
      "rimone fold_2 finished in 122.17 seconds\n",
      "rimone fold_3 finished in 97.89 seconds\n",
      "rimone fold_4 finished in 94.75 seconds\n",
      "rimone fold_5 finished in 96.29 seconds\n",
      "g1020 fold_1 finished in 634.11 seconds\n",
      "g1020 fold_2 finished in 578.85 seconds\n",
      "g1020 fold_3 finished in 544.9 seconds\n",
      "g1020 fold_4 finished in 489.89 seconds\n",
      "g1020 fold_5 finished in 454.57 seconds\n",
      "refuge fold_1 finished in 481.02 seconds\n",
      "refuge fold_2 finished in 430.5 seconds\n",
      "refuge fold_3 finished in 416.51 seconds\n",
      "refuge fold_4 finished in 436.26 seconds\n",
      "refuge fold_5 finished in 413.79 seconds\n",
      "papila fold_1 finished in 211.92 seconds\n",
      "papila fold_2 finished in 217.64 seconds\n",
      "papila fold_3 finished in 212.92 seconds\n",
      "papila fold_4 finished in 211.81 seconds\n",
      "papila fold_5 finished in 210.55 seconds\n"
     ]
    }
   ],
   "source": [
    "# Train the model with all dataset\n",
    "model = pre_trained_models[1]\n",
    "model_base_name = f's{scenario_names[0].split(\"_\")[-1]}_{model}'\n",
    "for dataset in dataset_names:\n",
    "    for fold in fold_names:\n",
    "        # Train the model\n",
    "        history = modeling.train_model(pre_trained=model,\n",
    "                                        model_src=path_pretrained,\n",
    "                                        model_dest=path_model_storage,\n",
    "                                        model_name=f'{model_base_name}_{dataset}_f{fold.split(\"_\")[-1]}',\n",
    "                                        dataset=dataset,\n",
    "                                        fold=fold,\n",
    "                                        datagen_train=img_gen[f'scenario_1_{dataset}_{fold}_train'],\n",
    "                                        datagen_val=img_gen[f'scenario_1_{dataset}_{fold}_val'])\n",
    "        # Store the result\n",
    "        modeling.train_result(result=history,\n",
    "                            path_store=path_result,\n",
    "                            type_name=f'{model_base_name}_{dataset}_f{fold.split(\"_\")[-1]}',)\n",
    "del dataset, fold, history, model, model_base_name"
   ]
  },
  {
   "cell_type": "markdown",
   "metadata": {},
   "source": [
    "##### Mobilenet V3 large - completed the training"
   ]
  },
  {
   "cell_type": "code",
   "execution_count": 6,
   "metadata": {},
   "outputs": [
    {
     "name": "stdout",
     "output_type": "stream",
     "text": [
      "rimone fold_1 finished in 75.92 seconds\n",
      "rimone fold_2 finished in 82.63 seconds\n",
      "rimone fold_3 finished in 74.51 seconds\n",
      "rimone fold_4 finished in 77.03 seconds\n",
      "rimone fold_5 finished in 75.1 seconds\n",
      "g1020 fold_1 finished in 540.86 seconds\n",
      "g1020 fold_2 finished in 527.83 seconds\n",
      "g1020 fold_3 finished in 603.4 seconds\n",
      "g1020 fold_4 finished in 824.5 seconds\n",
      "g1020 fold_5 finished in 650.52 seconds\n",
      "refuge fold_1 finished in 374.62 seconds\n",
      "refuge fold_2 finished in 705.6 seconds\n",
      "refuge fold_3 finished in 779.58 seconds\n",
      "refuge fold_4 finished in 768.88 seconds\n",
      "refuge fold_5 finished in 597.29 seconds\n",
      "papila fold_1 finished in 267.41 seconds\n",
      "papila fold_2 finished in 255.43 seconds\n",
      "papila fold_3 finished in 284.01 seconds\n",
      "papila fold_4 finished in 251.63 seconds\n",
      "papila fold_5 finished in 251.94 seconds\n"
     ]
    }
   ],
   "source": [
    "# Train the model with all dataset\n",
    "model = pre_trained_models[2]\n",
    "model_base_name = f's{scenario_names[0].split(\"_\")[-1]}_{model}'\n",
    "for dataset in dataset_names:\n",
    "    for fold in fold_names:\n",
    "        # Train the model\n",
    "        history = modeling.train_model(pre_trained=model,\n",
    "                                        model_src=path_pretrained,\n",
    "                                        model_dest=path_model_storage,\n",
    "                                        model_name=f'{model_base_name}_{dataset}_f{fold.split(\"_\")[-1]}',\n",
    "                                        dataset=dataset,\n",
    "                                        fold=fold,\n",
    "                                        datagen_train=img_gen[f'scenario_1_{dataset}_{fold}_train'],\n",
    "                                        datagen_val=img_gen[f'scenario_1_{dataset}_{fold}_val'])\n",
    "        # Store the result\n",
    "        modeling.train_result(result=history,\n",
    "                            path_store=path_result,\n",
    "                            type_name=f'{model_base_name}_{dataset}_f{fold.split(\"_\")[-1]}',)\n",
    "del dataset, fold, history, model, model_base_name"
   ]
  },
  {
   "cell_type": "markdown",
   "metadata": {},
   "source": [
    "##### Efficientnet V2 small - completed the training"
   ]
  },
  {
   "cell_type": "code",
   "execution_count": 7,
   "metadata": {},
   "outputs": [
    {
     "name": "stdout",
     "output_type": "stream",
     "text": [
      "rimone fold_1 finished in 118.93 seconds\n",
      "rimone fold_2 finished in 136.19 seconds\n",
      "rimone fold_3 finished in 135.99 seconds\n",
      "rimone fold_4 finished in 145.16 seconds\n",
      "rimone fold_5 finished in 146.42 seconds\n",
      "g1020 fold_1 finished in 762.94 seconds\n",
      "g1020 fold_2 finished in 680.22 seconds\n",
      "g1020 fold_3 finished in 610.74 seconds\n",
      "g1020 fold_4 finished in 802.5 seconds\n",
      "g1020 fold_5 finished in 1438.76 seconds\n",
      "refuge fold_1 finished in 858.33 seconds\n",
      "refuge fold_2 finished in 544.03 seconds\n",
      "refuge fold_3 finished in 526.36 seconds\n",
      "refuge fold_4 finished in 485.92 seconds\n",
      "refuge fold_5 finished in 461.79 seconds\n",
      "papila fold_1 finished in 254.28 seconds\n",
      "papila fold_2 finished in 253.67 seconds\n",
      "papila fold_3 finished in 252.41 seconds\n",
      "papila fold_4 finished in 252.21 seconds\n",
      "papila fold_5 finished in 265.02 seconds\n"
     ]
    }
   ],
   "source": [
    "# Train the model with all dataset\n",
    "model = pre_trained_models[3]\n",
    "model_base_name = f's{scenario_names[0].split(\"_\")[-1]}_{model}'\n",
    "for dataset in dataset_names:\n",
    "    for fold in fold_names:\n",
    "        # Train the model\n",
    "        history = modeling.train_model(pre_trained=model,\n",
    "                                        model_src=path_pretrained,\n",
    "                                        model_dest=path_model_storage,\n",
    "                                        model_name=f'{model_base_name}_{dataset}_f{fold.split(\"_\")[-1]}',\n",
    "                                        dataset=dataset,\n",
    "                                        fold=fold,\n",
    "                                        datagen_train=img_gen[f'scenario_1_{dataset}_{fold}_train'],\n",
    "                                        datagen_val=img_gen[f'scenario_1_{dataset}_{fold}_val'])\n",
    "        # Store the result\n",
    "        modeling.train_result(result=history,\n",
    "                            path_store=path_result,\n",
    "                            type_name=f'{model_base_name}_{dataset}_f{fold.split(\"_\")[-1]}',)\n",
    "del dataset, fold, history, model, model_base_name"
   ]
  },
  {
   "cell_type": "markdown",
   "metadata": {},
   "source": [
    "##### Efficientnet V2 middle - completed the training"
   ]
  },
  {
   "cell_type": "code",
   "execution_count": 8,
   "metadata": {},
   "outputs": [
    {
     "name": "stdout",
     "output_type": "stream",
     "text": [
      "rimone fold_1 finished in 157.69 seconds\n",
      "rimone fold_2 finished in 144.72 seconds\n",
      "rimone fold_3 finished in 143.71 seconds\n",
      "rimone fold_4 finished in 153.37 seconds\n",
      "rimone fold_5 finished in 156.69 seconds\n",
      "g1020 fold_1 finished in 603.34 seconds\n",
      "g1020 fold_2 finished in 645.74 seconds\n",
      "g1020 fold_3 finished in 652.49 seconds\n",
      "g1020 fold_4 finished in 616.19 seconds\n",
      "g1020 fold_5 finished in 741.53 seconds\n",
      "refuge fold_1 finished in 670.98 seconds\n",
      "refuge fold_2 finished in 679.52 seconds\n",
      "refuge fold_3 finished in 636.59 seconds\n",
      "refuge fold_4 finished in 674.97 seconds\n",
      "refuge fold_5 finished in 606.37 seconds\n",
      "papila fold_1 finished in 318.84 seconds\n",
      "papila fold_2 finished in 344.91 seconds\n",
      "papila fold_3 finished in 313.4 seconds\n",
      "papila fold_4 finished in 302.07 seconds\n",
      "papila fold_5 finished in 310.89 seconds\n"
     ]
    }
   ],
   "source": [
    "# Train the model with all dataset\n",
    "model = pre_trained_models[4]\n",
    "model_base_name = f's{scenario_names[0].split(\"_\")[-1]}_{model}'\n",
    "for dataset in dataset_names:\n",
    "    for fold in fold_names:\n",
    "        # Train the model\n",
    "        history = modeling.train_model(pre_trained=model,\n",
    "                                        model_src=path_pretrained,\n",
    "                                        model_dest=path_model_storage,\n",
    "                                        model_name=f'{model_base_name}_{dataset}_f{fold.split(\"_\")[-1]}',\n",
    "                                        dataset=dataset,\n",
    "                                        fold=fold,\n",
    "                                        datagen_train=img_gen[f'scenario_1_{dataset}_{fold}_train'],\n",
    "                                        datagen_val=img_gen[f'scenario_1_{dataset}_{fold}_val'])\n",
    "        # Store the result\n",
    "        modeling.train_result(result=history,\n",
    "                            path_store=path_result,\n",
    "                            type_name=f'{model_base_name}_{dataset}_f{fold.split(\"_\")[-1]}',)\n",
    "del dataset, fold, history, model, model_base_name"
   ]
  },
  {
   "cell_type": "markdown",
   "metadata": {},
   "source": [
    "##### Efficientnet V2 large - completed the training"
   ]
  },
  {
   "cell_type": "code",
   "execution_count": 5,
   "metadata": {},
   "outputs": [
    {
     "name": "stdout",
     "output_type": "stream",
     "text": [
      "refuge fold_4 finished in 669.63 seconds\n",
      "refuge fold_5 finished in 606.32 seconds\n",
      "papila fold_1 finished in 352.31 seconds\n",
      "papila fold_2 finished in 332.48 seconds\n",
      "papila fold_3 finished in 345.13 seconds\n",
      "papila fold_4 finished in 360.78 seconds\n",
      "papila fold_5 finished in 453.94 seconds\n"
     ]
    }
   ],
   "source": [
    "# Train the model with all dataset\n",
    "model = pre_trained_models[5]\n",
    "model_base_name = f's{scenario_names[0].split(\"_\")[-1]}_{model}'\n",
    "for dataset in dataset_names:\n",
    "    for fold in fold_names:\n",
    "        # Train the model\n",
    "        history = modeling.train_model(pre_trained=model,\n",
    "                                        model_src=path_pretrained,\n",
    "                                        model_dest=path_model_storage,\n",
    "                                        model_name=f'{model_base_name}_{dataset}_f{fold.split(\"_\")[-1]}',\n",
    "                                        dataset=dataset,\n",
    "                                        fold=fold,\n",
    "                                        datagen_train=img_gen[f'scenario_1_{dataset}_{fold}_train'],\n",
    "                                        datagen_val=img_gen[f'scenario_1_{dataset}_{fold}_val'])\n",
    "        # Store the result\n",
    "        modeling.train_result(result=history,\n",
    "                            path_store=path_result,\n",
    "                            type_name=f'{model_base_name}_{dataset}_f{fold.split(\"_\")[-1]}',)\n",
    "del dataset, fold, history, model, model_base_name"
   ]
  },
  {
   "cell_type": "markdown",
   "metadata": {},
   "source": [
    "#### Scenario 2"
   ]
  },
  {
   "cell_type": "markdown",
   "metadata": {},
   "source": [
    "##### Mobilenet V2 - completed the training"
   ]
  },
  {
   "cell_type": "code",
   "execution_count": 5,
   "metadata": {},
   "outputs": [
    {
     "name": "stdout",
     "output_type": "stream",
     "text": [
      "rimone fold_1 finished in 136.66 seconds\n",
      "rimone fold_2 finished in 114.28 seconds\n",
      "rimone fold_3 finished in 116.21 seconds\n",
      "rimone fold_4 finished in 115.79 seconds\n",
      "rimone fold_5 finished in 108.48 seconds\n",
      "g1020 fold_1 finished in 599.84 seconds\n",
      "g1020 fold_2 finished in 530.29 seconds\n",
      "g1020 fold_3 finished in 514.53 seconds\n",
      "g1020 fold_4 finished in 617.13 seconds\n",
      "g1020 fold_5 finished in 591.16 seconds\n",
      "refuge fold_1 finished in 489.15 seconds\n",
      "refuge fold_2 finished in 509.37 seconds\n",
      "refuge fold_3 finished in 497.92 seconds\n",
      "refuge fold_4 finished in 520.23 seconds\n",
      "refuge fold_5 finished in 547.16 seconds\n",
      "papila fold_1 finished in 292.49 seconds\n",
      "papila fold_2 finished in 298.51 seconds\n",
      "papila fold_3 finished in 279.28 seconds\n",
      "papila fold_4 finished in 278.54 seconds\n",
      "papila fold_5 finished in 315.9 seconds\n"
     ]
    }
   ],
   "source": [
    "# Train the model with all dataset\n",
    "model = pre_trained_models[0]\n",
    "model_base_name = f's{scenario_names[1].split(\"_\")[-1]}_{model}'\n",
    "for dataset in dataset_names:\n",
    "    for fold in fold_names:\n",
    "        # Train the model\n",
    "        history = modeling.train_model(pre_trained=model,\n",
    "                                        model_src=path_pretrained,\n",
    "                                        model_dest=path_model_storage,\n",
    "                                        model_name=f'{model_base_name}_{dataset}_f{fold.split(\"_\")[-1]}',\n",
    "                                        dataset=dataset,\n",
    "                                        fold=fold,\n",
    "                                        datagen_train=img_gen[f'scenario_2_{dataset}_{fold}_train_merged'],\n",
    "                                        datagen_val=img_gen[f'scenario_2_{dataset}_{fold}_val'])\n",
    "        # Store the result\n",
    "        modeling.train_result(result=history,\n",
    "                            path_store=path_result,\n",
    "                            type_name=f'{model_base_name}_{dataset}_f{fold.split(\"_\")[-1]}',)\n",
    "del dataset, fold, history, model, model_base_name"
   ]
  },
  {
   "cell_type": "markdown",
   "metadata": {},
   "source": [
    "##### Mobilenet V3 small - completed the training"
   ]
  },
  {
   "cell_type": "code",
   "execution_count": 14,
   "metadata": {},
   "outputs": [
    {
     "name": "stdout",
     "output_type": "stream",
     "text": [
      "rimone fold_1 finished in 162.95 seconds\n",
      "rimone fold_2 finished in 125.45 seconds\n",
      "rimone fold_3 finished in 117.02 seconds\n",
      "rimone fold_4 finished in 118.45 seconds\n",
      "rimone fold_5 finished in 130.72 seconds\n",
      "g1020 fold_1 finished in 681.24 seconds\n",
      "g1020 fold_2 finished in 770.3 seconds\n",
      "g1020 fold_3 finished in 736.31 seconds\n",
      "g1020 fold_4 finished in 755.2 seconds\n",
      "g1020 fold_5 finished in 719.39 seconds\n",
      "refuge fold_1 finished in 575.8 seconds\n",
      "refuge fold_2 finished in 608.53 seconds\n",
      "refuge fold_3 finished in 582.39 seconds\n",
      "refuge fold_4 finished in 576.55 seconds\n",
      "refuge fold_5 finished in 502.61 seconds\n",
      "papila fold_1 finished in 228.37 seconds\n",
      "papila fold_2 finished in 218.12 seconds\n",
      "papila fold_3 finished in 252.24 seconds\n",
      "papila fold_4 finished in 298.85 seconds\n",
      "papila fold_5 finished in 278.62 seconds\n"
     ]
    }
   ],
   "source": [
    "# Train the model with all dataset\n",
    "model = pre_trained_models[1]\n",
    "model_base_name = f's{scenario_names[1].split(\"_\")[-1]}_{model}'\n",
    "for dataset in dataset_names:\n",
    "    for fold in fold_names:\n",
    "        # Train the model\n",
    "        history = modeling.train_model(pre_trained=model,\n",
    "                                        model_src=path_pretrained,\n",
    "                                        model_dest=path_model_storage,\n",
    "                                        model_name=f'{model_base_name}_{dataset}_f{fold.split(\"_\")[-1]}',\n",
    "                                        dataset=dataset,\n",
    "                                        fold=fold,\n",
    "                                        datagen_train=img_gen[f'scenario_2_{dataset}_{fold}_train_merged'],\n",
    "                                        datagen_val=img_gen[f'scenario_2_{dataset}_{fold}_val'])\n",
    "        # Store the result\n",
    "        modeling.train_result(result=history,\n",
    "                            path_store=path_result,\n",
    "                            type_name=f'{model_base_name}_{dataset}_f{fold.split(\"_\")[-1]}',)\n",
    "del dataset, fold, history, model, model_base_name"
   ]
  },
  {
   "cell_type": "markdown",
   "metadata": {},
   "source": [
    "##### Mobilenet V3 large - completed the training"
   ]
  },
  {
   "cell_type": "code",
   "execution_count": 6,
   "metadata": {},
   "outputs": [
    {
     "name": "stdout",
     "output_type": "stream",
     "text": [
      "rimone fold_1 finished in 125.62 seconds\n",
      "rimone fold_2 finished in 118.27 seconds\n",
      "rimone fold_3 finished in 123.89 seconds\n",
      "rimone fold_4 finished in 99.56 seconds\n",
      "rimone fold_5 finished in 101.75 seconds\n",
      "g1020 fold_1 finished in 595.37 seconds\n",
      "g1020 fold_2 finished in 636.86 seconds\n",
      "g1020 fold_3 finished in 565.3 seconds\n",
      "g1020 fold_4 finished in 508.74 seconds\n",
      "g1020 fold_5 finished in 481.3 seconds\n",
      "refuge fold_1 finished in 395.06 seconds\n",
      "refuge fold_2 finished in 417.31 seconds\n",
      "refuge fold_3 finished in 582.97 seconds\n",
      "refuge fold_4 finished in 585.75 seconds\n",
      "refuge fold_5 finished in 512.63 seconds\n",
      "papila fold_1 finished in 245.4 seconds\n",
      "papila fold_2 finished in 218.79 seconds\n",
      "papila fold_3 finished in 236.58 seconds\n",
      "papila fold_4 finished in 224.92 seconds\n",
      "papila fold_5 finished in 237.18 seconds\n"
     ]
    }
   ],
   "source": [
    "# Train the model with all dataset\n",
    "model = pre_trained_models[2]\n",
    "model_base_name = f's{scenario_names[1].split(\"_\")[-1]}_{model}'\n",
    "for dataset in dataset_names:\n",
    "    for fold in fold_names:\n",
    "        # Train the model\n",
    "        history = modeling.train_model(pre_trained=model,\n",
    "                                        model_src=path_pretrained,\n",
    "                                        model_dest=path_model_storage,\n",
    "                                        model_name=f'{model_base_name}_{dataset}_f{fold.split(\"_\")[-1]}',\n",
    "                                        dataset=dataset,\n",
    "                                        fold=fold,\n",
    "                                        datagen_train=img_gen[f'scenario_2_{dataset}_{fold}_train_merged'],\n",
    "                                        datagen_val=img_gen[f'scenario_2_{dataset}_{fold}_val'])\n",
    "        # Store the result\n",
    "        modeling.train_result(result=history,\n",
    "                            path_store=path_result,\n",
    "                            type_name=f'{model_base_name}_{dataset}_f{fold.split(\"_\")[-1]}',)\n",
    "del dataset, fold, history, model, model_base_name"
   ]
  },
  {
   "cell_type": "markdown",
   "metadata": {},
   "source": [
    "##### Efficientnet V2 small - completed the training"
   ]
  },
  {
   "cell_type": "code",
   "execution_count": 7,
   "metadata": {},
   "outputs": [
    {
     "name": "stdout",
     "output_type": "stream",
     "text": [
      "rimone fold_1 finished in 205.21 seconds\n",
      "rimone fold_2 finished in 229.01 seconds\n",
      "rimone fold_3 finished in 226.48 seconds\n",
      "rimone fold_4 finished in 205.09 seconds\n",
      "rimone fold_5 finished in 199.81 seconds\n",
      "g1020 fold_1 finished in 669.66 seconds\n",
      "g1020 fold_2 finished in 675.48 seconds\n",
      "g1020 fold_3 finished in 575.83 seconds\n",
      "g1020 fold_4 finished in 619.53 seconds\n",
      "g1020 fold_5 finished in 655.62 seconds\n",
      "refuge fold_1 finished in 575.07 seconds\n",
      "refuge fold_2 finished in 579.7 seconds\n",
      "refuge fold_3 finished in 612.39 seconds\n",
      "refuge fold_4 finished in 677.79 seconds\n",
      "refuge fold_5 finished in 671.66 seconds\n",
      "papila fold_1 finished in 245.74 seconds\n",
      "papila fold_2 finished in 323.73 seconds\n",
      "papila fold_3 finished in 308.98 seconds\n",
      "papila fold_4 finished in 355.71 seconds\n",
      "papila fold_5 finished in 488.61 seconds\n"
     ]
    }
   ],
   "source": [
    "# Train the model with all dataset\n",
    "model = pre_trained_models[3]\n",
    "model_base_name = f's{scenario_names[1].split(\"_\")[-1]}_{model}'\n",
    "for dataset in dataset_names:\n",
    "    for fold in fold_names:\n",
    "        # Train the model\n",
    "        history = modeling.train_model(pre_trained=model,\n",
    "                                        model_src=path_pretrained,\n",
    "                                        model_dest=path_model_storage,\n",
    "                                        model_name=f'{model_base_name}_{dataset}_f{fold.split(\"_\")[-1]}',\n",
    "                                        dataset=dataset,\n",
    "                                        fold=fold,\n",
    "                                        datagen_train=img_gen[f'scenario_2_{dataset}_{fold}_train_merged'],\n",
    "                                        datagen_val=img_gen[f'scenario_2_{dataset}_{fold}_val'])\n",
    "        # Store the result\n",
    "        modeling.train_result(result=history,\n",
    "                            path_store=path_result,\n",
    "                            type_name=f'{model_base_name}_{dataset}_f{fold.split(\"_\")[-1]}',)\n",
    "del dataset, fold, history, model, model_base_name"
   ]
  },
  {
   "cell_type": "markdown",
   "metadata": {},
   "source": [
    "##### Efficientnet V2 middle - completed the training"
   ]
  },
  {
   "cell_type": "code",
   "execution_count": 8,
   "metadata": {},
   "outputs": [
    {
     "name": "stdout",
     "output_type": "stream",
     "text": [
      "rimone fold_1 finished in 333.12 seconds\n",
      "rimone fold_2 finished in 325.86 seconds\n",
      "rimone fold_3 finished in 362.57 seconds\n",
      "rimone fold_4 finished in 357.86 seconds\n",
      "rimone fold_5 finished in 292.5 seconds\n",
      "g1020 fold_1 finished in 1076.37 seconds\n",
      "g1020 fold_2 finished in 1100.8 seconds\n",
      "g1020 fold_3 finished in 1425.43 seconds\n",
      "g1020 fold_4 finished in 989.54 seconds\n",
      "g1020 fold_5 finished in 916.15 seconds\n",
      "refuge fold_1 finished in 922.67 seconds\n",
      "refuge fold_2 finished in 976.96 seconds\n",
      "refuge fold_3 finished in 922.12 seconds\n",
      "refuge fold_4 finished in 881.74 seconds\n",
      "refuge fold_5 finished in 831.05 seconds\n",
      "papila fold_1 finished in 423.16 seconds\n",
      "papila fold_2 finished in 413.79 seconds\n",
      "papila fold_3 finished in 403.53 seconds\n",
      "papila fold_4 finished in 324.0 seconds\n",
      "papila fold_5 finished in 280.71 seconds\n"
     ]
    }
   ],
   "source": [
    "# Train the model with all dataset\n",
    "model = pre_trained_models[4]\n",
    "model_base_name = f's{scenario_names[1].split(\"_\")[-1]}_{model}'\n",
    "for dataset in dataset_names:\n",
    "    for fold in fold_names:\n",
    "        # Train the model\n",
    "        history = modeling.train_model(pre_trained=model,\n",
    "                                        model_src=path_pretrained,\n",
    "                                        model_dest=path_model_storage,\n",
    "                                        model_name=f'{model_base_name}_{dataset}_f{fold.split(\"_\")[-1]}',\n",
    "                                        dataset=dataset,\n",
    "                                        fold=fold,\n",
    "                                        datagen_train=img_gen[f'scenario_2_{dataset}_{fold}_train_merged'],\n",
    "                                        datagen_val=img_gen[f'scenario_2_{dataset}_{fold}_val'])\n",
    "        # Store the result\n",
    "        modeling.train_result(result=history,\n",
    "                            path_store=path_result,\n",
    "                            type_name=f'{model_base_name}_{dataset}_f{fold.split(\"_\")[-1]}',)\n",
    "del dataset, fold, history, model, model_base_name"
   ]
  },
  {
   "cell_type": "markdown",
   "metadata": {},
   "source": [
    "##### Efficientnet V2 large - completed the training"
   ]
  },
  {
   "cell_type": "code",
   "execution_count": 5,
   "metadata": {},
   "outputs": [
    {
     "name": "stdout",
     "output_type": "stream",
     "text": [
      "g1020 fold_2 finished in 2814.18 seconds\n",
      "g1020 fold_3 finished in 1928.4 seconds\n",
      "g1020 fold_4 finished in 1930.59 seconds\n",
      "g1020 fold_5 finished in 1850.6 seconds\n",
      "refuge fold_1 finished in 27049.19 seconds\n",
      "papila fold_1 finished in 496.82 seconds\n",
      "papila fold_5 finished in 490.04 seconds\n"
     ]
    }
   ],
   "source": [
    "# Train the model with all dataset\n",
    "model = pre_trained_models[5]\n",
    "model_base_name = f's{scenario_names[1].split(\"_\")[-1]}_{model}'\n",
    "for dataset in dataset_names[1:]:\n",
    "    for fold in fold_names:\n",
    "        if ((dataset == dataset_names[1] and fold == fold_names[0])\n",
    "            or (dataset == dataset_names[2] and (fold == fold_names[1]\n",
    "                                                or fold == fold_names[2]\n",
    "                                                or fold == fold_names[3]\n",
    "                                                or fold == fold_names[4]))\n",
    "            or (dataset == dataset_names[3] and (fold == fold_names[1]\n",
    "                                                or fold == fold_names[2]\n",
    "                                                or fold == fold_names[3]))):\n",
    "            continue\n",
    "        # Train the model\n",
    "        history = modeling.train_model(pre_trained=model,\n",
    "                                        model_src=path_pretrained,\n",
    "                                        model_dest=path_model_storage,\n",
    "                                        model_name=f'{model_base_name}_{dataset}_f{fold.split(\"_\")[-1]}',\n",
    "                                        dataset=dataset,\n",
    "                                        fold=fold,\n",
    "                                        datagen_train=img_gen[f'scenario_2_{dataset}_{fold}_train_merged'],\n",
    "                                        datagen_val=img_gen[f'scenario_2_{dataset}_{fold}_val'])\n",
    "        # Store the result\n",
    "        modeling.train_result(result=history,\n",
    "                            path_store=path_result,\n",
    "                            type_name=f'{model_base_name}_{dataset}_f{fold.split(\"_\")[-1]}',)\n",
    "del dataset, fold, history, model, model_base_name"
   ]
  },
  {
   "cell_type": "markdown",
   "metadata": {},
   "source": [
    "#### Scenario 3"
   ]
  },
  {
   "cell_type": "markdown",
   "metadata": {},
   "source": [
    "##### Mobilenet V2 - completed the training"
   ]
  },
  {
   "cell_type": "code",
   "execution_count": 5,
   "metadata": {},
   "outputs": [
    {
     "name": "stdout",
     "output_type": "stream",
     "text": [
      "rimone fold_1 finished in 64.56 seconds\n",
      "rimone fold_2 finished in 49.39 seconds\n",
      "rimone fold_3 finished in 53.12 seconds\n",
      "rimone fold_4 finished in 50.86 seconds\n",
      "rimone fold_5 finished in 52.87 seconds\n",
      "g1020 fold_1 finished in 101.24 seconds\n",
      "g1020 fold_2 finished in 96.66 seconds\n",
      "g1020 fold_3 finished in 100.12 seconds\n",
      "g1020 fold_4 finished in 97.33 seconds\n",
      "g1020 fold_5 finished in 96.25 seconds\n",
      "refuge fold_1 finished in 112.15 seconds\n",
      "refuge fold_2 finished in 111.6 seconds\n",
      "refuge fold_3 finished in 110.62 seconds\n",
      "refuge fold_4 finished in 114.15 seconds\n",
      "refuge fold_5 finished in 109.93 seconds\n",
      "papila fold_1 finished in 52.06 seconds\n",
      "papila fold_2 finished in 50.51 seconds\n",
      "papila fold_3 finished in 50.64 seconds\n",
      "papila fold_4 finished in 52.48 seconds\n",
      "papila fold_5 finished in 49.73 seconds\n"
     ]
    }
   ],
   "source": [
    "# Train the model with all dataset\n",
    "model = pre_trained_models[0]\n",
    "model_base_name = f's{scenario_names[2].split(\"_\")[-1]}_{model}'\n",
    "for dataset in dataset_names:\n",
    "    for fold in fold_names:\n",
    "        # Train the model\n",
    "        history = modeling.train_model(pre_trained=model,\n",
    "                                        model_src=path_pretrained,\n",
    "                                        model_dest=path_model_storage,\n",
    "                                        model_name=f'{model_base_name}_{dataset}_f{fold.split(\"_\")[-1]}',\n",
    "                                        dataset=dataset,\n",
    "                                        fold=fold,\n",
    "                                        datagen_train=img_gen[f'scenario_3_{dataset}_{fold}_train_merged'],\n",
    "                                        datagen_val=img_gen[f'scenario_3_{dataset}_{fold}_val'])\n",
    "        # Store the result\n",
    "        modeling.train_result(result=history,\n",
    "                            path_store=path_result,\n",
    "                            type_name=f'{model_base_name}_{dataset}_f{fold.split(\"_\")[-1]}',)\n",
    "del dataset, fold, history, model, model_base_name"
   ]
  },
  {
   "cell_type": "markdown",
   "metadata": {},
   "source": [
    "##### Mobilenet V3 small - completed the training"
   ]
  },
  {
   "cell_type": "code",
   "execution_count": 9,
   "metadata": {},
   "outputs": [
    {
     "name": "stdout",
     "output_type": "stream",
     "text": [
      "rimone fold_1 finished in 92.44 seconds\n",
      "rimone fold_2 finished in 90.9 seconds\n",
      "rimone fold_3 finished in 111.5 seconds\n",
      "rimone fold_4 finished in 125.97 seconds\n",
      "rimone fold_5 finished in 95.59 seconds\n",
      "g1020 fold_1 finished in 202.6 seconds\n",
      "g1020 fold_2 finished in 197.04 seconds\n",
      "g1020 fold_3 finished in 190.25 seconds\n",
      "g1020 fold_4 finished in 187.93 seconds\n",
      "g1020 fold_5 finished in 186.77 seconds\n",
      "refuge fold_1 finished in 214.32 seconds\n",
      "refuge fold_2 finished in 129.04 seconds\n",
      "refuge fold_3 finished in 126.67 seconds\n",
      "refuge fold_4 finished in 201.94 seconds\n",
      "refuge fold_5 finished in 202.67 seconds\n",
      "papila fold_1 finished in 94.67 seconds\n",
      "papila fold_2 finished in 99.88 seconds\n",
      "papila fold_3 finished in 94.77 seconds\n",
      "papila fold_4 finished in 87.42 seconds\n",
      "papila fold_5 finished in 88.21 seconds\n"
     ]
    }
   ],
   "source": [
    "# Train the model with all dataset\n",
    "model = pre_trained_models[1]\n",
    "model_base_name = f's{scenario_names[2].split(\"_\")[-1]}_{model}'\n",
    "for dataset in dataset_names:\n",
    "    for fold in fold_names:\n",
    "        # Train the model\n",
    "        history = modeling.train_model(pre_trained=model,\n",
    "                                        model_src=path_pretrained,\n",
    "                                        model_dest=path_model_storage,\n",
    "                                        model_name=f'{model_base_name}_{dataset}_f{fold.split(\"_\")[-1]}',\n",
    "                                        dataset=dataset,\n",
    "                                        fold=fold,\n",
    "                                        datagen_train=img_gen[f'scenario_3_{dataset}_{fold}_train_merged'],\n",
    "                                        datagen_val=img_gen[f'scenario_3_{dataset}_{fold}_val'])\n",
    "        # Store the result\n",
    "        modeling.train_result(result=history,\n",
    "                            path_store=path_result,\n",
    "                            type_name=f'{model_base_name}_{dataset}_f{fold.split(\"_\")[-1]}',)\n",
    "del dataset, fold, history, model, model_base_name"
   ]
  },
  {
   "cell_type": "markdown",
   "metadata": {},
   "source": [
    "##### Mobilenet V3 large -  completed the training"
   ]
  },
  {
   "cell_type": "code",
   "execution_count": 5,
   "metadata": {},
   "outputs": [
    {
     "name": "stdout",
     "output_type": "stream",
     "text": [
      "rimone fold_1 finished in 64.65 seconds\n",
      "rimone fold_2 finished in 51.33 seconds\n",
      "rimone fold_3 finished in 51.08 seconds\n",
      "rimone fold_4 finished in 51.61 seconds\n",
      "rimone fold_5 finished in 50.94 seconds\n",
      "g1020 fold_1 finished in 96.51 seconds\n",
      "g1020 fold_2 finished in 94.08 seconds\n",
      "g1020 fold_3 finished in 92.2 seconds\n",
      "g1020 fold_4 finished in 93.13 seconds\n",
      "g1020 fold_5 finished in 92.26 seconds\n",
      "refuge fold_1 finished in 107.43 seconds\n",
      "refuge fold_2 finished in 106.85 seconds\n",
      "refuge fold_3 finished in 106.44 seconds\n",
      "refuge fold_4 finished in 106.13 seconds\n",
      "refuge fold_5 finished in 105.27 seconds\n",
      "papila fold_1 finished in 50.11 seconds\n",
      "papila fold_2 finished in 48.5 seconds\n",
      "papila fold_3 finished in 48.53 seconds\n",
      "papila fold_4 finished in 49.06 seconds\n",
      "papila fold_5 finished in 48.44 seconds\n"
     ]
    }
   ],
   "source": [
    "# Train the model with all dataset\n",
    "model = pre_trained_models[2]\n",
    "model_base_name = f's{scenario_names[2].split(\"_\")[-1]}_{model}'\n",
    "for dataset in dataset_names:\n",
    "    for fold in fold_names:\n",
    "        # Train the model\n",
    "        history = modeling.train_model(pre_trained=model,\n",
    "                                        model_src=path_pretrained,\n",
    "                                        model_dest=path_model_storage,\n",
    "                                        model_name=f'{model_base_name}_{dataset}_f{fold.split(\"_\")[-1]}',\n",
    "                                        dataset=dataset,\n",
    "                                        fold=fold,\n",
    "                                        datagen_train=img_gen[f'scenario_3_{dataset}_{fold}_train_merged'],\n",
    "                                        datagen_val=img_gen[f'scenario_3_{dataset}_{fold}_val'])\n",
    "        # Store the result\n",
    "        modeling.train_result(result=history,\n",
    "                            path_store=path_result,\n",
    "                            type_name=f'{model_base_name}_{dataset}_f{fold.split(\"_\")[-1]}',)\n",
    "del dataset, fold, history, model, model_base_name"
   ]
  },
  {
   "cell_type": "markdown",
   "metadata": {},
   "source": [
    "##### Efficientnet V2 small - completed the training"
   ]
  },
  {
   "cell_type": "code",
   "execution_count": 10,
   "metadata": {},
   "outputs": [
    {
     "name": "stdout",
     "output_type": "stream",
     "text": [
      "rimone fold_1 finished in 172.26 seconds\n",
      "rimone fold_2 finished in 158.42 seconds\n",
      "rimone fold_3 finished in 154.87 seconds\n",
      "rimone fold_4 finished in 156.04 seconds\n",
      "rimone fold_5 finished in 152.0 seconds\n",
      "g1020 fold_1 finished in 289.34 seconds\n",
      "g1020 fold_2 finished in 290.46 seconds\n",
      "g1020 fold_3 finished in 286.81 seconds\n",
      "g1020 fold_4 finished in 289.86 seconds\n",
      "g1020 fold_5 finished in 285.57 seconds\n",
      "refuge fold_1 finished in 331.81 seconds\n",
      "refuge fold_2 finished in 379.44 seconds\n",
      "refuge fold_3 finished in 440.01 seconds\n",
      "refuge fold_4 finished in 442.98 seconds\n",
      "refuge fold_5 finished in 441.22 seconds\n",
      "papila fold_1 finished in 204.81 seconds\n",
      "papila fold_2 finished in 192.55 seconds\n",
      "papila fold_3 finished in 191.59 seconds\n",
      "papila fold_4 finished in 217.84 seconds\n",
      "papila fold_5 finished in 169.24 seconds\n"
     ]
    }
   ],
   "source": [
    "# Train the model with all dataset\n",
    "model = pre_trained_models[3]\n",
    "model_base_name = f's{scenario_names[2].split(\"_\")[-1]}_{model}'\n",
    "for dataset in dataset_names:\n",
    "    for fold in fold_names:\n",
    "        # Train the model\n",
    "        history = modeling.train_model(pre_trained=model,\n",
    "                                        model_src=path_pretrained,\n",
    "                                        model_dest=path_model_storage,\n",
    "                                        model_name=f'{model_base_name}_{dataset}_f{fold.split(\"_\")[-1]}',\n",
    "                                        dataset=dataset,\n",
    "                                        fold=fold,\n",
    "                                        datagen_train=img_gen[f'scenario_3_{dataset}_{fold}_train_merged'],\n",
    "                                        datagen_val=img_gen[f'scenario_3_{dataset}_{fold}_val'])\n",
    "        # Store the result\n",
    "        modeling.train_result(result=history,\n",
    "                            path_store=path_result,\n",
    "                            type_name=f'{model_base_name}_{dataset}_f{fold.split(\"_\")[-1]}',)\n",
    "del dataset, fold, history, model, model_base_name"
   ]
  },
  {
   "cell_type": "markdown",
   "metadata": {},
   "source": [
    "##### Efficientnet V2 middle - completed the training"
   ]
  },
  {
   "cell_type": "code",
   "execution_count": 6,
   "metadata": {},
   "outputs": [
    {
     "name": "stdout",
     "output_type": "stream",
     "text": [
      "rimone fold_1 finished in 228.93 seconds\n",
      "rimone fold_2 finished in 221.87 seconds\n",
      "rimone fold_3 finished in 227.28 seconds\n",
      "rimone fold_4 finished in 225.93 seconds\n",
      "rimone fold_5 finished in 225.17 seconds\n",
      "g1020 fold_1 finished in 439.24 seconds\n",
      "g1020 fold_2 finished in 436.89 seconds\n",
      "g1020 fold_3 finished in 439.43 seconds\n",
      "g1020 fold_4 finished in 437.06 seconds\n",
      "g1020 fold_5 finished in 436.47 seconds\n",
      "refuge fold_1 finished in 510.9 seconds\n",
      "refuge fold_2 finished in 696.82 seconds\n",
      "refuge fold_3 finished in 702.66 seconds\n",
      "refuge fold_4 finished in 726.2 seconds\n",
      "refuge fold_5 finished in 984.43 seconds\n",
      "papila fold_1 finished in 230.98 seconds\n",
      "papila fold_2 finished in 233.38 seconds\n",
      "papila fold_3 finished in 229.57 seconds\n",
      "papila fold_4 finished in 247.51 seconds\n",
      "papila fold_5 finished in 279.27 seconds\n"
     ]
    }
   ],
   "source": [
    "# Train the model with all dataset\n",
    "model = pre_trained_models[4]\n",
    "model_base_name = f's{scenario_names[2].split(\"_\")[-1]}_{model}'\n",
    "for dataset in dataset_names:\n",
    "    for fold in fold_names:\n",
    "        # Train the model\n",
    "        history = modeling.train_model(pre_trained=model,\n",
    "                                        model_src=path_pretrained,\n",
    "                                        model_dest=path_model_storage,\n",
    "                                        model_name=f'{model_base_name}_{dataset}_f{fold.split(\"_\")[-1]}',\n",
    "                                        dataset=dataset,\n",
    "                                        fold=fold,\n",
    "                                        datagen_train=img_gen[f'scenario_3_{dataset}_{fold}_train_merged'],\n",
    "                                        datagen_val=img_gen[f'scenario_3_{dataset}_{fold}_val'])\n",
    "        # Store the result\n",
    "        modeling.train_result(result=history,\n",
    "                            path_store=path_result,\n",
    "                            type_name=f'{model_base_name}_{dataset}_f{fold.split(\"_\")[-1]}',)\n",
    "del dataset, fold, history, model, model_base_name"
   ]
  },
  {
   "cell_type": "markdown",
   "metadata": {},
   "source": [
    "##### Efficientnet V2 large - completed the training"
   ]
  },
  {
   "cell_type": "code",
   "execution_count": 5,
   "metadata": {},
   "outputs": [
    {
     "name": "stdout",
     "output_type": "stream",
     "text": [
      "refuge fold_5 finished in 2143.31 seconds\n",
      "papila fold_1 finished in 918.67 seconds\n",
      "papila fold_2 finished in 934.35 seconds\n",
      "papila fold_3 finished in 937.85 seconds\n",
      "papila fold_4 finished in 966.93 seconds\n",
      "papila fold_5 finished in 1142.54 seconds\n"
     ]
    }
   ],
   "source": [
    "# Train the model with all dataset\n",
    "model = pre_trained_models[5]\n",
    "model_base_name = f's{scenario_names[2].split(\"_\")[-1]}_{model}'\n",
    "for dataset in dataset_names[2:]:\n",
    "    for fold in fold_names:\n",
    "        if dataset == dataset_names[2] and (fold == fold_names[0]\n",
    "                                            or fold == fold_names[1]\n",
    "                                            or fold == fold_names[2]\n",
    "                                            or fold == fold_names[3]):\n",
    "            continue\n",
    "        # Train the model\n",
    "        history = modeling.train_model(pre_trained=model,\n",
    "                                        model_src=path_pretrained,\n",
    "                                        model_dest=path_model_storage,\n",
    "                                        model_name=f'{model_base_name}_{dataset}_f{fold.split(\"_\")[-1]}',\n",
    "                                        dataset=dataset,\n",
    "                                        fold=fold,\n",
    "                                        datagen_train=img_gen[f'scenario_3_{dataset}_{fold}_train_merged'],\n",
    "                                        datagen_val=img_gen[f'scenario_3_{dataset}_{fold}_val'])\n",
    "        # Store the result\n",
    "        modeling.train_result(result=history,\n",
    "                            path_store=path_result,\n",
    "                            type_name=f'{model_base_name}_{dataset}_f{fold.split(\"_\")[-1]}',)\n",
    "del dataset, fold, history, model, model_base_name"
   ]
  }
 ],
 "metadata": {
  "kernelspec": {
   "display_name": "env_skripsi",
   "language": "python",
   "name": "python3"
  },
  "language_info": {
   "codemirror_mode": {
    "name": "ipython",
    "version": 3
   },
   "file_extension": ".py",
   "mimetype": "text/x-python",
   "name": "python",
   "nbconvert_exporter": "python",
   "pygments_lexer": "ipython3",
   "version": "3.10.13"
  }
 },
 "nbformat": 4,
 "nbformat_minor": 2
}
