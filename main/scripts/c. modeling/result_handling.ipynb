{
 "cells": [
  {
   "cell_type": "code",
   "execution_count": 1,
   "metadata": {},
   "outputs": [],
   "source": [
    "import os\n",
    "import sys\n",
    "from dotenv import load_dotenv\n",
    "\n",
    "load_dotenv()\n",
    "sys.path.append(os.environ.get('PATH_CUSTOM_MODULES'))\n",
    "\n",
    "import modeling"
   ]
  },
  {
   "cell_type": "markdown",
   "metadata": {},
   "source": [
    "### Prepare all basic variable"
   ]
  },
  {
   "cell_type": "code",
   "execution_count": 2,
   "metadata": {},
   "outputs": [],
   "source": [
    "path_result = os.environ.get('PATH_TEST_RESULT')\n",
    "path_storage = os.environ.get('PATH_EVALUATION_RESULT')"
   ]
  },
  {
   "cell_type": "markdown",
   "metadata": {},
   "source": [
    "### Getting the result data"
   ]
  },
  {
   "cell_type": "code",
   "execution_count": 3,
   "metadata": {},
   "outputs": [],
   "source": [
    "result = modeling.merge_result_data(path_src=path_result)"
   ]
  },
  {
   "cell_type": "code",
   "execution_count": 4,
   "metadata": {},
   "outputs": [],
   "source": [
    "result.to_csv(os.path.join(path_storage,\n",
    "                            'merge_result.csv'),\n",
    "                index=False)"
   ]
  },
  {
   "cell_type": "markdown",
   "metadata": {},
   "source": [
    "### Get the final result from cross validation"
   ]
  },
  {
   "cell_type": "code",
   "execution_count": 5,
   "metadata": {},
   "outputs": [],
   "source": [
    "result.drop(columns=['fold'], inplace=True)\n",
    "result_final = result.groupby(by=['scenario', 'model', 'dataset']).agg('mean')"
   ]
  },
  {
   "cell_type": "markdown",
   "metadata": {},
   "source": [
    "### Get the F1-score"
   ]
  },
  {
   "cell_type": "code",
   "execution_count": 6,
   "metadata": {},
   "outputs": [],
   "source": [
    "result_final['f1_score'] = 2*((result_final['precision'] * result_final['sensitivity'])\n",
    "                                / (result_final['precision'] + result_final['sensitivity']))"
   ]
  },
  {
   "cell_type": "code",
   "execution_count": 7,
   "metadata": {},
   "outputs": [],
   "source": [
    "result_final.reset_index(level=[0,1,2], inplace=True)"
   ]
  },
  {
   "cell_type": "code",
   "execution_count": 8,
   "metadata": {},
   "outputs": [],
   "source": [
    "result_final.to_csv(os.path.join(path_storage,\n",
    "                                'merge_result_final.csv'),\n",
    "                    index=False)"
   ]
  },
  {
   "cell_type": "markdown",
   "metadata": {},
   "source": [
    "### Analyze the result"
   ]
  },
  {
   "cell_type": "markdown",
   "metadata": {},
   "source": [
    "#### By scenario"
   ]
  },
  {
   "cell_type": "markdown",
   "metadata": {},
   "source": [
    "##### Scenario 1"
   ]
  },
  {
   "cell_type": "code",
   "execution_count": 9,
   "metadata": {},
   "outputs": [
    {
     "name": "stderr",
     "output_type": "stream",
     "text": [
      "C:\\Users\\Bugi\\AppData\\Local\\Temp\\ipykernel_17068\\975166161.py:4: SettingWithCopyWarning: \n",
      "A value is trying to be set on a copy of a slice from a DataFrame\n",
      "\n",
      "See the caveats in the documentation: https://pandas.pydata.org/pandas-docs/stable/user_guide/indexing.html#returning-a-view-versus-a-copy\n",
      "  s1_result.drop(columns=['scenario', 'loss', 'sensitivity'], inplace=True)\n",
      "C:\\Users\\Bugi\\AppData\\Local\\Temp\\ipykernel_17068\\975166161.py:5: SettingWithCopyWarning: \n",
      "A value is trying to be set on a copy of a slice from a DataFrame\n",
      "\n",
      "See the caveats in the documentation: https://pandas.pydata.org/pandas-docs/stable/user_guide/indexing.html#returning-a-view-versus-a-copy\n",
      "  s1_result.sort_values(by=['auc', 'f1_score', 'accuracy', 'precision'], ascending=False, inplace=True)\n"
     ]
    },
    {
     "data": {
      "text/html": [
       "<div>\n",
       "<style scoped>\n",
       "    .dataframe tbody tr th:only-of-type {\n",
       "        vertical-align: middle;\n",
       "    }\n",
       "\n",
       "    .dataframe tbody tr th {\n",
       "        vertical-align: top;\n",
       "    }\n",
       "\n",
       "    .dataframe thead th {\n",
       "        text-align: right;\n",
       "    }\n",
       "</style>\n",
       "<table border=\"1\" class=\"dataframe\">\n",
       "  <thead>\n",
       "    <tr style=\"text-align: right;\">\n",
       "      <th></th>\n",
       "      <th>model</th>\n",
       "      <th>dataset</th>\n",
       "      <th>auc</th>\n",
       "      <th>f1_score</th>\n",
       "      <th>accuracy</th>\n",
       "      <th>precision</th>\n",
       "    </tr>\n",
       "  </thead>\n",
       "  <tbody>\n",
       "    <tr>\n",
       "      <th>14</th>\n",
       "      <td>mobilenet_v2</td>\n",
       "      <td>refuge</td>\n",
       "      <td>0.921856</td>\n",
       "      <td>0.965448</td>\n",
       "      <td>0.936667</td>\n",
       "      <td>0.949065</td>\n",
       "    </tr>\n",
       "    <tr>\n",
       "      <th>15</th>\n",
       "      <td>mobilenet_v2</td>\n",
       "      <td>rimone</td>\n",
       "      <td>0.893726</td>\n",
       "      <td>0.861264</td>\n",
       "      <td>0.812371</td>\n",
       "      <td>0.838678</td>\n",
       "    </tr>\n",
       "    <tr>\n",
       "      <th>13</th>\n",
       "      <td>mobilenet_v2</td>\n",
       "      <td>papila</td>\n",
       "      <td>0.732516</td>\n",
       "      <td>0.802653</td>\n",
       "      <td>0.709110</td>\n",
       "      <td>0.764606</td>\n",
       "    </tr>\n",
       "    <tr>\n",
       "      <th>10</th>\n",
       "      <td>efficientnet_v2s</td>\n",
       "      <td>refuge</td>\n",
       "      <td>0.691995</td>\n",
       "      <td>0.947785</td>\n",
       "      <td>0.900833</td>\n",
       "      <td>0.900753</td>\n",
       "    </tr>\n",
       "    <tr>\n",
       "      <th>7</th>\n",
       "      <td>efficientnet_v2m</td>\n",
       "      <td>rimone</td>\n",
       "      <td>0.669245</td>\n",
       "      <td>0.784461</td>\n",
       "      <td>0.645361</td>\n",
       "      <td>0.645361</td>\n",
       "    </tr>\n",
       "  </tbody>\n",
       "</table>\n",
       "</div>"
      ],
      "text/plain": [
       "               model dataset       auc  f1_score  accuracy  precision\n",
       "14      mobilenet_v2  refuge  0.921856  0.965448  0.936667   0.949065\n",
       "15      mobilenet_v2  rimone  0.893726  0.861264  0.812371   0.838678\n",
       "13      mobilenet_v2  papila  0.732516  0.802653  0.709110   0.764606\n",
       "10  efficientnet_v2s  refuge  0.691995  0.947785  0.900833   0.900753\n",
       "7   efficientnet_v2m  rimone  0.669245  0.784461  0.645361   0.645361"
      ]
     },
     "execution_count": 9,
     "metadata": {},
     "output_type": "execute_result"
    }
   ],
   "source": [
    "# the general result\n",
    "s1_result = result_final.groupby(by='scenario').get_group('scenario_1')\n",
    "\n",
    "s1_result.drop(columns=['scenario', 'loss', 'sensitivity'], inplace=True)\n",
    "s1_result.sort_values(by=['auc', 'f1_score', 'accuracy', 'precision'], ascending=False, inplace=True)\n",
    "s1_result = s1_result.loc[:, ['model', 'dataset', 'auc', 'f1_score', 'accuracy', 'precision']]\n",
    "\n",
    "s1_result.head(5)"
   ]
  },
  {
   "cell_type": "code",
   "execution_count": 17,
   "metadata": {},
   "outputs": [
    {
     "data": {
      "text/html": [
       "<div>\n",
       "<style scoped>\n",
       "    .dataframe tbody tr th:only-of-type {\n",
       "        vertical-align: middle;\n",
       "    }\n",
       "\n",
       "    .dataframe tbody tr th {\n",
       "        vertical-align: top;\n",
       "    }\n",
       "\n",
       "    .dataframe thead th {\n",
       "        text-align: right;\n",
       "    }\n",
       "</style>\n",
       "<table border=\"1\" class=\"dataframe\">\n",
       "  <thead>\n",
       "    <tr style=\"text-align: right;\">\n",
       "      <th></th>\n",
       "      <th>model</th>\n",
       "      <th>auc</th>\n",
       "      <th>f1_score</th>\n",
       "      <th>accuracy</th>\n",
       "      <th>precision</th>\n",
       "    </tr>\n",
       "  </thead>\n",
       "  <tbody>\n",
       "    <tr>\n",
       "      <th>3</th>\n",
       "      <td>mobilenet_v2</td>\n",
       "      <td>0.754255</td>\n",
       "      <td>0.851743</td>\n",
       "      <td>0.777037</td>\n",
       "      <td>0.814453</td>\n",
       "    </tr>\n",
       "    <tr>\n",
       "      <th>4</th>\n",
       "      <td>mobilenet_v3large</td>\n",
       "      <td>0.569536</td>\n",
       "      <td>0.843095</td>\n",
       "      <td>0.733967</td>\n",
       "      <td>0.734342</td>\n",
       "    </tr>\n",
       "    <tr>\n",
       "      <th>2</th>\n",
       "      <td>efficientnet_v2s</td>\n",
       "      <td>0.565082</td>\n",
       "      <td>0.843135</td>\n",
       "      <td>0.735087</td>\n",
       "      <td>0.735919</td>\n",
       "    </tr>\n",
       "    <tr>\n",
       "      <th>0</th>\n",
       "      <td>efficientnet_v2l</td>\n",
       "      <td>0.564681</td>\n",
       "      <td>0.843326</td>\n",
       "      <td>0.734383</td>\n",
       "      <td>0.734383</td>\n",
       "    </tr>\n",
       "    <tr>\n",
       "      <th>1</th>\n",
       "      <td>efficientnet_v2m</td>\n",
       "      <td>0.562365</td>\n",
       "      <td>0.843326</td>\n",
       "      <td>0.734383</td>\n",
       "      <td>0.734383</td>\n",
       "    </tr>\n",
       "    <tr>\n",
       "      <th>5</th>\n",
       "      <td>mobilenet_v3small</td>\n",
       "      <td>0.528678</td>\n",
       "      <td>0.762229</td>\n",
       "      <td>0.697975</td>\n",
       "      <td>0.666179</td>\n",
       "    </tr>\n",
       "  </tbody>\n",
       "</table>\n",
       "</div>"
      ],
      "text/plain": [
       "               model       auc  f1_score  accuracy  precision\n",
       "3       mobilenet_v2  0.754255  0.851743  0.777037   0.814453\n",
       "4  mobilenet_v3large  0.569536  0.843095  0.733967   0.734342\n",
       "2   efficientnet_v2s  0.565082  0.843135  0.735087   0.735919\n",
       "0   efficientnet_v2l  0.564681  0.843326  0.734383   0.734383\n",
       "1   efficientnet_v2m  0.562365  0.843326  0.734383   0.734383\n",
       "5  mobilenet_v3small  0.528678  0.762229  0.697975   0.666179"
      ]
     },
     "execution_count": 17,
     "metadata": {},
     "output_type": "execute_result"
    }
   ],
   "source": [
    "# summarize only the model\n",
    "s1_result_sumarize = s1_result[['model',\n",
    "                                'auc',\n",
    "                                'f1_score',\n",
    "                                'accuracy',\n",
    "                                'precision']].groupby(by='model').agg('mean')\n",
    "\n",
    "s1_result_sumarize.reset_index(level=0, inplace=True)\n",
    "s1_result_sumarize.sort_values(by=['auc', 'f1_score', 'accuracy', 'precision'], ascending=False, inplace=True)\n",
    "\n",
    "s1_result_sumarize"
   ]
  }
 ],
 "metadata": {
  "kernelspec": {
   "display_name": "env_skripsi",
   "language": "python",
   "name": "python3"
  },
  "language_info": {
   "codemirror_mode": {
    "name": "ipython",
    "version": 3
   },
   "file_extension": ".py",
   "mimetype": "text/x-python",
   "name": "python",
   "nbconvert_exporter": "python",
   "pygments_lexer": "ipython3",
   "version": "3.10.13"
  }
 },
 "nbformat": 4,
 "nbformat_minor": 2
}
