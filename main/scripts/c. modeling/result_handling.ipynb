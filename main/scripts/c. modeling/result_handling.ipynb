{
 "cells": [
  {
   "cell_type": "code",
   "execution_count": 1,
   "metadata": {},
   "outputs": [],
   "source": [
    "import os\n",
    "import sys\n",
    "from dotenv import load_dotenv\n",
    "\n",
    "load_dotenv()\n",
    "sys.path.append(os.environ.get('PATH_CUSTOM_MODULES'))\n",
    "\n",
    "import modeling"
   ]
  },
  {
   "cell_type": "markdown",
   "metadata": {},
   "source": [
    "### Prepare all basic variable"
   ]
  },
  {
   "cell_type": "code",
   "execution_count": 2,
   "metadata": {},
   "outputs": [],
   "source": [
    "path_result = os.environ.get('PATH_TEST_RESULT')"
   ]
  },
  {
   "cell_type": "markdown",
   "metadata": {},
   "source": [
    "### Getting the result data"
   ]
  },
  {
   "cell_type": "code",
   "execution_count": 3,
   "metadata": {},
   "outputs": [],
   "source": [
    "result = modeling.merge_result_data(path_src=path_result)"
   ]
  },
  {
   "cell_type": "markdown",
   "metadata": {},
   "source": [
    "### Analyze the result"
   ]
  },
  {
   "cell_type": "markdown",
   "metadata": {},
   "source": [
    "#### By scenario"
   ]
  },
  {
   "cell_type": "code",
   "execution_count": 4,
   "metadata": {},
   "outputs": [
    {
     "data": {
      "text/html": [
       "<div>\n",
       "<style scoped>\n",
       "    .dataframe tbody tr th:only-of-type {\n",
       "        vertical-align: middle;\n",
       "    }\n",
       "\n",
       "    .dataframe tbody tr th {\n",
       "        vertical-align: top;\n",
       "    }\n",
       "\n",
       "    .dataframe thead th {\n",
       "        text-align: right;\n",
       "    }\n",
       "</style>\n",
       "<table border=\"1\" class=\"dataframe\">\n",
       "  <thead>\n",
       "    <tr style=\"text-align: right;\">\n",
       "      <th></th>\n",
       "      <th>model</th>\n",
       "      <th>scenario</th>\n",
       "      <th>dataset</th>\n",
       "      <th>fold</th>\n",
       "      <th>loss</th>\n",
       "      <th>accuracy</th>\n",
       "      <th>auc</th>\n",
       "      <th>precision</th>\n",
       "      <th>sensitivity</th>\n",
       "    </tr>\n",
       "  </thead>\n",
       "  <tbody>\n",
       "    <tr>\n",
       "      <th>0</th>\n",
       "      <td>efficientnet_v2l</td>\n",
       "      <td>scenario_1</td>\n",
       "      <td>g1020</td>\n",
       "      <td>fold_1</td>\n",
       "      <td>0.600535</td>\n",
       "      <td>0.710784</td>\n",
       "      <td>0.499825</td>\n",
       "      <td>0.710784</td>\n",
       "      <td>1.0</td>\n",
       "    </tr>\n",
       "    <tr>\n",
       "      <th>1</th>\n",
       "      <td>efficientnet_v2l</td>\n",
       "      <td>scenario_1</td>\n",
       "      <td>g1020</td>\n",
       "      <td>fold_2</td>\n",
       "      <td>0.600128</td>\n",
       "      <td>0.710784</td>\n",
       "      <td>0.492344</td>\n",
       "      <td>0.710784</td>\n",
       "      <td>1.0</td>\n",
       "    </tr>\n",
       "    <tr>\n",
       "      <th>2</th>\n",
       "      <td>efficientnet_v2l</td>\n",
       "      <td>scenario_1</td>\n",
       "      <td>g1020</td>\n",
       "      <td>fold_3</td>\n",
       "      <td>0.604033</td>\n",
       "      <td>0.710784</td>\n",
       "      <td>0.483226</td>\n",
       "      <td>0.710784</td>\n",
       "      <td>1.0</td>\n",
       "    </tr>\n",
       "    <tr>\n",
       "      <th>3</th>\n",
       "      <td>efficientnet_v2l</td>\n",
       "      <td>scenario_1</td>\n",
       "      <td>g1020</td>\n",
       "      <td>fold_4</td>\n",
       "      <td>0.604934</td>\n",
       "      <td>0.710784</td>\n",
       "      <td>0.472005</td>\n",
       "      <td>0.710784</td>\n",
       "      <td>1.0</td>\n",
       "    </tr>\n",
       "    <tr>\n",
       "      <th>4</th>\n",
       "      <td>efficientnet_v2l</td>\n",
       "      <td>scenario_1</td>\n",
       "      <td>g1020</td>\n",
       "      <td>fold_5</td>\n",
       "      <td>0.606896</td>\n",
       "      <td>0.705882</td>\n",
       "      <td>0.536169</td>\n",
       "      <td>0.705882</td>\n",
       "      <td>1.0</td>\n",
       "    </tr>\n",
       "  </tbody>\n",
       "</table>\n",
       "</div>"
      ],
      "text/plain": [
       "              model    scenario dataset    fold      loss  accuracy       auc  \\\n",
       "0  efficientnet_v2l  scenario_1   g1020  fold_1  0.600535  0.710784  0.499825   \n",
       "1  efficientnet_v2l  scenario_1   g1020  fold_2  0.600128  0.710784  0.492344   \n",
       "2  efficientnet_v2l  scenario_1   g1020  fold_3  0.604033  0.710784  0.483226   \n",
       "3  efficientnet_v2l  scenario_1   g1020  fold_4  0.604934  0.710784  0.472005   \n",
       "4  efficientnet_v2l  scenario_1   g1020  fold_5  0.606896  0.705882  0.536169   \n",
       "\n",
       "   precision  sensitivity  \n",
       "0   0.710784          1.0  \n",
       "1   0.710784          1.0  \n",
       "2   0.710784          1.0  \n",
       "3   0.710784          1.0  \n",
       "4   0.705882          1.0  "
      ]
     },
     "execution_count": 4,
     "metadata": {},
     "output_type": "execute_result"
    }
   ],
   "source": [
    "result"
   ]
  }
 ],
 "metadata": {
  "kernelspec": {
   "display_name": "env_skripsi",
   "language": "python",
   "name": "python3"
  },
  "language_info": {
   "codemirror_mode": {
    "name": "ipython",
    "version": 3
   },
   "file_extension": ".py",
   "mimetype": "text/x-python",
   "name": "python",
   "nbconvert_exporter": "python",
   "pygments_lexer": "ipython3",
   "version": "3.10.13"
  }
 },
 "nbformat": 4,
 "nbformat_minor": 2
}
