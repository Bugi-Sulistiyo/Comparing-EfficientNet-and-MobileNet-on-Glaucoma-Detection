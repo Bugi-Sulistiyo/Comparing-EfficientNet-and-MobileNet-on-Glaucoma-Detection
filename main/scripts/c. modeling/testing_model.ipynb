{
 "cells": [
  {
   "cell_type": "code",
   "execution_count": 1,
   "metadata": {},
   "outputs": [],
   "source": [
    "import os\n",
    "import sys\n",
    "from dotenv import load_dotenv\n",
    "\n",
    "load_dotenv()\n",
    "sys.path.append(os.environ.get('PATH_CUSTOM_MODULES'))\n",
    "\n",
    "import modeling"
   ]
  },
  {
   "cell_type": "markdown",
   "metadata": {},
   "source": [
    "### Prepare all basic variable"
   ]
  },
  {
   "cell_type": "code",
   "execution_count": 2,
   "metadata": {},
   "outputs": [],
   "source": [
    "path_source = os.environ.get('PATH_DATASET_DESTINATION')\n",
    "path_model = os.environ.get('PATH_MODEL')\n",
    "path_result = os.environ.get('PATH_TEST_RESULT')\n",
    "scenario_names = ['scenario_1', 'scenario_2', 'scenario_3']\n",
    "dataset_names = ['rimone', 'g1020', 'refuge', 'papila']\n",
    "fold_names = ['fold_1', 'fold_2', 'fold_3', 'fold_4', 'fold_5']\n",
    "pre_trained_models = ['mobilenet_v2', 'mobilenet_v3small', 'mobilenet_v3large',\n",
    "                'efficientnet_v2s', 'efficientnet_v2m', 'efficientnet_v2l']"
   ]
  },
  {
   "cell_type": "markdown",
   "metadata": {},
   "source": [
    "### Prepare the path source"
   ]
  },
  {
   "cell_type": "code",
   "execution_count": 3,
   "metadata": {},
   "outputs": [],
   "source": [
    "path_dataset_src = modeling.get_path(scenario_names=scenario_names,\n",
    "                                    dataset_names=dataset_names,\n",
    "                                    fold_names=fold_names,\n",
    "                                    path_source=path_source)"
   ]
  },
  {
   "cell_type": "markdown",
   "metadata": {},
   "source": [
    "### Prepare the image generator"
   ]
  },
  {
   "cell_type": "code",
   "execution_count": 4,
   "metadata": {},
   "outputs": [
    {
     "name": "stdout",
     "output_type": "stream",
     "text": [
      "Creating image data generator for scenario_1 rimone fold_1 test\n",
      "Found 97 images belonging to 2 classes.\n",
      "Creating image data generator for scenario_1 rimone fold_2 test\n",
      "Found 97 images belonging to 2 classes.\n",
      "Creating image data generator for scenario_1 rimone fold_3 test\n",
      "Found 97 images belonging to 2 classes.\n",
      "Creating image data generator for scenario_1 rimone fold_4 test\n",
      "Found 97 images belonging to 2 classes.\n",
      "Creating image data generator for scenario_1 rimone fold_5 test\n",
      "Found 97 images belonging to 2 classes.\n",
      "Creating image data generator for scenario_1 g1020 fold_1 test\n",
      "Found 204 images belonging to 2 classes.\n",
      "Creating image data generator for scenario_1 g1020 fold_2 test\n",
      "Found 204 images belonging to 2 classes.\n"
     ]
    },
    {
     "name": "stdout",
     "output_type": "stream",
     "text": [
      "Creating image data generator for scenario_1 g1020 fold_3 test\n",
      "Found 204 images belonging to 2 classes.\n",
      "Creating image data generator for scenario_1 g1020 fold_4 test\n",
      "Found 204 images belonging to 2 classes.\n",
      "Creating image data generator for scenario_1 g1020 fold_5 test\n",
      "Found 204 images belonging to 2 classes.\n",
      "Creating image data generator for scenario_1 refuge fold_1 test\n",
      "Found 240 images belonging to 2 classes.\n",
      "Creating image data generator for scenario_1 refuge fold_2 test\n",
      "Found 240 images belonging to 2 classes.\n",
      "Creating image data generator for scenario_1 refuge fold_3 test\n",
      "Found 240 images belonging to 2 classes.\n",
      "Creating image data generator for scenario_1 refuge fold_4 test\n",
      "Found 240 images belonging to 2 classes.\n",
      "Creating image data generator for scenario_1 refuge fold_5 test\n",
      "Found 240 images belonging to 2 classes.\n",
      "Creating image data generator for scenario_1 papila fold_1 test\n",
      "Found 98 images belonging to 2 classes.\n",
      "Creating image data generator for scenario_1 papila fold_2 test\n",
      "Found 98 images belonging to 2 classes.\n",
      "Creating image data generator for scenario_1 papila fold_3 test\n",
      "Found 98 images belonging to 2 classes.\n",
      "Creating image data generator for scenario_1 papila fold_4 test\n",
      "Found 97 images belonging to 2 classes.\n",
      "Creating image data generator for scenario_1 papila fold_5 test\n",
      "Found 97 images belonging to 2 classes.\n",
      "Creating image data generator for scenario_2 rimone fold_1 test\n",
      "Found 97 images belonging to 2 classes.\n",
      "Creating image data generator for scenario_2 rimone fold_2 test\n",
      "Found 97 images belonging to 2 classes.\n",
      "Creating image data generator for scenario_2 rimone fold_3 test\n",
      "Found 97 images belonging to 2 classes.\n",
      "Creating image data generator for scenario_2 rimone fold_4 test\n",
      "Found 97 images belonging to 2 classes.\n",
      "Creating image data generator for scenario_2 rimone fold_5 test\n",
      "Found 97 images belonging to 2 classes.\n",
      "Creating image data generator for scenario_2 g1020 fold_1 test\n",
      "Found 204 images belonging to 2 classes.\n",
      "Creating image data generator for scenario_2 g1020 fold_2 test\n",
      "Found 204 images belonging to 2 classes.\n",
      "Creating image data generator for scenario_2 g1020 fold_3 test\n",
      "Found 204 images belonging to 2 classes.\n",
      "Creating image data generator for scenario_2 g1020 fold_4 test\n",
      "Found 204 images belonging to 2 classes.\n",
      "Creating image data generator for scenario_2 g1020 fold_5 test\n",
      "Found 204 images belonging to 2 classes.\n",
      "Creating image data generator for scenario_2 refuge fold_1 test\n",
      "Found 240 images belonging to 2 classes.\n",
      "Creating image data generator for scenario_2 refuge fold_2 test\n",
      "Found 240 images belonging to 2 classes.\n",
      "Creating image data generator for scenario_2 refuge fold_3 test\n",
      "Found 240 images belonging to 2 classes.\n",
      "Creating image data generator for scenario_2 refuge fold_4 test\n",
      "Found 240 images belonging to 2 classes.\n",
      "Creating image data generator for scenario_2 refuge fold_5 test\n",
      "Found 240 images belonging to 2 classes.\n",
      "Creating image data generator for scenario_2 papila fold_1 test\n",
      "Found 98 images belonging to 2 classes.\n",
      "Creating image data generator for scenario_2 papila fold_2 test\n",
      "Found 98 images belonging to 2 classes.\n",
      "Creating image data generator for scenario_2 papila fold_3 test\n",
      "Found 98 images belonging to 2 classes.\n",
      "Creating image data generator for scenario_2 papila fold_4 test\n",
      "Found 97 images belonging to 2 classes.\n",
      "Creating image data generator for scenario_2 papila fold_5 test\n",
      "Found 97 images belonging to 2 classes.\n",
      "Creating image data generator for scenario_3 rimone fold_1 test\n",
      "Found 97 images belonging to 2 classes.\n",
      "Creating image data generator for scenario_3 rimone fold_2 test\n",
      "Found 97 images belonging to 2 classes.\n",
      "Creating image data generator for scenario_3 rimone fold_3 test\n",
      "Found 97 images belonging to 2 classes.\n",
      "Creating image data generator for scenario_3 rimone fold_4 test\n",
      "Found 97 images belonging to 2 classes.\n",
      "Creating image data generator for scenario_3 rimone fold_5 test\n",
      "Found 97 images belonging to 2 classes.\n",
      "Creating image data generator for scenario_3 g1020 fold_1 test\n",
      "Found 204 images belonging to 2 classes.\n",
      "Creating image data generator for scenario_3 g1020 fold_2 test\n",
      "Found 204 images belonging to 2 classes.\n",
      "Creating image data generator for scenario_3 g1020 fold_3 test\n",
      "Found 204 images belonging to 2 classes.\n",
      "Creating image data generator for scenario_3 g1020 fold_4 test\n",
      "Found 204 images belonging to 2 classes.\n",
      "Creating image data generator for scenario_3 g1020 fold_5 test\n",
      "Found 204 images belonging to 2 classes.\n",
      "Creating image data generator for scenario_3 refuge fold_1 test\n",
      "Found 240 images belonging to 2 classes.\n",
      "Creating image data generator for scenario_3 refuge fold_2 test\n",
      "Found 240 images belonging to 2 classes.\n",
      "Creating image data generator for scenario_3 refuge fold_3 test\n",
      "Found 240 images belonging to 2 classes.\n",
      "Creating image data generator for scenario_3 refuge fold_4 test\n",
      "Found 240 images belonging to 2 classes.\n",
      "Creating image data generator for scenario_3 refuge fold_5 test\n",
      "Found 240 images belonging to 2 classes.\n",
      "Creating image data generator for scenario_3 papila fold_1 test\n",
      "Found 98 images belonging to 2 classes.\n",
      "Creating image data generator for scenario_3 papila fold_2 test\n",
      "Found 98 images belonging to 2 classes.\n",
      "Creating image data generator for scenario_3 papila fold_3 test\n",
      "Found 98 images belonging to 2 classes.\n",
      "Creating image data generator for scenario_3 papila fold_4 test\n",
      "Found 97 images belonging to 2 classes.\n",
      "Creating image data generator for scenario_3 papila fold_5 test\n",
      "Found 97 images belonging to 2 classes.\n"
     ]
    }
   ],
   "source": [
    "img_gen = modeling.datagen(scenario_names=scenario_names,\n",
    "                            dataset_names=dataset_names,\n",
    "                            fold_names=fold_names,\n",
    "                            path_dataset_src=path_dataset_src,\n",
    "                            usage='testing')"
   ]
  },
  {
   "cell_type": "markdown",
   "metadata": {},
   "source": [
    "### Testing model for scenario 1"
   ]
  },
  {
   "cell_type": "code",
   "execution_count": 5,
   "metadata": {},
   "outputs": [],
   "source": [
    "# result_s1 = modeling.testing_model(path_src=path_model,\n",
    "#                                 scenario=scenario_names[0],\n",
    "#                                 models=pre_trained_models,\n",
    "#                                 folds=fold_names,\n",
    "#                                 datasets=dataset_names,\n",
    "#                                 datagen=img_gen,\n",
    "#                                 path_dest=path_result)"
   ]
  },
  {
   "cell_type": "markdown",
   "metadata": {},
   "source": [
    "### Testing model for scenario 2"
   ]
  },
  {
   "cell_type": "code",
   "execution_count": 6,
   "metadata": {},
   "outputs": [],
   "source": [
    "# result_s2 = modeling.testing_model(path_src=path_model,\n",
    "#                                 scenario=scenario_names[1],\n",
    "#                                 models=pre_trained_models,\n",
    "#                                 folds=fold_names,\n",
    "#                                 datasets=dataset_names,\n",
    "#                                 datagen=img_gen,\n",
    "#                                 path_dest=path_result)"
   ]
  },
  {
   "cell_type": "markdown",
   "metadata": {},
   "source": [
    "### Testing model for scenario 3"
   ]
  },
  {
   "cell_type": "code",
   "execution_count": 7,
   "metadata": {},
   "outputs": [
    {
     "name": "stdout",
     "output_type": "stream",
     "text": [
      "\n",
      "\n",
      "Evaluating the efficientnet_v2l\n",
      "start the refuge dataset\n"
     ]
    },
    {
     "name": "stdout",
     "output_type": "stream",
     "text": [
      "Testing fold_1 finished in 36.23 seconds\n",
      "Testing fold_2 finished in 27.14 seconds\n",
      "Testing fold_3 finished in 26.2 seconds\n",
      "Testing fold_4 finished in 25.33 seconds\n",
      "Testing fold_5 finished in 25.74 seconds\n",
      "start the papila dataset\n",
      "Testing fold_1 finished in 22.12 seconds\n",
      "Testing fold_2 finished in 21.45 seconds\n",
      "Testing fold_3 finished in 21.28 seconds\n",
      "Testing fold_4 finished in 22.19 seconds\n",
      "Testing fold_5 finished in 21.98 seconds\n"
     ]
    }
   ],
   "source": [
    "result_s3 = modeling.testing_model(path_src=path_model,\n",
    "                                scenario=scenario_names[2],\n",
    "                                models=pre_trained_models,\n",
    "                                folds=fold_names,\n",
    "                                datasets=dataset_names,\n",
    "                                datagen=img_gen,\n",
    "                                path_dest=path_result)"
   ]
  }
 ],
 "metadata": {
  "kernelspec": {
   "display_name": "env_skripsi",
   "language": "python",
   "name": "python3"
  },
  "language_info": {
   "codemirror_mode": {
    "name": "ipython",
    "version": 3
   },
   "file_extension": ".py",
   "mimetype": "text/x-python",
   "name": "python",
   "nbconvert_exporter": "python",
   "pygments_lexer": "ipython3",
   "version": "3.10.13"
  }
 },
 "nbformat": 4,
 "nbformat_minor": 2
}
