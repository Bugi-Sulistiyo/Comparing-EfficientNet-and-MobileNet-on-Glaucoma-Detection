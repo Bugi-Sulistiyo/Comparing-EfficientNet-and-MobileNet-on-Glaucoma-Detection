{
 "cells": [
  {
   "cell_type": "code",
   "execution_count": 1,
   "metadata": {},
   "outputs": [],
   "source": [
    "import os\n",
    "import sys\n",
    "from dotenv import load_dotenv\n",
    "\n",
    "load_dotenv()\n",
    "sys.path.append(os.environ.get('PATH_CUSTOM_MODULES'))\n",
    "\n",
    "import modeling"
   ]
  },
  {
   "cell_type": "markdown",
   "metadata": {},
   "source": [
    "### Prepare all basic variable"
   ]
  },
  {
   "cell_type": "code",
   "execution_count": 2,
   "metadata": {},
   "outputs": [],
   "source": [
    "path_source = os.environ.get('PATH_DATASET_DESTINATION')\n",
    "path_model = os.environ.get('PATH_MODEL')\n",
    "path_result = os.environ.get('PATH_TEST_RESULT')\n",
    "scenario_names = ['scenario_1', 'scenario_2', 'scenario_3']\n",
    "dataset_names = ['rimone', 'g1020', 'refuge', 'papila']\n",
    "fold_names = ['fold_1', 'fold_2', 'fold_3', 'fold_4', 'fold_5']\n",
    "pre_trained_models = ['mobilenet_v2', 'mobilenet_v3small', 'mobilenet_v3large',\n",
    "                'efficientnet_v2s', 'efficientnet_v2m', 'efficientnet_v2l']"
   ]
  },
  {
   "cell_type": "markdown",
   "metadata": {},
   "source": [
    "### Prepare the path source"
   ]
  },
  {
   "cell_type": "code",
   "execution_count": 3,
   "metadata": {},
   "outputs": [],
   "source": [
    "path_dataset_src = modeling.get_path(scenario_names=scenario_names,\n",
    "                                    dataset_names=dataset_names,\n",
    "                                    fold_names=fold_names,\n",
    "                                    path_source=path_source)"
   ]
  },
  {
   "cell_type": "markdown",
   "metadata": {},
   "source": [
    "### Prepare the image generator"
   ]
  },
  {
   "cell_type": "code",
   "execution_count": 4,
   "metadata": {},
   "outputs": [
    {
     "name": "stdout",
     "output_type": "stream",
     "text": [
      "Creating image data generator for scenario_1 rimone fold_1 test\n",
      "Found 97 images belonging to 2 classes.\n",
      "Creating image data generator for scenario_1 rimone fold_2 test\n",
      "Found 97 images belonging to 2 classes.\n",
      "Creating image data generator for scenario_1 rimone fold_3 test\n",
      "Found 97 images belonging to 2 classes.\n",
      "Creating image data generator for scenario_1 rimone fold_4 test\n",
      "Found 97 images belonging to 2 classes.\n",
      "Creating image data generator for scenario_1 rimone fold_5 test\n",
      "Found 97 images belonging to 2 classes.\n",
      "Creating image data generator for scenario_1 g1020 fold_1 test\n",
      "Found 204 images belonging to 2 classes.\n",
      "Creating image data generator for scenario_1 g1020 fold_2 test\n",
      "Found 204 images belonging to 2 classes.\n",
      "Creating image data generator for scenario_1 g1020 fold_3 test\n",
      "Found 204 images belonging to 2 classes.\n",
      "Creating image data generator for scenario_1 g1020 fold_4 test\n",
      "Found 204 images belonging to 2 classes.\n",
      "Creating image data generator for scenario_1 g1020 fold_5 test\n",
      "Found 204 images belonging to 2 classes.\n",
      "Creating image data generator for scenario_1 refuge fold_1 test\n",
      "Found 240 images belonging to 2 classes.\n"
     ]
    },
    {
     "name": "stdout",
     "output_type": "stream",
     "text": [
      "Creating image data generator for scenario_1 refuge fold_2 test\n",
      "Found 240 images belonging to 2 classes.\n",
      "Creating image data generator for scenario_1 refuge fold_3 test\n",
      "Found 240 images belonging to 2 classes.\n",
      "Creating image data generator for scenario_1 refuge fold_4 test\n",
      "Found 240 images belonging to 2 classes.\n",
      "Creating image data generator for scenario_1 refuge fold_5 test\n",
      "Found 240 images belonging to 2 classes.\n",
      "Creating image data generator for scenario_1 papila fold_1 test\n",
      "Found 98 images belonging to 2 classes.\n",
      "Creating image data generator for scenario_1 papila fold_2 test\n",
      "Found 98 images belonging to 2 classes.\n",
      "Creating image data generator for scenario_1 papila fold_3 test\n",
      "Found 98 images belonging to 2 classes.\n",
      "Creating image data generator for scenario_1 papila fold_4 test\n",
      "Found 97 images belonging to 2 classes.\n",
      "Creating image data generator for scenario_1 papila fold_5 test\n",
      "Found 97 images belonging to 2 classes.\n",
      "Creating image data generator for scenario_2 rimone fold_1 test\n",
      "Found 97 images belonging to 2 classes.\n",
      "Creating image data generator for scenario_2 rimone fold_2 test\n",
      "Found 97 images belonging to 2 classes.\n",
      "Creating image data generator for scenario_2 rimone fold_3 test\n",
      "Found 97 images belonging to 2 classes.\n",
      "Creating image data generator for scenario_2 rimone fold_4 test\n",
      "Found 97 images belonging to 2 classes.\n",
      "Creating image data generator for scenario_2 rimone fold_5 test\n",
      "Found 97 images belonging to 2 classes.\n",
      "Creating image data generator for scenario_2 g1020 fold_1 test\n",
      "Found 204 images belonging to 2 classes.\n",
      "Creating image data generator for scenario_2 g1020 fold_2 test\n",
      "Found 204 images belonging to 2 classes.\n",
      "Creating image data generator for scenario_2 g1020 fold_3 test\n",
      "Found 204 images belonging to 2 classes.\n",
      "Creating image data generator for scenario_2 g1020 fold_4 test\n",
      "Found 204 images belonging to 2 classes.\n",
      "Creating image data generator for scenario_2 g1020 fold_5 test\n",
      "Found 204 images belonging to 2 classes.\n",
      "Creating image data generator for scenario_2 refuge fold_1 test\n",
      "Found 240 images belonging to 2 classes.\n",
      "Creating image data generator for scenario_2 refuge fold_2 test\n",
      "Found 240 images belonging to 2 classes.\n",
      "Creating image data generator for scenario_2 refuge fold_3 test\n",
      "Found 240 images belonging to 2 classes.\n",
      "Creating image data generator for scenario_2 refuge fold_4 test\n",
      "Found 240 images belonging to 2 classes.\n",
      "Creating image data generator for scenario_2 refuge fold_5 test\n",
      "Found 240 images belonging to 2 classes.\n",
      "Creating image data generator for scenario_2 papila fold_1 test\n",
      "Found 98 images belonging to 2 classes.\n",
      "Creating image data generator for scenario_2 papila fold_2 test\n",
      "Found 98 images belonging to 2 classes.\n",
      "Creating image data generator for scenario_2 papila fold_3 test\n",
      "Found 98 images belonging to 2 classes.\n",
      "Creating image data generator for scenario_2 papila fold_4 test\n",
      "Found 97 images belonging to 2 classes.\n",
      "Creating image data generator for scenario_2 papila fold_5 test\n",
      "Found 97 images belonging to 2 classes.\n",
      "Creating image data generator for scenario_3 rimone fold_1 test\n",
      "Found 97 images belonging to 2 classes.\n",
      "Creating image data generator for scenario_3 rimone fold_2 test\n",
      "Found 97 images belonging to 2 classes.\n",
      "Creating image data generator for scenario_3 rimone fold_3 test\n",
      "Found 97 images belonging to 2 classes.\n",
      "Creating image data generator for scenario_3 rimone fold_4 test\n",
      "Found 97 images belonging to 2 classes.\n",
      "Creating image data generator for scenario_3 rimone fold_5 test\n",
      "Found 97 images belonging to 2 classes.\n",
      "Creating image data generator for scenario_3 g1020 fold_1 test\n",
      "Found 204 images belonging to 2 classes.\n",
      "Creating image data generator for scenario_3 g1020 fold_2 test\n",
      "Found 204 images belonging to 2 classes.\n",
      "Creating image data generator for scenario_3 g1020 fold_3 test\n",
      "Found 204 images belonging to 2 classes.\n",
      "Creating image data generator for scenario_3 g1020 fold_4 test\n",
      "Found 204 images belonging to 2 classes.\n",
      "Creating image data generator for scenario_3 g1020 fold_5 test\n",
      "Found 204 images belonging to 2 classes.\n",
      "Creating image data generator for scenario_3 refuge fold_1 test\n",
      "Found 240 images belonging to 2 classes.\n",
      "Creating image data generator for scenario_3 refuge fold_2 test\n",
      "Found 240 images belonging to 2 classes.\n",
      "Creating image data generator for scenario_3 refuge fold_3 test\n",
      "Found 240 images belonging to 2 classes.\n",
      "Creating image data generator for scenario_3 refuge fold_4 test\n",
      "Found 240 images belonging to 2 classes.\n",
      "Creating image data generator for scenario_3 refuge fold_5 test\n",
      "Found 240 images belonging to 2 classes.\n",
      "Creating image data generator for scenario_3 papila fold_1 test\n",
      "Found 98 images belonging to 2 classes.\n",
      "Creating image data generator for scenario_3 papila fold_2 test\n",
      "Found 98 images belonging to 2 classes.\n",
      "Creating image data generator for scenario_3 papila fold_3 test\n",
      "Found 98 images belonging to 2 classes.\n",
      "Creating image data generator for scenario_3 papila fold_4 test\n",
      "Found 97 images belonging to 2 classes.\n",
      "Creating image data generator for scenario_3 papila fold_5 test\n",
      "Found 97 images belonging to 2 classes.\n"
     ]
    }
   ],
   "source": [
    "img_gen = modeling.datagen(scenario_names=scenario_names,\n",
    "                            dataset_names=dataset_names,\n",
    "                            fold_names=fold_names,\n",
    "                            path_dataset_src=path_dataset_src,\n",
    "                            usage='testing')"
   ]
  },
  {
   "cell_type": "markdown",
   "metadata": {},
   "source": [
    "### Testing the model"
   ]
  },
  {
   "cell_type": "code",
   "execution_count": 7,
   "metadata": {},
   "outputs": [
    {
     "data": {
      "text/plain": [
       "'scenario_1_rimone_fold_1_test'"
      ]
     },
     "execution_count": 7,
     "metadata": {},
     "output_type": "execute_result"
    }
   ],
   "source": [
    "list(img_gen.keys())[0]"
   ]
  },
  {
   "cell_type": "code",
   "execution_count": 10,
   "metadata": {},
   "outputs": [
    {
     "data": {
      "text/plain": [
       "{'glaukoma': 0, 'normal': 1}"
      ]
     },
     "execution_count": 10,
     "metadata": {},
     "output_type": "execute_result"
    }
   ],
   "source": [
    "img_gen['scenario_1_rimone_fold_1_test'].class_indices"
   ]
  },
  {
   "cell_type": "code",
   "execution_count": 11,
   "metadata": {},
   "outputs": [],
   "source": [
    "test = next(img_gen['scenario_1_rimone_fold_1_test'])"
   ]
  },
  {
   "cell_type": "code",
   "execution_count": 22,
   "metadata": {},
   "outputs": [
    {
     "data": {
      "text/plain": [
       "array([1., 0., 1., 0., 0., 0., 1., 1., 0., 0., 1., 1., 0., 0., 1., 0., 1.,\n",
       "       1., 1., 0., 0., 0., 0., 1., 1., 1., 1., 1., 1., 1., 1., 1.],\n",
       "      dtype=float32)"
      ]
     },
     "execution_count": 22,
     "metadata": {},
     "output_type": "execute_result"
    }
   ],
   "source": [
    "test[1]"
   ]
  },
  {
   "cell_type": "markdown",
   "metadata": {},
   "source": [
    "#### Scenario 1"
   ]
  },
  {
   "cell_type": "markdown",
   "metadata": {},
   "source": [
    "##### Mobilenet V2"
   ]
  },
  {
   "cell_type": "code",
   "execution_count": 5,
   "metadata": {},
   "outputs": [
    {
     "name": "stdout",
     "output_type": "stream",
     "text": [
      "Evaluating the mobilenet v2\n",
      "4/4 [==============================] - 9s 424ms/step - loss: 0.3495 - acc: 0.8351 - auc: 0.9155 - prc: 0.8730 - sns: 0.8730\n",
      "Testing rimone fold_1 finished in 13.44 seconds\n"
     ]
    }
   ],
   "source": [
    "result = modeling.testing_model(path_src=path_model,\n",
    "                                model_name=pre_trained_models[0],\n",
    "                                scenario=scenario_names[0],\n",
    "                                folds=fold_names,\n",
    "                                datasets=dataset_names,\n",
    "                                datagen=img_gen)"
   ]
  },
  {
   "cell_type": "code",
   "execution_count": 6,
   "metadata": {},
   "outputs": [
    {
     "data": {
      "text/plain": [
       "{'scenario_1_rimone_fold_1': {'loss': 0.34948086738586426,\n",
       "  'accuracy': 0.8350515365600586,\n",
       "  'auc': 0.9154995083808899,\n",
       "  'precision': 0.8730158805847168,\n",
       "  'sensitivity': 0.8730158805847168}}"
      ]
     },
     "execution_count": 6,
     "metadata": {},
     "output_type": "execute_result"
    }
   ],
   "source": [
    "result"
   ]
  },
  {
   "cell_type": "markdown",
   "metadata": {},
   "source": [
    "##### Mobilenet V3 small"
   ]
  },
  {
   "cell_type": "markdown",
   "metadata": {},
   "source": [
    "##### Mobilenet V3 large"
   ]
  },
  {
   "cell_type": "markdown",
   "metadata": {},
   "source": [
    "##### Efficientnet V2 small"
   ]
  },
  {
   "cell_type": "markdown",
   "metadata": {},
   "source": [
    "##### Efficientnet V2 middle"
   ]
  },
  {
   "cell_type": "markdown",
   "metadata": {},
   "source": [
    "##### Efficientnet V2 large"
   ]
  },
  {
   "cell_type": "markdown",
   "metadata": {},
   "source": [
    "#### Scenario 2"
   ]
  },
  {
   "cell_type": "markdown",
   "metadata": {},
   "source": [
    "##### Mobilenet V2"
   ]
  },
  {
   "cell_type": "markdown",
   "metadata": {},
   "source": [
    "##### Mobilenet V3 small"
   ]
  },
  {
   "cell_type": "markdown",
   "metadata": {},
   "source": [
    "##### Mobilenet V3 large"
   ]
  },
  {
   "cell_type": "markdown",
   "metadata": {},
   "source": [
    "##### Efficientnet V2 small"
   ]
  },
  {
   "cell_type": "markdown",
   "metadata": {},
   "source": [
    "##### Efficientnet V2 middle"
   ]
  },
  {
   "cell_type": "markdown",
   "metadata": {},
   "source": [
    "##### Efficientnet V2 large"
   ]
  },
  {
   "cell_type": "markdown",
   "metadata": {},
   "source": [
    "#### Scenario 3"
   ]
  },
  {
   "cell_type": "markdown",
   "metadata": {},
   "source": [
    "##### Mobilenet V2"
   ]
  },
  {
   "cell_type": "markdown",
   "metadata": {},
   "source": [
    "##### Mobilenet V3 small"
   ]
  },
  {
   "cell_type": "markdown",
   "metadata": {},
   "source": [
    "##### Mobilenet V3 large"
   ]
  },
  {
   "cell_type": "markdown",
   "metadata": {},
   "source": [
    "##### Efficientnet V2 small"
   ]
  },
  {
   "cell_type": "markdown",
   "metadata": {},
   "source": [
    "##### Efficientnet V2 middle"
   ]
  },
  {
   "cell_type": "markdown",
   "metadata": {},
   "source": [
    "##### Efficientnet V2 large"
   ]
  }
 ],
 "metadata": {
  "kernelspec": {
   "display_name": "env_skripsi",
   "language": "python",
   "name": "python3"
  },
  "language_info": {
   "codemirror_mode": {
    "name": "ipython",
    "version": 3
   },
   "file_extension": ".py",
   "mimetype": "text/x-python",
   "name": "python",
   "nbconvert_exporter": "python",
   "pygments_lexer": "ipython3",
   "version": "3.10.13"
  }
 },
 "nbformat": 4,
 "nbformat_minor": 2
}
