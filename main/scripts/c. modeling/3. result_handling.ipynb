{
 "cells": [
  {
   "cell_type": "code",
   "execution_count": 1,
   "metadata": {},
   "outputs": [],
   "source": [
    "import os\n",
    "import sys\n",
    "from dotenv import load_dotenv\n",
    "\n",
    "load_dotenv()\n",
    "sys.path.append(os.environ.get('PATH_CUSTOM_MODULES'))\n",
    "\n",
    "import modeling"
   ]
  },
  {
   "cell_type": "markdown",
   "metadata": {},
   "source": [
    "### Prepare all basic variable"
   ]
  },
  {
   "cell_type": "code",
   "execution_count": 2,
   "metadata": {},
   "outputs": [],
   "source": [
    "path_result = os.environ.get('PATH_TEST_RESULT')\n",
    "path_storage = os.environ.get('PATH_EVALUATION_RESULT')"
   ]
  },
  {
   "cell_type": "markdown",
   "metadata": {},
   "source": [
    "### Getting the result data"
   ]
  },
  {
   "cell_type": "code",
   "execution_count": 3,
   "metadata": {},
   "outputs": [],
   "source": [
    "result = modeling.merge_result_data(path_src=path_result)"
   ]
  },
  {
   "cell_type": "code",
   "execution_count": 4,
   "metadata": {},
   "outputs": [],
   "source": [
    "# store the merged result\n",
    "result.to_csv(os.path.join(path_storage,\n",
    "                            'merge_result.csv'),\n",
    "                index=False)"
   ]
  },
  {
   "cell_type": "markdown",
   "metadata": {},
   "source": [
    "### Get the final result from cross validation"
   ]
  },
  {
   "cell_type": "code",
   "execution_count": 5,
   "metadata": {},
   "outputs": [],
   "source": [
    "result.drop(columns=['fold'], inplace=True)\n",
    "result_final = result.groupby(by=['scenario', 'model', 'dataset']).agg('mean')"
   ]
  },
  {
   "cell_type": "code",
   "execution_count": 6,
   "metadata": {},
   "outputs": [
    {
     "data": {
      "text/html": [
       "<div>\n",
       "<style scoped>\n",
       "    .dataframe tbody tr th:only-of-type {\n",
       "        vertical-align: middle;\n",
       "    }\n",
       "\n",
       "    .dataframe tbody tr th {\n",
       "        vertical-align: top;\n",
       "    }\n",
       "\n",
       "    .dataframe thead th {\n",
       "        text-align: right;\n",
       "    }\n",
       "</style>\n",
       "<table border=\"1\" class=\"dataframe\">\n",
       "  <thead>\n",
       "    <tr style=\"text-align: right;\">\n",
       "      <th></th>\n",
       "      <th></th>\n",
       "      <th></th>\n",
       "      <th>loss</th>\n",
       "      <th>auc</th>\n",
       "      <th>true_positive</th>\n",
       "      <th>true_negative</th>\n",
       "      <th>false_positive</th>\n",
       "      <th>false_negative</th>\n",
       "    </tr>\n",
       "    <tr>\n",
       "      <th>scenario</th>\n",
       "      <th>model</th>\n",
       "      <th>dataset</th>\n",
       "      <th></th>\n",
       "      <th></th>\n",
       "      <th></th>\n",
       "      <th></th>\n",
       "      <th></th>\n",
       "      <th></th>\n",
       "    </tr>\n",
       "  </thead>\n",
       "  <tbody>\n",
       "    <tr>\n",
       "      <th>scenario_1</th>\n",
       "      <th>efficientnet_v2l</th>\n",
       "      <th>g1020</th>\n",
       "      <td>0.60588</td>\n",
       "      <td>0.496924</td>\n",
       "      <td>144.8</td>\n",
       "      <td>0.0</td>\n",
       "      <td>59.2</td>\n",
       "      <td>0.0</td>\n",
       "    </tr>\n",
       "  </tbody>\n",
       "</table>\n",
       "</div>"
      ],
      "text/plain": [
       "                                        loss       auc  true_positive  \\\n",
       "scenario   model            dataset                                     \n",
       "scenario_1 efficientnet_v2l g1020    0.60588  0.496924          144.8   \n",
       "\n",
       "                                     true_negative  false_positive  \\\n",
       "scenario   model            dataset                                  \n",
       "scenario_1 efficientnet_v2l g1020              0.0            59.2   \n",
       "\n",
       "                                     false_negative  \n",
       "scenario   model            dataset                  \n",
       "scenario_1 efficientnet_v2l g1020               0.0  "
      ]
     },
     "execution_count": 6,
     "metadata": {},
     "output_type": "execute_result"
    }
   ],
   "source": [
    "result_final.head(1)"
   ]
  },
  {
   "cell_type": "markdown",
   "metadata": {},
   "source": [
    "### Get the matrixes"
   ]
  },
  {
   "cell_type": "markdown",
   "metadata": {},
   "source": [
    "#### Sensitivity"
   ]
  },
  {
   "cell_type": "code",
   "execution_count": 7,
   "metadata": {},
   "outputs": [],
   "source": [
    "result_final['sensitivity'] = (result_final.true_positive\n",
    "                            / (result_final.true_positive + result_final.false_negative))"
   ]
  },
  {
   "cell_type": "markdown",
   "metadata": {},
   "source": [
    "#### Precision"
   ]
  },
  {
   "cell_type": "code",
   "execution_count": 8,
   "metadata": {},
   "outputs": [],
   "source": [
    "result_final['precision'] = (result_final.true_positive\n",
    "                            / (result_final.true_positive + result_final.false_positive))"
   ]
  },
  {
   "cell_type": "markdown",
   "metadata": {},
   "source": [
    "#### accuracy"
   ]
  },
  {
   "cell_type": "code",
   "execution_count": 9,
   "metadata": {},
   "outputs": [],
   "source": [
    "result_final['accuracy'] = ((result_final.true_positive + result_final.true_negative)\n",
    "                            / (result_final.true_positive + result_final.true_negative\n",
    "                                + result_final.false_positive + result_final.false_negative))"
   ]
  },
  {
   "cell_type": "markdown",
   "metadata": {},
   "source": [
    "#### F1-score"
   ]
  },
  {
   "cell_type": "code",
   "execution_count": 10,
   "metadata": {},
   "outputs": [],
   "source": [
    "result_final['f1_score'] = 2*((result_final['precision'] * result_final['sensitivity'])\n",
    "                                / (result_final['precision'] + result_final['sensitivity']))"
   ]
  },
  {
   "cell_type": "markdown",
   "metadata": {},
   "source": [
    "### Save the result"
   ]
  },
  {
   "cell_type": "code",
   "execution_count": 11,
   "metadata": {},
   "outputs": [],
   "source": [
    "result_final.reset_index(level=[0,1,2], inplace=True)"
   ]
  },
  {
   "cell_type": "code",
   "execution_count": 12,
   "metadata": {},
   "outputs": [],
   "source": [
    "result_final = result_final[['scenario', 'model', 'dataset',\n",
    "                            'auc', 'f1_score', 'accuracy', 'precision',\n",
    "                            'sensitivity', 'loss',\n",
    "                            'true_positive', 'true_negative',\n",
    "                            'false_positive', 'false_negative']]"
   ]
  },
  {
   "cell_type": "code",
   "execution_count": 13,
   "metadata": {},
   "outputs": [],
   "source": [
    "result_final.to_csv(os.path.join(path_storage,\n",
    "                                'merge_result_final.csv'),\n",
    "                    index=False)"
   ]
  },
  {
   "cell_type": "markdown",
   "metadata": {},
   "source": [
    "### Setup"
   ]
  },
  {
   "cell_type": "code",
   "execution_count": 14,
   "metadata": {},
   "outputs": [],
   "source": [
    "import pandas as pd\n",
    "pd.options.mode.copy_on_write = True"
   ]
  },
  {
   "cell_type": "markdown",
   "metadata": {},
   "source": [
    "### Analyze the result"
   ]
  },
  {
   "cell_type": "markdown",
   "metadata": {},
   "source": [
    "#### By scenario"
   ]
  },
  {
   "cell_type": "markdown",
   "metadata": {},
   "source": [
    "##### Scenario 1"
   ]
  },
  {
   "cell_type": "code",
   "execution_count": 15,
   "metadata": {},
   "outputs": [
    {
     "data": {
      "text/html": [
       "<div>\n",
       "<style scoped>\n",
       "    .dataframe tbody tr th:only-of-type {\n",
       "        vertical-align: middle;\n",
       "    }\n",
       "\n",
       "    .dataframe tbody tr th {\n",
       "        vertical-align: top;\n",
       "    }\n",
       "\n",
       "    .dataframe thead th {\n",
       "        text-align: right;\n",
       "    }\n",
       "</style>\n",
       "<table border=\"1\" class=\"dataframe\">\n",
       "  <thead>\n",
       "    <tr style=\"text-align: right;\">\n",
       "      <th></th>\n",
       "      <th>model</th>\n",
       "      <th>dataset</th>\n",
       "      <th>auc</th>\n",
       "      <th>f1_score</th>\n",
       "      <th>accuracy</th>\n",
       "      <th>precision</th>\n",
       "      <th>true_positive</th>\n",
       "      <th>true_negative</th>\n",
       "      <th>false_positive</th>\n",
       "      <th>false_negative</th>\n",
       "    </tr>\n",
       "  </thead>\n",
       "  <tbody>\n",
       "    <tr>\n",
       "      <th>0</th>\n",
       "      <td>mobilenet_v2</td>\n",
       "      <td>refuge</td>\n",
       "      <td>0.918615</td>\n",
       "      <td>0.963669</td>\n",
       "      <td>0.933333</td>\n",
       "      <td>0.945633</td>\n",
       "      <td>212.2</td>\n",
       "      <td>11.8</td>\n",
       "      <td>12.2</td>\n",
       "      <td>3.8</td>\n",
       "    </tr>\n",
       "    <tr>\n",
       "      <th>1</th>\n",
       "      <td>mobilenet_v2</td>\n",
       "      <td>rimone</td>\n",
       "      <td>0.891411</td>\n",
       "      <td>0.852201</td>\n",
       "      <td>0.806186</td>\n",
       "      <td>0.839009</td>\n",
       "      <td>54.2</td>\n",
       "      <td>24.0</td>\n",
       "      <td>10.4</td>\n",
       "      <td>8.4</td>\n",
       "    </tr>\n",
       "    <tr>\n",
       "      <th>2</th>\n",
       "      <td>mobilenet_v2</td>\n",
       "      <td>papila</td>\n",
       "      <td>0.727745</td>\n",
       "      <td>0.824176</td>\n",
       "      <td>0.737705</td>\n",
       "      <td>0.759494</td>\n",
       "      <td>60.0</td>\n",
       "      <td>12.0</td>\n",
       "      <td>19.0</td>\n",
       "      <td>6.6</td>\n",
       "    </tr>\n",
       "    <tr>\n",
       "      <th>3</th>\n",
       "      <td>efficientnet_v2s</td>\n",
       "      <td>refuge</td>\n",
       "      <td>0.704610</td>\n",
       "      <td>0.947784</td>\n",
       "      <td>0.900833</td>\n",
       "      <td>0.900751</td>\n",
       "      <td>216.0</td>\n",
       "      <td>0.2</td>\n",
       "      <td>23.8</td>\n",
       "      <td>0.0</td>\n",
       "    </tr>\n",
       "    <tr>\n",
       "      <th>4</th>\n",
       "      <td>efficientnet_v2m</td>\n",
       "      <td>rimone</td>\n",
       "      <td>0.680477</td>\n",
       "      <td>0.784461</td>\n",
       "      <td>0.645361</td>\n",
       "      <td>0.645361</td>\n",
       "      <td>62.6</td>\n",
       "      <td>0.0</td>\n",
       "      <td>34.4</td>\n",
       "      <td>0.0</td>\n",
       "    </tr>\n",
       "  </tbody>\n",
       "</table>\n",
       "</div>"
      ],
      "text/plain": [
       "              model dataset       auc  f1_score  accuracy  precision  \\\n",
       "0      mobilenet_v2  refuge  0.918615  0.963669  0.933333   0.945633   \n",
       "1      mobilenet_v2  rimone  0.891411  0.852201  0.806186   0.839009   \n",
       "2      mobilenet_v2  papila  0.727745  0.824176  0.737705   0.759494   \n",
       "3  efficientnet_v2s  refuge  0.704610  0.947784  0.900833   0.900751   \n",
       "4  efficientnet_v2m  rimone  0.680477  0.784461  0.645361   0.645361   \n",
       "\n",
       "   true_positive  true_negative  false_positive  false_negative  \n",
       "0          212.2           11.8            12.2             3.8  \n",
       "1           54.2           24.0            10.4             8.4  \n",
       "2           60.0           12.0            19.0             6.6  \n",
       "3          216.0            0.2            23.8             0.0  \n",
       "4           62.6            0.0            34.4             0.0  "
      ]
     },
     "execution_count": 15,
     "metadata": {},
     "output_type": "execute_result"
    }
   ],
   "source": [
    "# the general result\n",
    "s1_result = result_final.groupby(by='scenario').get_group('scenario_1')\n",
    "\n",
    "s1_result.drop(columns=['scenario', 'loss', 'sensitivity'], inplace=True)\n",
    "s1_result.sort_values(by=['auc', 'f1_score', 'accuracy', 'precision'], ascending=False, inplace=True, ignore_index=True)\n",
    "\n",
    "s1_result.to_csv(os.path.join(path_storage,\n",
    "                            's1_general_result.csv'),\n",
    "                index=False)\n",
    "\n",
    "s1_result.head(5)"
   ]
  },
  {
   "cell_type": "code",
   "execution_count": 16,
   "metadata": {},
   "outputs": [
    {
     "data": {
      "image/png": "[encoded data removed]",
      "text/plain": [
       "<Figure size 800x500 with 2 Axes>"
      ]
     },
     "metadata": {},
     "output_type": "display_data"
    }
   ],
   "source": [
    "# visualize the confusion matrix of s1 general best\n",
    "modeling.confusion_matrix_plot_highest(result=s1_result,\n",
    "                                        place=0,\n",
    "                                        model_name='Mobilenet V2 - REFUGE',\n",
    "                                        path_dest=path_storage,\n",
    "                                        file_name='s1_general_best')"
   ]
  },
  {
   "cell_type": "code",
   "execution_count": 22,
   "metadata": {},
   "outputs": [
    {
     "data": {
      "text/html": [
       "<div>\n",
       "<style scoped>\n",
       "    .dataframe tbody tr th:only-of-type {\n",
       "        vertical-align: middle;\n",
       "    }\n",
       "\n",
       "    .dataframe tbody tr th {\n",
       "        vertical-align: top;\n",
       "    }\n",
       "\n",
       "    .dataframe thead th {\n",
       "        text-align: right;\n",
       "    }\n",
       "</style>\n",
       "<table border=\"1\" class=\"dataframe\">\n",
       "  <thead>\n",
       "    <tr style=\"text-align: right;\">\n",
       "      <th></th>\n",
       "      <th>model</th>\n",
       "      <th>auc</th>\n",
       "      <th>f1_score</th>\n",
       "      <th>accuracy</th>\n",
       "      <th>precision</th>\n",
       "    </tr>\n",
       "  </thead>\n",
       "  <tbody>\n",
       "    <tr>\n",
       "      <th>0</th>\n",
       "      <td>mobilenet_v2</td>\n",
       "      <td>0.755323</td>\n",
       "      <td>0.858917</td>\n",
       "      <td>0.786953</td>\n",
       "      <td>0.813751</td>\n",
       "    </tr>\n",
       "    <tr>\n",
       "      <th>1</th>\n",
       "      <td>efficientnet_v2l</td>\n",
       "      <td>0.578307</td>\n",
       "      <td>0.843328</td>\n",
       "      <td>0.734385</td>\n",
       "      <td>0.734385</td>\n",
       "    </tr>\n",
       "    <tr>\n",
       "      <th>2</th>\n",
       "      <td>efficientnet_v2m</td>\n",
       "      <td>0.575380</td>\n",
       "      <td>0.843328</td>\n",
       "      <td>0.734385</td>\n",
       "      <td>0.734385</td>\n",
       "    </tr>\n",
       "    <tr>\n",
       "      <th>3</th>\n",
       "      <td>mobilenet_v3large</td>\n",
       "      <td>0.572600</td>\n",
       "      <td>0.842883</td>\n",
       "      <td>0.733760</td>\n",
       "      <td>0.734529</td>\n",
       "    </tr>\n",
       "    <tr>\n",
       "      <th>4</th>\n",
       "      <td>efficientnet_v2s</td>\n",
       "      <td>0.564985</td>\n",
       "      <td>0.842673</td>\n",
       "      <td>0.734594</td>\n",
       "      <td>0.735957</td>\n",
       "    </tr>\n",
       "    <tr>\n",
       "      <th>5</th>\n",
       "      <td>mobilenet_v3small</td>\n",
       "      <td>0.528258</td>\n",
       "      <td>0.843328</td>\n",
       "      <td>0.734385</td>\n",
       "      <td>0.734385</td>\n",
       "    </tr>\n",
       "  </tbody>\n",
       "</table>\n",
       "</div>"
      ],
      "text/plain": [
       "               model       auc  f1_score  accuracy  precision\n",
       "0       mobilenet_v2  0.755323  0.858917  0.786953   0.813751\n",
       "1   efficientnet_v2l  0.578307  0.843328  0.734385   0.734385\n",
       "2   efficientnet_v2m  0.575380  0.843328  0.734385   0.734385\n",
       "3  mobilenet_v3large  0.572600  0.842883  0.733760   0.734529\n",
       "4   efficientnet_v2s  0.564985  0.842673  0.734594   0.735957\n",
       "5  mobilenet_v3small  0.528258  0.843328  0.734385   0.734385"
      ]
     },
     "execution_count": 22,
     "metadata": {},
     "output_type": "execute_result"
    }
   ],
   "source": [
    "# summarize only the model\n",
    "s1_result_sumarize = s1_result[['model',\n",
    "                                'auc', 'f1_score', 'accuracy', 'precision']].groupby(by='model').agg('mean')\n",
    "\n",
    "s1_result_sumarize.reset_index(level=0, inplace=True)\n",
    "s1_result_sumarize.sort_values(by=['auc', 'f1_score', 'accuracy', 'precision'], ascending=False, inplace=True, ignore_index=True)\n",
    "\n",
    "s1_result_sumarize.to_csv(os.path.join(path_storage,\n",
    "                                    's1_summarize_result.csv'),\n",
    "                        index=False)\n",
    "\n",
    "s1_result_sumarize"
   ]
  },
  {
   "cell_type": "markdown",
   "metadata": {},
   "source": [
    "##### Scenario 2"
   ]
  },
  {
   "cell_type": "code",
   "execution_count": 19,
   "metadata": {},
   "outputs": [
    {
     "data": {
      "text/html": [
       "<div>\n",
       "<style scoped>\n",
       "    .dataframe tbody tr th:only-of-type {\n",
       "        vertical-align: middle;\n",
       "    }\n",
       "\n",
       "    .dataframe tbody tr th {\n",
       "        vertical-align: top;\n",
       "    }\n",
       "\n",
       "    .dataframe thead th {\n",
       "        text-align: right;\n",
       "    }\n",
       "</style>\n",
       "<table border=\"1\" class=\"dataframe\">\n",
       "  <thead>\n",
       "    <tr style=\"text-align: right;\">\n",
       "      <th></th>\n",
       "      <th>model</th>\n",
       "      <th>dataset</th>\n",
       "      <th>auc</th>\n",
       "      <th>f1_score</th>\n",
       "      <th>accuracy</th>\n",
       "      <th>precision</th>\n",
       "      <th>true_positive</th>\n",
       "      <th>true_negative</th>\n",
       "      <th>false_positive</th>\n",
       "      <th>false_negative</th>\n",
       "    </tr>\n",
       "  </thead>\n",
       "  <tbody>\n",
       "    <tr>\n",
       "      <th>0</th>\n",
       "      <td>mobilenet_v2</td>\n",
       "      <td>refuge</td>\n",
       "      <td>0.917940</td>\n",
       "      <td>0.947418</td>\n",
       "      <td>0.906667</td>\n",
       "      <td>0.960952</td>\n",
       "      <td>201.8</td>\n",
       "      <td>15.8</td>\n",
       "      <td>8.2</td>\n",
       "      <td>14.2</td>\n",
       "    </tr>\n",
       "    <tr>\n",
       "      <th>1</th>\n",
       "      <td>mobilenet_v2</td>\n",
       "      <td>rimone</td>\n",
       "      <td>0.908892</td>\n",
       "      <td>0.881203</td>\n",
       "      <td>0.837113</td>\n",
       "      <td>0.832386</td>\n",
       "      <td>58.6</td>\n",
       "      <td>22.6</td>\n",
       "      <td>11.8</td>\n",
       "      <td>4.0</td>\n",
       "    </tr>\n",
       "    <tr>\n",
       "      <th>2</th>\n",
       "      <td>efficientnet_v2s</td>\n",
       "      <td>refuge</td>\n",
       "      <td>0.748823</td>\n",
       "      <td>0.947276</td>\n",
       "      <td>0.900000</td>\n",
       "      <td>0.901338</td>\n",
       "      <td>215.6</td>\n",
       "      <td>0.4</td>\n",
       "      <td>23.6</td>\n",
       "      <td>0.4</td>\n",
       "    </tr>\n",
       "    <tr>\n",
       "      <th>3</th>\n",
       "      <td>mobilenet_v2</td>\n",
       "      <td>papila</td>\n",
       "      <td>0.739058</td>\n",
       "      <td>0.781437</td>\n",
       "      <td>0.700820</td>\n",
       "      <td>0.779104</td>\n",
       "      <td>52.2</td>\n",
       "      <td>16.2</td>\n",
       "      <td>14.8</td>\n",
       "      <td>14.4</td>\n",
       "    </tr>\n",
       "    <tr>\n",
       "      <th>4</th>\n",
       "      <td>efficientnet_v2m</td>\n",
       "      <td>rimone</td>\n",
       "      <td>0.682539</td>\n",
       "      <td>0.784461</td>\n",
       "      <td>0.645361</td>\n",
       "      <td>0.645361</td>\n",
       "      <td>62.6</td>\n",
       "      <td>0.0</td>\n",
       "      <td>34.4</td>\n",
       "      <td>0.0</td>\n",
       "    </tr>\n",
       "  </tbody>\n",
       "</table>\n",
       "</div>"
      ],
      "text/plain": [
       "              model dataset       auc  f1_score  accuracy  precision  \\\n",
       "0      mobilenet_v2  refuge  0.917940  0.947418  0.906667   0.960952   \n",
       "1      mobilenet_v2  rimone  0.908892  0.881203  0.837113   0.832386   \n",
       "2  efficientnet_v2s  refuge  0.748823  0.947276  0.900000   0.901338   \n",
       "3      mobilenet_v2  papila  0.739058  0.781437  0.700820   0.779104   \n",
       "4  efficientnet_v2m  rimone  0.682539  0.784461  0.645361   0.645361   \n",
       "\n",
       "   true_positive  true_negative  false_positive  false_negative  \n",
       "0          201.8           15.8             8.2            14.2  \n",
       "1           58.6           22.6            11.8             4.0  \n",
       "2          215.6            0.4            23.6             0.4  \n",
       "3           52.2           16.2            14.8            14.4  \n",
       "4           62.6            0.0            34.4             0.0  "
      ]
     },
     "execution_count": 19,
     "metadata": {},
     "output_type": "execute_result"
    }
   ],
   "source": [
    "# the general result\n",
    "s2_result = result_final.groupby(by='scenario').get_group('scenario_2')\n",
    "\n",
    "s2_result.drop(columns=['scenario', 'loss', 'sensitivity'], inplace=True)\n",
    "s2_result.sort_values(by=['auc', 'f1_score', 'accuracy', 'precision'], ascending=False, inplace=True, ignore_index=True)\n",
    "\n",
    "s2_result.to_csv(os.path.join(path_storage,\n",
    "                            's2_general_result.csv'),\n",
    "                index=False)\n",
    "\n",
    "s2_result.head(5)"
   ]
  },
  {
   "cell_type": "code",
   "execution_count": 20,
   "metadata": {},
   "outputs": [
    {
     "data": {
      "image/png": "[encoded data removed]",
      "text/plain": [
       "<Figure size 800x500 with 2 Axes>"
      ]
     },
     "metadata": {},
     "output_type": "display_data"
    }
   ],
   "source": [
    "# visualize the confusion matrix of s1 general best\n",
    "modeling.confusion_matrix_plot_highest(result=s2_result,\n",
    "                                        place=0,\n",
    "                                        model_name='Mobilenet V2 - REFUGE',\n",
    "                                        path_dest=path_storage,\n",
    "                                        file_name='s2_general_best')"
   ]
  },
  {
   "cell_type": "code",
   "execution_count": 23,
   "metadata": {},
   "outputs": [
    {
     "data": {
      "text/html": [
       "<div>\n",
       "<style scoped>\n",
       "    .dataframe tbody tr th:only-of-type {\n",
       "        vertical-align: middle;\n",
       "    }\n",
       "\n",
       "    .dataframe tbody tr th {\n",
       "        vertical-align: top;\n",
       "    }\n",
       "\n",
       "    .dataframe thead th {\n",
       "        text-align: right;\n",
       "    }\n",
       "</style>\n",
       "<table border=\"1\" class=\"dataframe\">\n",
       "  <thead>\n",
       "    <tr style=\"text-align: right;\">\n",
       "      <th></th>\n",
       "      <th>model</th>\n",
       "      <th>auc</th>\n",
       "      <th>f1_score</th>\n",
       "      <th>accuracy</th>\n",
       "      <th>precision</th>\n",
       "    </tr>\n",
       "  </thead>\n",
       "  <tbody>\n",
       "    <tr>\n",
       "      <th>0</th>\n",
       "      <td>mobilenet_v2</td>\n",
       "      <td>0.763789</td>\n",
       "      <td>0.840178</td>\n",
       "      <td>0.767522</td>\n",
       "      <td>0.821019</td>\n",
       "    </tr>\n",
       "    <tr>\n",
       "      <th>1</th>\n",
       "      <td>efficientnet_v2l</td>\n",
       "      <td>0.591429</td>\n",
       "      <td>0.843328</td>\n",
       "      <td>0.734385</td>\n",
       "      <td>0.734385</td>\n",
       "    </tr>\n",
       "    <tr>\n",
       "      <th>2</th>\n",
       "      <td>mobilenet_v3large</td>\n",
       "      <td>0.583970</td>\n",
       "      <td>0.843328</td>\n",
       "      <td>0.734385</td>\n",
       "      <td>0.734385</td>\n",
       "    </tr>\n",
       "    <tr>\n",
       "      <th>3</th>\n",
       "      <td>efficientnet_v2m</td>\n",
       "      <td>0.582980</td>\n",
       "      <td>0.843328</td>\n",
       "      <td>0.734385</td>\n",
       "      <td>0.734385</td>\n",
       "    </tr>\n",
       "    <tr>\n",
       "      <th>4</th>\n",
       "      <td>efficientnet_v2s</td>\n",
       "      <td>0.576484</td>\n",
       "      <td>0.843260</td>\n",
       "      <td>0.734631</td>\n",
       "      <td>0.735185</td>\n",
       "    </tr>\n",
       "    <tr>\n",
       "      <th>5</th>\n",
       "      <td>mobilenet_v3small</td>\n",
       "      <td>0.538544</td>\n",
       "      <td>0.843328</td>\n",
       "      <td>0.734385</td>\n",
       "      <td>0.734385</td>\n",
       "    </tr>\n",
       "  </tbody>\n",
       "</table>\n",
       "</div>"
      ],
      "text/plain": [
       "               model       auc  f1_score  accuracy  precision\n",
       "0       mobilenet_v2  0.763789  0.840178  0.767522   0.821019\n",
       "1   efficientnet_v2l  0.591429  0.843328  0.734385   0.734385\n",
       "2  mobilenet_v3large  0.583970  0.843328  0.734385   0.734385\n",
       "3   efficientnet_v2m  0.582980  0.843328  0.734385   0.734385\n",
       "4   efficientnet_v2s  0.576484  0.843260  0.734631   0.735185\n",
       "5  mobilenet_v3small  0.538544  0.843328  0.734385   0.734385"
      ]
     },
     "execution_count": 23,
     "metadata": {},
     "output_type": "execute_result"
    }
   ],
   "source": [
    "# summarize only the model\n",
    "s2_result_sumarize = s2_result[['model',\n",
    "                                'auc', 'f1_score', 'accuracy', 'precision']].groupby(by='model').agg('mean')\n",
    "\n",
    "s2_result_sumarize.reset_index(level=0, inplace=True)\n",
    "s2_result_sumarize.sort_values(by=['auc', 'f1_score', 'accuracy', 'precision'], ascending=False, inplace=True, ignore_index=True)\n",
    "\n",
    "s2_result_sumarize.to_csv(os.path.join(path_storage,\n",
    "                                    's2_summarize_result.csv'),\n",
    "                        index=False)\n",
    "\n",
    "s2_result_sumarize"
   ]
  },
  {
   "cell_type": "markdown",
   "metadata": {},
   "source": [
    "##### Scenario 3"
   ]
  },
  {
   "cell_type": "code",
   "execution_count": 24,
   "metadata": {},
   "outputs": [
    {
     "data": {
      "text/html": [
       "<div>\n",
       "<style scoped>\n",
       "    .dataframe tbody tr th:only-of-type {\n",
       "        vertical-align: middle;\n",
       "    }\n",
       "\n",
       "    .dataframe tbody tr th {\n",
       "        vertical-align: top;\n",
       "    }\n",
       "\n",
       "    .dataframe thead th {\n",
       "        text-align: right;\n",
       "    }\n",
       "</style>\n",
       "<table border=\"1\" class=\"dataframe\">\n",
       "  <thead>\n",
       "    <tr style=\"text-align: right;\">\n",
       "      <th></th>\n",
       "      <th>model</th>\n",
       "      <th>dataset</th>\n",
       "      <th>auc</th>\n",
       "      <th>f1_score</th>\n",
       "      <th>accuracy</th>\n",
       "      <th>precision</th>\n",
       "      <th>true_positive</th>\n",
       "      <th>true_negative</th>\n",
       "      <th>false_positive</th>\n",
       "      <th>false_negative</th>\n",
       "    </tr>\n",
       "  </thead>\n",
       "  <tbody>\n",
       "    <tr>\n",
       "      <th>0</th>\n",
       "      <td>mobilenet_v2</td>\n",
       "      <td>rimone</td>\n",
       "      <td>0.910473</td>\n",
       "      <td>0.888535</td>\n",
       "      <td>0.855670</td>\n",
       "      <td>0.885714</td>\n",
       "      <td>55.8</td>\n",
       "      <td>27.2</td>\n",
       "      <td>7.2</td>\n",
       "      <td>6.8</td>\n",
       "    </tr>\n",
       "    <tr>\n",
       "      <th>1</th>\n",
       "      <td>mobilenet_v2</td>\n",
       "      <td>refuge</td>\n",
       "      <td>0.884915</td>\n",
       "      <td>0.956164</td>\n",
       "      <td>0.920000</td>\n",
       "      <td>0.943243</td>\n",
       "      <td>209.4</td>\n",
       "      <td>11.4</td>\n",
       "      <td>12.6</td>\n",
       "      <td>6.6</td>\n",
       "    </tr>\n",
       "    <tr>\n",
       "      <th>2</th>\n",
       "      <td>efficientnet_v2s</td>\n",
       "      <td>refuge</td>\n",
       "      <td>0.828183</td>\n",
       "      <td>0.948109</td>\n",
       "      <td>0.901667</td>\n",
       "      <td>0.902848</td>\n",
       "      <td>215.6</td>\n",
       "      <td>0.8</td>\n",
       "      <td>23.2</td>\n",
       "      <td>0.4</td>\n",
       "    </tr>\n",
       "    <tr>\n",
       "      <th>3</th>\n",
       "      <td>mobilenet_v2</td>\n",
       "      <td>papila</td>\n",
       "      <td>0.742150</td>\n",
       "      <td>0.797101</td>\n",
       "      <td>0.713115</td>\n",
       "      <td>0.770308</td>\n",
       "      <td>55.0</td>\n",
       "      <td>14.6</td>\n",
       "      <td>16.4</td>\n",
       "      <td>11.6</td>\n",
       "    </tr>\n",
       "    <tr>\n",
       "      <th>4</th>\n",
       "      <td>mobilenet_v3small</td>\n",
       "      <td>rimone</td>\n",
       "      <td>0.731954</td>\n",
       "      <td>0.718750</td>\n",
       "      <td>0.591753</td>\n",
       "      <td>0.647059</td>\n",
       "      <td>50.6</td>\n",
       "      <td>6.8</td>\n",
       "      <td>27.6</td>\n",
       "      <td>12.0</td>\n",
       "    </tr>\n",
       "  </tbody>\n",
       "</table>\n",
       "</div>"
      ],
      "text/plain": [
       "               model dataset       auc  f1_score  accuracy  precision  \\\n",
       "0       mobilenet_v2  rimone  0.910473  0.888535  0.855670   0.885714   \n",
       "1       mobilenet_v2  refuge  0.884915  0.956164  0.920000   0.943243   \n",
       "2   efficientnet_v2s  refuge  0.828183  0.948109  0.901667   0.902848   \n",
       "3       mobilenet_v2  papila  0.742150  0.797101  0.713115   0.770308   \n",
       "4  mobilenet_v3small  rimone  0.731954  0.718750  0.591753   0.647059   \n",
       "\n",
       "   true_positive  true_negative  false_positive  false_negative  \n",
       "0           55.8           27.2             7.2             6.8  \n",
       "1          209.4           11.4            12.6             6.6  \n",
       "2          215.6            0.8            23.2             0.4  \n",
       "3           55.0           14.6            16.4            11.6  \n",
       "4           50.6            6.8            27.6            12.0  "
      ]
     },
     "execution_count": 24,
     "metadata": {},
     "output_type": "execute_result"
    }
   ],
   "source": [
    "# the general result\n",
    "s3_result = result_final.groupby(by='scenario').get_group('scenario_3')\n",
    "\n",
    "s3_result.drop(columns=['scenario', 'loss', 'sensitivity'], inplace=True)\n",
    "s3_result.sort_values(by=['auc', 'f1_score', 'accuracy', 'precision'], ascending=False, inplace=True, ignore_index=True)\n",
    "\n",
    "s3_result.to_csv(os.path.join(path_storage,\n",
    "                            's3_general_result.csv'),\n",
    "                index=False)\n",
    "\n",
    "s3_result.head(5)"
   ]
  },
  {
   "cell_type": "code",
   "execution_count": 25,
   "metadata": {},
   "outputs": [
    {
     "data": {
      "image/png": "[encoded data removed]",
      "text/plain": [
       "<Figure size 800x500 with 2 Axes>"
      ]
     },
     "metadata": {},
     "output_type": "display_data"
    }
   ],
   "source": [
    "# visualize the confusion matrix of s1 general best\n",
    "modeling.confusion_matrix_plot_highest(result=s3_result,\n",
    "                                        place=0,\n",
    "                                        model_name='Mobilenet V2 - RIMONE',\n",
    "                                        path_dest=path_storage,\n",
    "                                        file_name='s3_general_best')"
   ]
  },
  {
   "cell_type": "code",
   "execution_count": 26,
   "metadata": {},
   "outputs": [
    {
     "data": {
      "text/html": [
       "<div>\n",
       "<style scoped>\n",
       "    .dataframe tbody tr th:only-of-type {\n",
       "        vertical-align: middle;\n",
       "    }\n",
       "\n",
       "    .dataframe tbody tr th {\n",
       "        vertical-align: top;\n",
       "    }\n",
       "\n",
       "    .dataframe thead th {\n",
       "        text-align: right;\n",
       "    }\n",
       "</style>\n",
       "<table border=\"1\" class=\"dataframe\">\n",
       "  <thead>\n",
       "    <tr style=\"text-align: right;\">\n",
       "      <th></th>\n",
       "      <th>model</th>\n",
       "      <th>auc</th>\n",
       "      <th>f1_score</th>\n",
       "      <th>accuracy</th>\n",
       "      <th>precision</th>\n",
       "    </tr>\n",
       "  </thead>\n",
       "  <tbody>\n",
       "    <tr>\n",
       "      <th>0</th>\n",
       "      <td>mobilenet_v2</td>\n",
       "      <td>0.747957</td>\n",
       "      <td>0.852709</td>\n",
       "      <td>0.782245</td>\n",
       "      <td>0.826406</td>\n",
       "    </tr>\n",
       "    <tr>\n",
       "      <th>1</th>\n",
       "      <td>efficientnet_v2s</td>\n",
       "      <td>0.647555</td>\n",
       "      <td>0.841332</td>\n",
       "      <td>0.733199</td>\n",
       "      <td>0.736316</td>\n",
       "    </tr>\n",
       "    <tr>\n",
       "      <th>2</th>\n",
       "      <td>mobilenet_v3small</td>\n",
       "      <td>0.636534</td>\n",
       "      <td>0.826900</td>\n",
       "      <td>0.720983</td>\n",
       "      <td>0.734810</td>\n",
       "    </tr>\n",
       "    <tr>\n",
       "      <th>3</th>\n",
       "      <td>efficientnet_v2l</td>\n",
       "      <td>0.607921</td>\n",
       "      <td>0.841770</td>\n",
       "      <td>0.739025</td>\n",
       "      <td>0.742477</td>\n",
       "    </tr>\n",
       "    <tr>\n",
       "      <th>4</th>\n",
       "      <td>efficientnet_v2m</td>\n",
       "      <td>0.607504</td>\n",
       "      <td>0.843328</td>\n",
       "      <td>0.734385</td>\n",
       "      <td>0.734385</td>\n",
       "    </tr>\n",
       "    <tr>\n",
       "      <th>5</th>\n",
       "      <td>mobilenet_v3large</td>\n",
       "      <td>0.595323</td>\n",
       "      <td>0.843328</td>\n",
       "      <td>0.734385</td>\n",
       "      <td>0.734385</td>\n",
       "    </tr>\n",
       "  </tbody>\n",
       "</table>\n",
       "</div>"
      ],
      "text/plain": [
       "               model       auc  f1_score  accuracy  precision\n",
       "0       mobilenet_v2  0.747957  0.852709  0.782245   0.826406\n",
       "1   efficientnet_v2s  0.647555  0.841332  0.733199   0.736316\n",
       "2  mobilenet_v3small  0.636534  0.826900  0.720983   0.734810\n",
       "3   efficientnet_v2l  0.607921  0.841770  0.739025   0.742477\n",
       "4   efficientnet_v2m  0.607504  0.843328  0.734385   0.734385\n",
       "5  mobilenet_v3large  0.595323  0.843328  0.734385   0.734385"
      ]
     },
     "execution_count": 26,
     "metadata": {},
     "output_type": "execute_result"
    }
   ],
   "source": [
    "# summarize only the model\n",
    "s3_result_sumarize = s3_result[['model',\n",
    "                                'auc', 'f1_score', 'accuracy', 'precision']].groupby(by='model').agg('mean')\n",
    "\n",
    "s3_result_sumarize.reset_index(level=0, inplace=True)\n",
    "s3_result_sumarize.sort_values(by=['auc', 'f1_score', 'accuracy', 'precision'], ascending=False, inplace=True, ignore_index=True)\n",
    "\n",
    "s3_result_sumarize.to_csv(os.path.join(path_storage,\n",
    "                                    's3_summarize_result.csv'),\n",
    "                        index=False)\n",
    "\n",
    "s3_result_sumarize"
   ]
  },
  {
   "cell_type": "markdown",
   "metadata": {},
   "source": [
    "#### By Dataset"
   ]
  },
  {
   "cell_type": "markdown",
   "metadata": {},
   "source": [
    "##### RIMONE"
   ]
  },
  {
   "cell_type": "code",
   "execution_count": null,
   "metadata": {},
   "outputs": [],
   "source": []
  }
 ],
 "metadata": {
  "kernelspec": {
   "display_name": "env_skripsi",
   "language": "python",
   "name": "python3"
  },
  "language_info": {
   "codemirror_mode": {
    "name": "ipython",
    "version": 3
   },
   "file_extension": ".py",
   "mimetype": "text/x-python",
   "name": "python",
   "nbconvert_exporter": "python",
   "pygments_lexer": "ipython3",
   "version": "3.10.13"
  }
 },
 "nbformat": 4,
 "nbformat_minor": 2
}
