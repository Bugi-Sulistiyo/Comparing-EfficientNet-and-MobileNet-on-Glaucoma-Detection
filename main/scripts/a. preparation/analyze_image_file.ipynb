{
 "cells": [
  {
   "cell_type": "code",
   "execution_count": 1,
   "metadata": {},
   "outputs": [],
   "source": [
    "import os\n",
    "import sys\n",
    "from dotenv import load_dotenv\n",
    "\n",
    "load_dotenv()\n",
    "sys.path.append(os.environ.get('PATH_CUSTOM_MODULES'))\n",
    "\n",
    "import data_prep\n",
    "import analyze_image"
   ]
  },
  {
   "cell_type": "markdown",
   "metadata": {},
   "source": [
    "### Prepare all the variable"
   ]
  },
  {
   "cell_type": "code",
   "execution_count": 2,
   "metadata": {},
   "outputs": [],
   "source": [
    "dataset_names = ['rimone', 'g1020', 'refuge', 'papila']\n",
    "path_source = os.environ.get('PATH_DATASET_COMBINED')\n",
    "dataset_labels = ['normal', 'glaukoma']"
   ]
  },
  {
   "cell_type": "markdown",
   "metadata": {},
   "source": [
    "### Create the metadata"
   ]
  },
  {
   "cell_type": "code",
   "execution_count": 3,
   "metadata": {},
   "outputs": [],
   "source": [
    "path_all_dataset = []\n",
    "for dataset_name in dataset_names:\n",
    "    path_all_dataset.append(os.path.join(path_source, dataset_name))\n",
    "\n",
    "path_source_rimone, path_source_g1020, path_source_refuge, path_source_papila = path_all_dataset\n",
    "\n",
    "del dataset_name"
   ]
  },
  {
   "cell_type": "code",
   "execution_count": 4,
   "metadata": {},
   "outputs": [],
   "source": [
    "file_names = {}\n",
    "for index, dataset_path in enumerate(path_all_dataset):\n",
    "    temp_dict = {}\n",
    "    for label_name in dataset_labels:\n",
    "        temp_dict[label_name] = data_prep.get_file_names(path=os.path.join(dataset_path,\n",
    "                                                                            label_name))\n",
    "    file_names[dataset_names[index]] = temp_dict\n",
    "\n",
    "del index, dataset_path, temp_dict, label_name"
   ]
  },
  {
   "cell_type": "code",
   "execution_count": 5,
   "metadata": {},
   "outputs": [
    {
     "data": {
      "text/html": [
       "<div>\n",
       "<style scoped>\n",
       "    .dataframe tbody tr th:only-of-type {\n",
       "        vertical-align: middle;\n",
       "    }\n",
       "\n",
       "    .dataframe tbody tr th {\n",
       "        vertical-align: top;\n",
       "    }\n",
       "\n",
       "    .dataframe thead th {\n",
       "        text-align: right;\n",
       "    }\n",
       "</style>\n",
       "<table border=\"1\" class=\"dataframe\">\n",
       "  <thead>\n",
       "    <tr style=\"text-align: right;\">\n",
       "      <th></th>\n",
       "      <th>dataset</th>\n",
       "      <th>label</th>\n",
       "      <th>file_name</th>\n",
       "      <th>width</th>\n",
       "      <th>height</th>\n",
       "      <th>color_space</th>\n",
       "      <th>path</th>\n",
       "    </tr>\n",
       "  </thead>\n",
       "  <tbody>\n",
       "    <tr>\n",
       "      <th>0</th>\n",
       "      <td>rimone</td>\n",
       "      <td>normal</td>\n",
       "      <td>r1_Im001.png</td>\n",
       "      <td>462</td>\n",
       "      <td>462</td>\n",
       "      <td>RGB</td>\n",
       "      <td>d:\\\\Programming\\\\Python\\\\Skripsi\\\\dataset\\\\com...</td>\n",
       "    </tr>\n",
       "    <tr>\n",
       "      <th>1</th>\n",
       "      <td>rimone</td>\n",
       "      <td>normal</td>\n",
       "      <td>r1_Im003.png</td>\n",
       "      <td>524</td>\n",
       "      <td>524</td>\n",
       "      <td>RGB</td>\n",
       "      <td>d:\\\\Programming\\\\Python\\\\Skripsi\\\\dataset\\\\com...</td>\n",
       "    </tr>\n",
       "    <tr>\n",
       "      <th>2</th>\n",
       "      <td>rimone</td>\n",
       "      <td>normal</td>\n",
       "      <td>r1_Im004.png</td>\n",
       "      <td>476</td>\n",
       "      <td>476</td>\n",
       "      <td>RGB</td>\n",
       "      <td>d:\\\\Programming\\\\Python\\\\Skripsi\\\\dataset\\\\com...</td>\n",
       "    </tr>\n",
       "    <tr>\n",
       "      <th>3</th>\n",
       "      <td>rimone</td>\n",
       "      <td>normal</td>\n",
       "      <td>r1_Im006.png</td>\n",
       "      <td>320</td>\n",
       "      <td>320</td>\n",
       "      <td>RGB</td>\n",
       "      <td>d:\\\\Programming\\\\Python\\\\Skripsi\\\\dataset\\\\com...</td>\n",
       "    </tr>\n",
       "    <tr>\n",
       "      <th>4</th>\n",
       "      <td>rimone</td>\n",
       "      <td>normal</td>\n",
       "      <td>r1_Im008.png</td>\n",
       "      <td>316</td>\n",
       "      <td>316</td>\n",
       "      <td>RGB</td>\n",
       "      <td>d:\\\\Programming\\\\Python\\\\Skripsi\\\\dataset\\\\com...</td>\n",
       "    </tr>\n",
       "    <tr>\n",
       "      <th>...</th>\n",
       "      <td>...</td>\n",
       "      <td>...</td>\n",
       "      <td>...</td>\n",
       "      <td>...</td>\n",
       "      <td>...</td>\n",
       "      <td>...</td>\n",
       "      <td>...</td>\n",
       "    </tr>\n",
       "    <tr>\n",
       "      <th>3188</th>\n",
       "      <td>papila</td>\n",
       "      <td>glaukoma</td>\n",
       "      <td>RET264OS.jpg</td>\n",
       "      <td>2576</td>\n",
       "      <td>1934</td>\n",
       "      <td>RGB</td>\n",
       "      <td>d:\\\\Programming\\\\Python\\\\Skripsi\\\\dataset\\\\com...</td>\n",
       "    </tr>\n",
       "    <tr>\n",
       "      <th>3189</th>\n",
       "      <td>papila</td>\n",
       "      <td>glaukoma</td>\n",
       "      <td>RET265OD.jpg</td>\n",
       "      <td>2576</td>\n",
       "      <td>1934</td>\n",
       "      <td>RGB</td>\n",
       "      <td>d:\\\\Programming\\\\Python\\\\Skripsi\\\\dataset\\\\com...</td>\n",
       "    </tr>\n",
       "    <tr>\n",
       "      <th>3190</th>\n",
       "      <td>papila</td>\n",
       "      <td>glaukoma</td>\n",
       "      <td>RET265OS.jpg</td>\n",
       "      <td>2576</td>\n",
       "      <td>1934</td>\n",
       "      <td>RGB</td>\n",
       "      <td>d:\\\\Programming\\\\Python\\\\Skripsi\\\\dataset\\\\com...</td>\n",
       "    </tr>\n",
       "    <tr>\n",
       "      <th>3191</th>\n",
       "      <td>papila</td>\n",
       "      <td>glaukoma</td>\n",
       "      <td>RET276OD.jpg</td>\n",
       "      <td>2576</td>\n",
       "      <td>1934</td>\n",
       "      <td>RGB</td>\n",
       "      <td>d:\\\\Programming\\\\Python\\\\Skripsi\\\\dataset\\\\com...</td>\n",
       "    </tr>\n",
       "    <tr>\n",
       "      <th>3192</th>\n",
       "      <td>papila</td>\n",
       "      <td>glaukoma</td>\n",
       "      <td>RET276OS.jpg</td>\n",
       "      <td>2576</td>\n",
       "      <td>1934</td>\n",
       "      <td>RGB</td>\n",
       "      <td>d:\\\\Programming\\\\Python\\\\Skripsi\\\\dataset\\\\com...</td>\n",
       "    </tr>\n",
       "  </tbody>\n",
       "</table>\n",
       "<p>3193 rows × 7 columns</p>\n",
       "</div>"
      ],
      "text/plain": [
       "     dataset     label     file_name  width  height color_space  \\\n",
       "0     rimone    normal  r1_Im001.png    462     462         RGB   \n",
       "1     rimone    normal  r1_Im003.png    524     524         RGB   \n",
       "2     rimone    normal  r1_Im004.png    476     476         RGB   \n",
       "3     rimone    normal  r1_Im006.png    320     320         RGB   \n",
       "4     rimone    normal  r1_Im008.png    316     316         RGB   \n",
       "...      ...       ...           ...    ...     ...         ...   \n",
       "3188  papila  glaukoma  RET264OS.jpg   2576    1934         RGB   \n",
       "3189  papila  glaukoma  RET265OD.jpg   2576    1934         RGB   \n",
       "3190  papila  glaukoma  RET265OS.jpg   2576    1934         RGB   \n",
       "3191  papila  glaukoma  RET276OD.jpg   2576    1934         RGB   \n",
       "3192  papila  glaukoma  RET276OS.jpg   2576    1934         RGB   \n",
       "\n",
       "                                                   path  \n",
       "0     d:\\\\Programming\\\\Python\\\\Skripsi\\\\dataset\\\\com...  \n",
       "1     d:\\\\Programming\\\\Python\\\\Skripsi\\\\dataset\\\\com...  \n",
       "2     d:\\\\Programming\\\\Python\\\\Skripsi\\\\dataset\\\\com...  \n",
       "3     d:\\\\Programming\\\\Python\\\\Skripsi\\\\dataset\\\\com...  \n",
       "4     d:\\\\Programming\\\\Python\\\\Skripsi\\\\dataset\\\\com...  \n",
       "...                                                 ...  \n",
       "3188  d:\\\\Programming\\\\Python\\\\Skripsi\\\\dataset\\\\com...  \n",
       "3189  d:\\\\Programming\\\\Python\\\\Skripsi\\\\dataset\\\\com...  \n",
       "3190  d:\\\\Programming\\\\Python\\\\Skripsi\\\\dataset\\\\com...  \n",
       "3191  d:\\\\Programming\\\\Python\\\\Skripsi\\\\dataset\\\\com...  \n",
       "3192  d:\\\\Programming\\\\Python\\\\Skripsi\\\\dataset\\\\com...  \n",
       "\n",
       "[3193 rows x 7 columns]"
      ]
     },
     "execution_count": 5,
     "metadata": {},
     "output_type": "execute_result"
    }
   ],
   "source": [
    "metadata_images = analyze_image.create_metadata(dataset_names=dataset_names,\n",
    "                                                dataset_labels=dataset_labels,\n",
    "                                                file_names=file_names,\n",
    "                                                path_source=path_source)\n",
    "metadata_images"
   ]
  },
  {
   "cell_type": "code",
   "execution_count": 6,
   "metadata": {},
   "outputs": [
    {
     "data": {
      "text/plain": [
       "dataset\n",
       "refuge    1200\n",
       "g1020     1020\n",
       "papila     488\n",
       "rimone     485\n",
       "Name: count, dtype: int64"
      ]
     },
     "execution_count": 6,
     "metadata": {},
     "output_type": "execute_result"
    }
   ],
   "source": [
    "metadata_images['dataset'].value_counts()"
   ]
  },
  {
   "cell_type": "code",
   "execution_count": 7,
   "metadata": {},
   "outputs": [],
   "source": [
    "metadata_rimone = metadata_images[metadata_images['dataset'] == 'rimone']\n",
    "metadata_g1020 = metadata_images[metadata_images['dataset'] == 'g1020']\n",
    "metadata_refuge = metadata_images[metadata_images['dataset'] == 'refuge']\n",
    "metadata_papila = metadata_images[metadata_images['dataset'] == 'papila']"
   ]
  },
  {
   "cell_type": "markdown",
   "metadata": {},
   "source": [
    "### Check the Rim one dataset"
   ]
  },
  {
   "cell_type": "code",
   "execution_count": 19,
   "metadata": {},
   "outputs": [
    {
     "data": {
      "image/png": "[encoded data removed]",
      "text/plain": [
       "<Figure size 640x480 with 1 Axes>"
      ]
     },
     "metadata": {},
     "output_type": "display_data"
    }
   ],
   "source": [
    "rimone_stat = analyze_image.visualize_data_distribution(metadata=metadata_rimone,\n",
    "                                        min_line_height=0,\n",
    "                                        max_line_height=100,\n",
    "                                        bin_count=20)"
   ]
  },
  {
   "cell_type": "code",
   "execution_count": 20,
   "metadata": {},
   "outputs": [
    {
     "data": {
      "text/plain": [
       "462.0"
      ]
     },
     "execution_count": 20,
     "metadata": {},
     "output_type": "execute_result"
    }
   ],
   "source": [
    "rimone_stat['median']"
   ]
  },
  {
   "cell_type": "code",
   "execution_count": 21,
   "metadata": {},
   "outputs": [
    {
     "data": {
      "text/html": [
       "<div>\n",
       "<style scoped>\n",
       "    .dataframe tbody tr th:only-of-type {\n",
       "        vertical-align: middle;\n",
       "    }\n",
       "\n",
       "    .dataframe tbody tr th {\n",
       "        vertical-align: top;\n",
       "    }\n",
       "\n",
       "    .dataframe thead th {\n",
       "        text-align: right;\n",
       "    }\n",
       "</style>\n",
       "<table border=\"1\" class=\"dataframe\">\n",
       "  <thead>\n",
       "    <tr style=\"text-align: right;\">\n",
       "      <th></th>\n",
       "      <th>dataset</th>\n",
       "      <th>label</th>\n",
       "      <th>file_name</th>\n",
       "      <th>width</th>\n",
       "      <th>height</th>\n",
       "      <th>color_space</th>\n",
       "      <th>path</th>\n",
       "    </tr>\n",
       "  </thead>\n",
       "  <tbody>\n",
       "    <tr>\n",
       "      <th>0</th>\n",
       "      <td>rimone</td>\n",
       "      <td>normal</td>\n",
       "      <td>r1_Im001.png</td>\n",
       "      <td>462</td>\n",
       "      <td>462</td>\n",
       "      <td>RGB</td>\n",
       "      <td>d:\\\\Programming\\\\Python\\\\Skripsi\\\\dataset\\\\com...</td>\n",
       "    </tr>\n",
       "    <tr>\n",
       "      <th>234</th>\n",
       "      <td>rimone</td>\n",
       "      <td>normal</td>\n",
       "      <td>r3_N-16-R_left_half.png</td>\n",
       "      <td>462</td>\n",
       "      <td>462</td>\n",
       "      <td>RGB</td>\n",
       "      <td>d:\\\\Programming\\\\Python\\\\Skripsi\\\\dataset\\\\com...</td>\n",
       "    </tr>\n",
       "    <tr>\n",
       "      <th>303</th>\n",
       "      <td>rimone</td>\n",
       "      <td>normal</td>\n",
       "      <td>r3_N-83-L_left_half.png</td>\n",
       "      <td>462</td>\n",
       "      <td>462</td>\n",
       "      <td>RGB</td>\n",
       "      <td>d:\\\\Programming\\\\Python\\\\Skripsi\\\\dataset\\\\com...</td>\n",
       "    </tr>\n",
       "  </tbody>\n",
       "</table>\n",
       "</div>"
      ],
      "text/plain": [
       "    dataset   label                file_name  width  height color_space  \\\n",
       "0    rimone  normal             r1_Im001.png    462     462         RGB   \n",
       "234  rimone  normal  r3_N-16-R_left_half.png    462     462         RGB   \n",
       "303  rimone  normal  r3_N-83-L_left_half.png    462     462         RGB   \n",
       "\n",
       "                                                  path  \n",
       "0    d:\\\\Programming\\\\Python\\\\Skripsi\\\\dataset\\\\com...  \n",
       "234  d:\\\\Programming\\\\Python\\\\Skripsi\\\\dataset\\\\com...  \n",
       "303  d:\\\\Programming\\\\Python\\\\Skripsi\\\\dataset\\\\com...  "
      ]
     },
     "execution_count": 21,
     "metadata": {},
     "output_type": "execute_result"
    }
   ],
   "source": [
    "metadata_rimone.loc[metadata_rimone.width == rimone_stat['median']]\n",
    "# the picture size will be resized to 462x462"
   ]
  },
  {
   "cell_type": "markdown",
   "metadata": {},
   "source": [
    "### Check the g1020 dataset"
   ]
  },
  {
   "cell_type": "code",
   "execution_count": 28,
   "metadata": {},
   "outputs": [
    {
     "data": {
      "image/png": "[encoded data removed]",
      "text/plain": [
       "<Figure size 640x480 with 1 Axes>"
      ]
     },
     "metadata": {},
     "output_type": "display_data"
    }
   ],
   "source": [
    "g1020_stat = analyze_image.visualize_data_distribution(metadata=metadata_g1020,\n",
    "                                        min_line_height=0,\n",
    "                                        max_line_height=100,\n",
    "                                        bin_count=500)"
   ]
  },
  {
   "cell_type": "code",
   "execution_count": 29,
   "metadata": {},
   "outputs": [
    {
     "data": {
      "text/plain": [
       "3004.0"
      ]
     },
     "execution_count": 29,
     "metadata": {},
     "output_type": "execute_result"
    }
   ],
   "source": [
    "g1020_stat['median']"
   ]
  },
  {
   "cell_type": "code",
   "execution_count": 30,
   "metadata": {},
   "outputs": [
    {
     "data": {
      "text/html": [
       "<div>\n",
       "<style scoped>\n",
       "    .dataframe tbody tr th:only-of-type {\n",
       "        vertical-align: middle;\n",
       "    }\n",
       "\n",
       "    .dataframe tbody tr th {\n",
       "        vertical-align: top;\n",
       "    }\n",
       "\n",
       "    .dataframe thead th {\n",
       "        text-align: right;\n",
       "    }\n",
       "</style>\n",
       "<table border=\"1\" class=\"dataframe\">\n",
       "  <thead>\n",
       "    <tr style=\"text-align: right;\">\n",
       "      <th></th>\n",
       "      <th>dataset</th>\n",
       "      <th>label</th>\n",
       "      <th>file_name</th>\n",
       "      <th>width</th>\n",
       "      <th>height</th>\n",
       "      <th>color_space</th>\n",
       "      <th>path</th>\n",
       "    </tr>\n",
       "  </thead>\n",
       "  <tbody>\n",
       "    <tr>\n",
       "      <th>485</th>\n",
       "      <td>g1020</td>\n",
       "      <td>normal</td>\n",
       "      <td>image_0.jpg</td>\n",
       "      <td>3004</td>\n",
       "      <td>2423</td>\n",
       "      <td>RGB</td>\n",
       "      <td>d:\\\\Programming\\\\Python\\\\Skripsi\\\\dataset\\\\com...</td>\n",
       "    </tr>\n",
       "    <tr>\n",
       "      <th>486</th>\n",
       "      <td>g1020</td>\n",
       "      <td>normal</td>\n",
       "      <td>image_1.jpg</td>\n",
       "      <td>3005</td>\n",
       "      <td>2424</td>\n",
       "      <td>RGB</td>\n",
       "      <td>d:\\\\Programming\\\\Python\\\\Skripsi\\\\dataset\\\\com...</td>\n",
       "    </tr>\n",
       "    <tr>\n",
       "      <th>487</th>\n",
       "      <td>g1020</td>\n",
       "      <td>normal</td>\n",
       "      <td>image_10.jpg</td>\n",
       "      <td>3006</td>\n",
       "      <td>2425</td>\n",
       "      <td>RGB</td>\n",
       "      <td>d:\\\\Programming\\\\Python\\\\Skripsi\\\\dataset\\\\com...</td>\n",
       "    </tr>\n",
       "    <tr>\n",
       "      <th>488</th>\n",
       "      <td>g1020</td>\n",
       "      <td>normal</td>\n",
       "      <td>image_103.jpg</td>\n",
       "      <td>3004</td>\n",
       "      <td>2421</td>\n",
       "      <td>RGB</td>\n",
       "      <td>d:\\\\Programming\\\\Python\\\\Skripsi\\\\dataset\\\\com...</td>\n",
       "    </tr>\n",
       "    <tr>\n",
       "      <th>489</th>\n",
       "      <td>g1020</td>\n",
       "      <td>normal</td>\n",
       "      <td>image_1034.jpg</td>\n",
       "      <td>3004</td>\n",
       "      <td>2424</td>\n",
       "      <td>RGB</td>\n",
       "      <td>d:\\\\Programming\\\\Python\\\\Skripsi\\\\dataset\\\\com...</td>\n",
       "    </tr>\n",
       "    <tr>\n",
       "      <th>...</th>\n",
       "      <td>...</td>\n",
       "      <td>...</td>\n",
       "      <td>...</td>\n",
       "      <td>...</td>\n",
       "      <td>...</td>\n",
       "      <td>...</td>\n",
       "      <td>...</td>\n",
       "    </tr>\n",
       "    <tr>\n",
       "      <th>1500</th>\n",
       "      <td>g1020</td>\n",
       "      <td>glaukoma</td>\n",
       "      <td>image_904.jpg</td>\n",
       "      <td>3004</td>\n",
       "      <td>2423</td>\n",
       "      <td>RGB</td>\n",
       "      <td>d:\\\\Programming\\\\Python\\\\Skripsi\\\\dataset\\\\com...</td>\n",
       "    </tr>\n",
       "    <tr>\n",
       "      <th>1501</th>\n",
       "      <td>g1020</td>\n",
       "      <td>glaukoma</td>\n",
       "      <td>image_915.jpg</td>\n",
       "      <td>3005</td>\n",
       "      <td>2423</td>\n",
       "      <td>RGB</td>\n",
       "      <td>d:\\\\Programming\\\\Python\\\\Skripsi\\\\dataset\\\\com...</td>\n",
       "    </tr>\n",
       "    <tr>\n",
       "      <th>1502</th>\n",
       "      <td>g1020</td>\n",
       "      <td>glaukoma</td>\n",
       "      <td>image_916.jpg</td>\n",
       "      <td>3004</td>\n",
       "      <td>2422</td>\n",
       "      <td>RGB</td>\n",
       "      <td>d:\\\\Programming\\\\Python\\\\Skripsi\\\\dataset\\\\com...</td>\n",
       "    </tr>\n",
       "    <tr>\n",
       "      <th>1503</th>\n",
       "      <td>g1020</td>\n",
       "      <td>glaukoma</td>\n",
       "      <td>image_940.jpg</td>\n",
       "      <td>3006</td>\n",
       "      <td>2425</td>\n",
       "      <td>RGB</td>\n",
       "      <td>d:\\\\Programming\\\\Python\\\\Skripsi\\\\dataset\\\\com...</td>\n",
       "    </tr>\n",
       "    <tr>\n",
       "      <th>1504</th>\n",
       "      <td>g1020</td>\n",
       "      <td>glaukoma</td>\n",
       "      <td>image_941.jpg</td>\n",
       "      <td>3005</td>\n",
       "      <td>2424</td>\n",
       "      <td>RGB</td>\n",
       "      <td>d:\\\\Programming\\\\Python\\\\Skripsi\\\\dataset\\\\com...</td>\n",
       "    </tr>\n",
       "  </tbody>\n",
       "</table>\n",
       "<p>1020 rows × 7 columns</p>\n",
       "</div>"
      ],
      "text/plain": [
       "     dataset     label       file_name  width  height color_space  \\\n",
       "485    g1020    normal     image_0.jpg   3004    2423         RGB   \n",
       "486    g1020    normal     image_1.jpg   3005    2424         RGB   \n",
       "487    g1020    normal    image_10.jpg   3006    2425         RGB   \n",
       "488    g1020    normal   image_103.jpg   3004    2421         RGB   \n",
       "489    g1020    normal  image_1034.jpg   3004    2424         RGB   \n",
       "...      ...       ...             ...    ...     ...         ...   \n",
       "1500   g1020  glaukoma   image_904.jpg   3004    2423         RGB   \n",
       "1501   g1020  glaukoma   image_915.jpg   3005    2423         RGB   \n",
       "1502   g1020  glaukoma   image_916.jpg   3004    2422         RGB   \n",
       "1503   g1020  glaukoma   image_940.jpg   3006    2425         RGB   \n",
       "1504   g1020  glaukoma   image_941.jpg   3005    2424         RGB   \n",
       "\n",
       "                                                   path  \n",
       "485   d:\\\\Programming\\\\Python\\\\Skripsi\\\\dataset\\\\com...  \n",
       "486   d:\\\\Programming\\\\Python\\\\Skripsi\\\\dataset\\\\com...  \n",
       "487   d:\\\\Programming\\\\Python\\\\Skripsi\\\\dataset\\\\com...  \n",
       "488   d:\\\\Programming\\\\Python\\\\Skripsi\\\\dataset\\\\com...  \n",
       "489   d:\\\\Programming\\\\Python\\\\Skripsi\\\\dataset\\\\com...  \n",
       "...                                                 ...  \n",
       "1500  d:\\\\Programming\\\\Python\\\\Skripsi\\\\dataset\\\\com...  \n",
       "1501  d:\\\\Programming\\\\Python\\\\Skripsi\\\\dataset\\\\com...  \n",
       "1502  d:\\\\Programming\\\\Python\\\\Skripsi\\\\dataset\\\\com...  \n",
       "1503  d:\\\\Programming\\\\Python\\\\Skripsi\\\\dataset\\\\com...  \n",
       "1504  d:\\\\Programming\\\\Python\\\\Skripsi\\\\dataset\\\\com...  \n",
       "\n",
       "[1020 rows x 7 columns]"
      ]
     },
     "execution_count": 30,
     "metadata": {},
     "output_type": "execute_result"
    }
   ],
   "source": [
    "metadata_g1020"
   ]
  },
  {
   "cell_type": "code",
   "execution_count": 32,
   "metadata": {},
   "outputs": [
    {
     "data": {
      "text/plain": [
       "height\n",
       "2423    262\n",
       "2424    152\n",
       "2425     26\n",
       "2422     23\n",
       "2421      3\n",
       "Name: count, dtype: int64"
      ]
     },
     "execution_count": 32,
     "metadata": {},
     "output_type": "execute_result"
    }
   ],
   "source": [
    "metadata_g1020.loc[metadata_g1020.width == g1020_stat['median'], 'height'].value_counts()\n",
    "# the picture size will be resized to 3004x2423"
   ]
  },
  {
   "cell_type": "markdown",
   "metadata": {},
   "source": [
    "###"
   ]
  },
  {
   "cell_type": "code",
   "execution_count": null,
   "metadata": {},
   "outputs": [],
   "source": []
  }
 ],
 "metadata": {
  "kernelspec": {
   "display_name": "env_skripsi",
   "language": "python",
   "name": "python3"
  },
  "language_info": {
   "codemirror_mode": {
    "name": "ipython",
    "version": 3
   },
   "file_extension": ".py",
   "mimetype": "text/x-python",
   "name": "python",
   "nbconvert_exporter": "python",
   "pygments_lexer": "ipython3",
   "version": "3.10.13"
  }
 },
 "nbformat": 4,
 "nbformat_minor": 2
}
