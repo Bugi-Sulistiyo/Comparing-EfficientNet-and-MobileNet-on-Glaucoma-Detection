{
 "cells": [
  {
   "cell_type": "code",
   "execution_count": 1,
   "metadata": {},
   "outputs": [],
   "source": [
    "import os\n",
    "import sys\n",
    "from dotenv import load_dotenv\n",
    "\n",
    "load_dotenv()\n",
    "sys.path.append(os.environ.get('PATH_CUSTOM_MODULES'))\n",
    "\n",
    "\n",
    "import pandas as pd\n",
    "import json\n",
    "\n",
    "import data_prep"
   ]
  },
  {
   "cell_type": "markdown",
   "metadata": {},
   "source": [
    "### Prepare the destination directory"
   ]
  },
  {
   "cell_type": "code",
   "execution_count": 4,
   "metadata": {},
   "outputs": [],
   "source": [
    "label = [\"normal\", \"glaukoma\"]\n",
    "dataset_names = [\"rimone\", 'g1020', 'refuge', 'papila']\n",
    "\n",
    "# get source dataset paths\n",
    "path_rimone = os.path.join(os.environ.get(\"PATH_DATASET_RIMONE\"),\n",
    "                           'partitioned_by_hospital')\n",
    "path_g1020 = os.path.join(os.environ.get(\"PATH_DATASET_G1020\"),\n",
    "                          'Images')\n",
    "path_refuge = os.path.join(os.environ.get(\"PATH_DATASET_REFUGE\"),\n",
    "                           'Images_Square')\n",
    "path_papila = os.path.join(os.environ.get(\"PATH_DATASET_PAPILA\"),\n",
    "                           'FundusImages')\n",
    "\n",
    "# get destination dataset path\n",
    "path_dataset_destination = os.environ.get(\"PATH_DATASET_COMBINED\")"
   ]
  },
  {
   "cell_type": "code",
   "execution_count": 8,
   "metadata": {},
   "outputs": [
    {
     "name": "stdout",
     "output_type": "stream",
     "text": [
      "Success: 0\n",
      "Already Exists: 8\n"
     ]
    }
   ],
   "source": [
    "result = data_prep.create_destination_directory(path=path_dataset_destination,\n",
    "                                          dataset_names=dataset_names,\n",
    "                                          label_names=label)\n",
    "print(f\"Success: {len(result['Success'])}\",\n",
    "      f\"Already Exists: {len(result['Already Exists'])}\",\n",
    "      sep='\\n')"
   ]
  },
  {
   "cell_type": "markdown",
   "metadata": {},
   "source": [
    "## RIM-ONE Dataset\n",
    "### Getting the file name"
   ]
  },
  {
   "cell_type": "code",
   "execution_count": 4,
   "metadata": {},
   "outputs": [],
   "source": [
    "file_names_raw_rimone = {\n",
    "    \"training_set\": {\n",
    "        \"normal\": [],\n",
    "        \"glaucoma\": []\n",
    "    },\n",
    "    \"test_set\": {\n",
    "        \"normal\": [],\n",
    "        \"glaucoma\": []\n",
    "    }\n",
    "}"
   ]
  },
  {
   "cell_type": "code",
   "execution_count": 5,
   "metadata": {},
   "outputs": [],
   "source": [
    "for dataset_name_key, dataset_name_value in file_names_raw_rimone.items():\n",
    "    for label_name_key, label_name_value in dataset_name_value.items():\n",
    "        file_names_raw_rimone[dataset_name_key][label_name_key] = data_prep.get_file_names(path=os.path.join(path_rimone,\n",
    "                                                                                                            dataset_name_key,\n",
    "                                                                                                            label_name_key))"
   ]
  },
  {
   "cell_type": "markdown",
   "metadata": {},
   "source": [
    "### Validate the file count"
   ]
  },
  {
   "cell_type": "code",
   "execution_count": 6,
   "metadata": {},
   "outputs": [
    {
     "name": "stdout",
     "output_type": "stream",
     "text": [
      "train normal\n",
      "Total: 195\n",
      "train glaucoma\n",
      "Total: 116\n",
      "test_ normal\n",
      "Total: 118\n",
      "test_ glaucoma\n",
      "Total: 56\n"
     ]
    }
   ],
   "source": [
    "for dataset_name_key, dataset_name_value in file_names_raw_rimone.items():\n",
    "    for label_name_key, label_name_value in dataset_name_value.items():\n",
    "        print(f\"{dataset_name_key[:5]} {label_name_key}\",\n",
    "              f\"Total: {len(label_name_value)}\",\n",
    "              sep=\"\\n\")"
   ]
  },
  {
   "cell_type": "markdown",
   "metadata": {},
   "source": [
    "### Transform the raw data into cleaned one"
   ]
  },
  {
   "cell_type": "code",
   "execution_count": 7,
   "metadata": {},
   "outputs": [],
   "source": [
    "file_names_cleaned_rimone = {\n",
    "    label[0]: [],\n",
    "    label[1]: []\n",
    "}\n",
    "for data_type_key, data_type_value in file_names_raw_rimone.items():\n",
    "    for file_name_key, file_name_value in data_type_value.items():\n",
    "        if file_name_key == \"normal\":\n",
    "            file_names_cleaned_rimone[label[0]].extend(file_name_value)\n",
    "        elif file_name_key == \"glaucoma\":\n",
    "            file_names_cleaned_rimone[label[1]].extend(file_name_value)"
   ]
  },
  {
   "cell_type": "markdown",
   "metadata": {},
   "source": [
    "### Check the validity"
   ]
  },
  {
   "cell_type": "code",
   "execution_count": 8,
   "metadata": {},
   "outputs": [
    {
     "name": "stdout",
     "output_type": "stream",
     "text": [
      "Total normal : 313\n",
      "Total glaukoma : 172\n"
     ]
    }
   ],
   "source": [
    "for label_name, label_file in file_names_cleaned_rimone.items():\n",
    "    print(f\"Total {label_name} : {len(label_file)}\")"
   ]
  },
  {
   "cell_type": "markdown",
   "metadata": {},
   "source": [
    "### Copying the image"
   ]
  },
  {
   "cell_type": "code",
   "execution_count": 9,
   "metadata": {},
   "outputs": [],
   "source": [
    "for dataset_name_key, dataset_name_value in file_names_raw_rimone.items():\n",
    "    for label_name_key, label_name_value in dataset_name_value.items():\n",
    "        if label_name_key == \"normal\":\n",
    "            data_prep.copy_files(source_path=os.path.join(path_rimone,\n",
    "                                                        dataset_name_key,\n",
    "                                                        label_name_key),\n",
    "                                destination_path=os.path.join(path_dataset_destination,\n",
    "                                                            dataset_names[0],\n",
    "                                                            label[0]),\n",
    "                                file_names=label_name_value)\n",
    "        elif label_name_key == \"glaucoma\":\n",
    "            data_prep.copy_files(source_path=os.path.join(path_rimone,\n",
    "                                                        dataset_name_key,\n",
    "                                                        label_name_key),\n",
    "                                destination_path=os.path.join(path_dataset_destination,\n",
    "                                                            dataset_names[0],\n",
    "                                                            label[1]),\n",
    "                                file_names=label_name_value)"
   ]
  },
  {
   "cell_type": "markdown",
   "metadata": {},
   "source": [
    "### Validate the file"
   ]
  },
  {
   "cell_type": "code",
   "execution_count": 12,
   "metadata": {},
   "outputs": [],
   "source": [
    "for label_name in label:\n",
    "    for file_name in data_prep.get_file_names(path=os.path.join(path_dataset_destination,\n",
    "                                                                 dataset_names[0])):\n",
    "        if file_name in file_names_cleaned_rimone[label_name]:\n",
    "            pass\n",
    "        else:\n",
    "            print(f\"{file_name} not found in {label_name}\")"
   ]
  },
  {
   "cell_type": "markdown",
   "metadata": {},
   "source": [
    "## G1020 Dataset\n",
    "### Getting the file name"
   ]
  },
  {
   "cell_type": "code",
   "execution_count": 17,
   "metadata": {},
   "outputs": [],
   "source": [
    "file_names_raw_g1020 = {\n",
    "    label[0]: [],\n",
    "    label[1]: []\n",
    "}\n",
    "metadata_g1020 = pd.read_csv(os.path.join(path_g1020, \"../G1020.csv\"))"
   ]
  },
  {
   "cell_type": "code",
   "execution_count": 18,
   "metadata": {},
   "outputs": [
    {
     "data": {
      "text/html": [
       "<div>\n",
       "<style scoped>\n",
       "    .dataframe tbody tr th:only-of-type {\n",
       "        vertical-align: middle;\n",
       "    }\n",
       "\n",
       "    .dataframe tbody tr th {\n",
       "        vertical-align: top;\n",
       "    }\n",
       "\n",
       "    .dataframe thead th {\n",
       "        text-align: right;\n",
       "    }\n",
       "</style>\n",
       "<table border=\"1\" class=\"dataframe\">\n",
       "  <thead>\n",
       "    <tr style=\"text-align: right;\">\n",
       "      <th></th>\n",
       "      <th>imageID</th>\n",
       "      <th>binaryLabels</th>\n",
       "    </tr>\n",
       "  </thead>\n",
       "  <tbody>\n",
       "    <tr>\n",
       "      <th>0</th>\n",
       "      <td>image_0.jpg</td>\n",
       "      <td>0</td>\n",
       "    </tr>\n",
       "    <tr>\n",
       "      <th>1</th>\n",
       "      <td>image_1.jpg</td>\n",
       "      <td>0</td>\n",
       "    </tr>\n",
       "    <tr>\n",
       "      <th>2</th>\n",
       "      <td>image_3.jpg</td>\n",
       "      <td>0</td>\n",
       "    </tr>\n",
       "    <tr>\n",
       "      <th>3</th>\n",
       "      <td>image_4.jpg</td>\n",
       "      <td>0</td>\n",
       "    </tr>\n",
       "    <tr>\n",
       "      <th>4</th>\n",
       "      <td>image_5.jpg</td>\n",
       "      <td>0</td>\n",
       "    </tr>\n",
       "  </tbody>\n",
       "</table>\n",
       "</div>"
      ],
      "text/plain": [
       "       imageID  binaryLabels\n",
       "0  image_0.jpg             0\n",
       "1  image_1.jpg             0\n",
       "2  image_3.jpg             0\n",
       "3  image_4.jpg             0\n",
       "4  image_5.jpg             0"
      ]
     },
     "execution_count": 18,
     "metadata": {},
     "output_type": "execute_result"
    }
   ],
   "source": [
    "metadata_g1020.head()"
   ]
  },
  {
   "cell_type": "code",
   "execution_count": 19,
   "metadata": {},
   "outputs": [
    {
     "data": {
      "text/plain": [
       "binaryLabels\n",
       "0    724\n",
       "1    296\n",
       "Name: count, dtype: int64"
      ]
     },
     "execution_count": 19,
     "metadata": {},
     "output_type": "execute_result"
    }
   ],
   "source": [
    "metadata_g1020.binaryLabels.value_counts()"
   ]
  },
  {
   "cell_type": "code",
   "execution_count": 20,
   "metadata": {},
   "outputs": [
    {
     "name": "stderr",
     "output_type": "stream",
     "text": [
      "C:\\Users\\Bugi\\AppData\\Local\\Temp\\ipykernel_15664\\4072057408.py:1: FutureWarning: Setting an item of incompatible dtype is deprecated and will raise in a future error of pandas. Value 'normal' has dtype incompatible with int64, please explicitly cast to a compatible dtype first.\n",
      "  metadata_g1020.loc[metadata_g1020.binaryLabels == 0, \"binaryLabels\"] = label[0]\n"
     ]
    },
    {
     "data": {
      "text/plain": [
       "binaryLabels\n",
       "normal      724\n",
       "glaukoma    296\n",
       "Name: count, dtype: int64"
      ]
     },
     "execution_count": 20,
     "metadata": {},
     "output_type": "execute_result"
    }
   ],
   "source": [
    "metadata_g1020.loc[metadata_g1020.binaryLabels == 0, \"binaryLabels\"] = label[0]\n",
    "metadata_g1020.loc[metadata_g1020.binaryLabels == 1, \"binaryLabels\"] = label[1]\n",
    "metadata_g1020.binaryLabels.value_counts()"
   ]
  },
  {
   "cell_type": "code",
   "execution_count": 29,
   "metadata": {},
   "outputs": [
    {
     "data": {
      "text/html": [
       "<div>\n",
       "<style scoped>\n",
       "    .dataframe tbody tr th:only-of-type {\n",
       "        vertical-align: middle;\n",
       "    }\n",
       "\n",
       "    .dataframe tbody tr th {\n",
       "        vertical-align: top;\n",
       "    }\n",
       "\n",
       "    .dataframe thead th {\n",
       "        text-align: right;\n",
       "    }\n",
       "</style>\n",
       "<table border=\"1\" class=\"dataframe\">\n",
       "  <thead>\n",
       "    <tr style=\"text-align: right;\">\n",
       "      <th></th>\n",
       "      <th>file name</th>\n",
       "      <th>label</th>\n",
       "    </tr>\n",
       "  </thead>\n",
       "  <tbody>\n",
       "    <tr>\n",
       "      <th>0</th>\n",
       "      <td>image_0.jpg</td>\n",
       "      <td>normal</td>\n",
       "    </tr>\n",
       "    <tr>\n",
       "      <th>1</th>\n",
       "      <td>image_1.jpg</td>\n",
       "      <td>normal</td>\n",
       "    </tr>\n",
       "    <tr>\n",
       "      <th>2</th>\n",
       "      <td>image_3.jpg</td>\n",
       "      <td>normal</td>\n",
       "    </tr>\n",
       "    <tr>\n",
       "      <th>3</th>\n",
       "      <td>image_4.jpg</td>\n",
       "      <td>normal</td>\n",
       "    </tr>\n",
       "    <tr>\n",
       "      <th>4</th>\n",
       "      <td>image_5.jpg</td>\n",
       "      <td>normal</td>\n",
       "    </tr>\n",
       "  </tbody>\n",
       "</table>\n",
       "</div>"
      ],
      "text/plain": [
       "     file name   label\n",
       "0  image_0.jpg  normal\n",
       "1  image_1.jpg  normal\n",
       "2  image_3.jpg  normal\n",
       "3  image_4.jpg  normal\n",
       "4  image_5.jpg  normal"
      ]
     },
     "execution_count": 29,
     "metadata": {},
     "output_type": "execute_result"
    }
   ],
   "source": [
    "metadata_g1020.rename(columns={\"imageID\":\"file name\",\n",
    "                               \"binaryLabels\":\"label\"},\n",
    "                      inplace=True)\n",
    "metadata_g1020.head()"
   ]
  },
  {
   "cell_type": "code",
   "execution_count": 33,
   "metadata": {},
   "outputs": [],
   "source": [
    "for row in metadata_g1020.iterrows():\n",
    "    if row[1]['label'] == label[0]:\n",
    "        file_names_raw_g1020[label[0]].append(row[1]['file name'])\n",
    "    elif row[1]['label'] == label[1]:\n",
    "        file_names_raw_g1020[label[1]].append(row[1]['file name'])"
   ]
  },
  {
   "cell_type": "markdown",
   "metadata": {},
   "source": [
    "### Validate the file count"
   ]
  },
  {
   "cell_type": "code",
   "execution_count": 34,
   "metadata": {},
   "outputs": [
    {
     "name": "stdout",
     "output_type": "stream",
     "text": [
      "Total normal : 724\n",
      "Total glaukoma : 296\n"
     ]
    }
   ],
   "source": [
    "for key in file_names_raw_g1020.keys():\n",
    "    print(f\"Total {key} : {len(file_names_raw_g1020[key])}\")"
   ]
  },
  {
   "cell_type": "markdown",
   "metadata": {},
   "source": [
    "### Copying the image"
   ]
  },
  {
   "cell_type": "code",
   "execution_count": 36,
   "metadata": {},
   "outputs": [],
   "source": [
    "for label_name, label_file in file_names_raw_g1020.items():\n",
    "    data_prep.copy_files(source_path=path_g1020,\n",
    "                         destination_path=os.path.join(path_dataset_destination,\n",
    "                                                     dataset_names[1],\n",
    "                                                     label_name),\n",
    "                         file_names=label_file)"
   ]
  },
  {
   "cell_type": "markdown",
   "metadata": {},
   "source": [
    "### Validate the file"
   ]
  },
  {
   "cell_type": "code",
   "execution_count": 37,
   "metadata": {},
   "outputs": [],
   "source": [
    "for label_name in label:\n",
    "    for file_name in data_prep.get_file_names(path=os.path.join(path_dataset_destination,\n",
    "                                                                 dataset_names[1])):\n",
    "        if file_name in file_names_raw_g1020[label_name]:\n",
    "            pass\n",
    "        else:\n",
    "            print(f\"{file_name} not found in {label_name}\")"
   ]
  },
  {
   "cell_type": "markdown",
   "metadata": {},
   "source": [
    "## REFUGE Dataset\n",
    "### Creating the matadata"
   ]
  },
  {
   "cell_type": "code",
   "execution_count": 10,
   "metadata": {},
   "outputs": [
    {
     "name": "stdout",
     "output_type": "stream",
     "text": [
      "d:\\\\Programming\\\\Python\\\\Skripsi\\\\dataset\\\\REFUGE\\Images_Square\n"
     ]
    }
   ],
   "source": [
    "print(path_refuge)"
   ]
  },
  {
   "cell_type": "code",
   "execution_count": 5,
   "metadata": {},
   "outputs": [],
   "source": [
    "file_names_raw_refuge = {\n",
    "    label[0]: [],\n",
    "    label[1]: []\n",
    "}\n",
    "\n",
    "meta_refuge_train = json.load(open(os.path.join(path_refuge, \"../train/index.json\")))\n",
    "meta_refuge_val = json.load(open(os.path.join(path_refuge, \"../val/index.json\")))\n",
    "meta_refuge_test = pd.read_csv(os.path.join(path_refuge, \"../REFUGE1Test.csv\"))"
   ]
  },
  {
   "cell_type": "code",
   "execution_count": 6,
   "metadata": {},
   "outputs": [
    {
     "data": {
      "text/html": [
       "<div>\n",
       "<style scoped>\n",
       "    .dataframe tbody tr th:only-of-type {\n",
       "        vertical-align: middle;\n",
       "    }\n",
       "\n",
       "    .dataframe tbody tr th {\n",
       "        vertical-align: top;\n",
       "    }\n",
       "\n",
       "    .dataframe thead th {\n",
       "        text-align: right;\n",
       "    }\n",
       "</style>\n",
       "<table border=\"1\" class=\"dataframe\">\n",
       "  <thead>\n",
       "    <tr style=\"text-align: right;\">\n",
       "      <th></th>\n",
       "      <th>nama file</th>\n",
       "      <th>label</th>\n",
       "    </tr>\n",
       "  </thead>\n",
       "  <tbody>\n",
       "    <tr>\n",
       "      <th>0</th>\n",
       "      <td>T0001.jpg</td>\n",
       "      <td>0</td>\n",
       "    </tr>\n",
       "    <tr>\n",
       "      <th>1</th>\n",
       "      <td>T0002.jpg</td>\n",
       "      <td>0</td>\n",
       "    </tr>\n",
       "    <tr>\n",
       "      <th>2</th>\n",
       "      <td>T0003.jpg</td>\n",
       "      <td>0</td>\n",
       "    </tr>\n",
       "    <tr>\n",
       "      <th>3</th>\n",
       "      <td>T0004.jpg</td>\n",
       "      <td>0</td>\n",
       "    </tr>\n",
       "    <tr>\n",
       "      <th>4</th>\n",
       "      <td>T0005.jpg</td>\n",
       "      <td>0</td>\n",
       "    </tr>\n",
       "  </tbody>\n",
       "</table>\n",
       "</div>"
      ],
      "text/plain": [
       "   nama file  label\n",
       "0  T0001.jpg      0\n",
       "1  T0002.jpg      0\n",
       "2  T0003.jpg      0\n",
       "3  T0004.jpg      0\n",
       "4  T0005.jpg      0"
      ]
     },
     "execution_count": 6,
     "metadata": {},
     "output_type": "execute_result"
    }
   ],
   "source": [
    "metadata_refuge_test_cleaned = meta_refuge_test[['imgName', 'label']].copy()\n",
    "metadata_refuge_test_cleaned.rename(columns={\"imgName\":\"nama file\"},\n",
    "                                    inplace=True)\n",
    "metadata_refuge_test_cleaned['nama file'] = metadata_refuge_test_cleaned['nama file'].str.rsplit(pat='/', n=1, expand=True)[1]\n",
    "metadata_refuge_test_cleaned.head()"
   ]
  },
  {
   "cell_type": "code",
   "execution_count": 7,
   "metadata": {},
   "outputs": [],
   "source": [
    "temp_metadata = {\n",
    "    \"nama file\": [],\n",
    "    \"label\": []\n",
    "}\n",
    "\n",
    "for metadata_temp in [meta_refuge_train, meta_refuge_val]:\n",
    "    for key, value in metadata_temp.items():\n",
    "        temp_metadata[\"nama file\"].append(value['ImgName'])\n",
    "        temp_metadata[\"label\"].append(value['Label'])"
   ]
  },
  {
   "cell_type": "code",
   "execution_count": 8,
   "metadata": {},
   "outputs": [
    {
     "name": "stderr",
     "output_type": "stream",
     "text": [
      "C:\\Users\\Bugi\\AppData\\Local\\Temp\\ipykernel_16552\\2953554023.py:5: FutureWarning: Setting an item of incompatible dtype is deprecated and will raise in a future error of pandas. Value 'normal' has dtype incompatible with int64, please explicitly cast to a compatible dtype first.\n",
      "  metadata_refuge.loc[metadata_refuge.label == 0, \"label\"] = label[0]\n"
     ]
    },
    {
     "data": {
      "text/html": [
       "<div>\n",
       "<style scoped>\n",
       "    .dataframe tbody tr th:only-of-type {\n",
       "        vertical-align: middle;\n",
       "    }\n",
       "\n",
       "    .dataframe tbody tr th {\n",
       "        vertical-align: top;\n",
       "    }\n",
       "\n",
       "    .dataframe thead th {\n",
       "        text-align: right;\n",
       "    }\n",
       "</style>\n",
       "<table border=\"1\" class=\"dataframe\">\n",
       "  <thead>\n",
       "    <tr style=\"text-align: right;\">\n",
       "      <th></th>\n",
       "      <th>nama file</th>\n",
       "      <th>label</th>\n",
       "    </tr>\n",
       "  </thead>\n",
       "  <tbody>\n",
       "    <tr>\n",
       "      <th>0</th>\n",
       "      <td>g0001.jpg</td>\n",
       "      <td>glaukoma</td>\n",
       "    </tr>\n",
       "    <tr>\n",
       "      <th>1</th>\n",
       "      <td>g0002.jpg</td>\n",
       "      <td>glaukoma</td>\n",
       "    </tr>\n",
       "    <tr>\n",
       "      <th>2</th>\n",
       "      <td>g0003.jpg</td>\n",
       "      <td>glaukoma</td>\n",
       "    </tr>\n",
       "    <tr>\n",
       "      <th>3</th>\n",
       "      <td>g0004.jpg</td>\n",
       "      <td>glaukoma</td>\n",
       "    </tr>\n",
       "    <tr>\n",
       "      <th>4</th>\n",
       "      <td>g0005.jpg</td>\n",
       "      <td>glaukoma</td>\n",
       "    </tr>\n",
       "  </tbody>\n",
       "</table>\n",
       "</div>"
      ],
      "text/plain": [
       "   nama file     label\n",
       "0  g0001.jpg  glaukoma\n",
       "1  g0002.jpg  glaukoma\n",
       "2  g0003.jpg  glaukoma\n",
       "3  g0004.jpg  glaukoma\n",
       "4  g0005.jpg  glaukoma"
      ]
     },
     "execution_count": 8,
     "metadata": {},
     "output_type": "execute_result"
    }
   ],
   "source": [
    "metadata_refuge = pd.concat([pd.DataFrame(temp_metadata),\n",
    "                             metadata_refuge_test_cleaned],\n",
    "                             axis=0,\n",
    "                             ignore_index=True)\n",
    "metadata_refuge.loc[metadata_refuge.label == 0, \"label\"] = label[0]\n",
    "metadata_refuge.loc[metadata_refuge.label == 1, \"label\"] = label[1]\n",
    "metadata_refuge.head()"
   ]
  },
  {
   "cell_type": "code",
   "execution_count": 11,
   "metadata": {},
   "outputs": [],
   "source": [
    "metadata_refuge.to_csv(os.path.join(path_refuge, \"../metadata_REFUGE.csv\"), index=False)"
   ]
  },
  {
   "cell_type": "markdown",
   "metadata": {},
   "source": [
    "### Validate the file count"
   ]
  },
  {
   "cell_type": "code",
   "execution_count": 9,
   "metadata": {},
   "outputs": [
    {
     "data": {
      "text/plain": [
       "label\n",
       "normal      1080\n",
       "glaukoma     120\n",
       "Name: count, dtype: int64"
      ]
     },
     "execution_count": 9,
     "metadata": {},
     "output_type": "execute_result"
    }
   ],
   "source": [
    "metadata_refuge.label.value_counts()"
   ]
  },
  {
   "cell_type": "markdown",
   "metadata": {},
   "source": [
    "### Transform the raw data into the prefered structures"
   ]
  },
  {
   "cell_type": "code",
   "execution_count": 163,
   "metadata": {},
   "outputs": [],
   "source": [
    "for row in metadata_refuge.iterrows():\n",
    "    if row[1]['label'] == label[0]:\n",
    "        file_names_raw_refuge[label[0]].append(row[1]['nama file'])\n",
    "    elif row[1]['label'] == label[1]:\n",
    "        file_names_raw_refuge[label[1]].append(row[1]['nama file'])"
   ]
  },
  {
   "cell_type": "markdown",
   "metadata": {},
   "source": [
    "### Check the validity"
   ]
  },
  {
   "cell_type": "code",
   "execution_count": 164,
   "metadata": {},
   "outputs": [
    {
     "name": "stdout",
     "output_type": "stream",
     "text": [
      "Total normal : 1080\n",
      "Total glaukoma : 120\n"
     ]
    }
   ],
   "source": [
    "for label_name, label_file in file_names_raw_refuge.items():\n",
    "    print(f\"Total {label_name} : {len(label_file)}\")"
   ]
  },
  {
   "cell_type": "markdown",
   "metadata": {},
   "source": [
    "### Copying the image"
   ]
  },
  {
   "cell_type": "code",
   "execution_count": 165,
   "metadata": {},
   "outputs": [],
   "source": [
    "for label_name, label_file in file_names_raw_refuge.items():\n",
    "    data_prep.copy_files(source_path=path_refuge,\n",
    "                         destination_path=os.path.join(path_dataset_destination,\n",
    "                                                     dataset_names[2],\n",
    "                                                     label_name),\n",
    "                         file_names=label_file)"
   ]
  },
  {
   "cell_type": "markdown",
   "metadata": {},
   "source": [
    "### Validate the file"
   ]
  },
  {
   "cell_type": "code",
   "execution_count": 166,
   "metadata": {},
   "outputs": [],
   "source": [
    "for label_name in label:\n",
    "    for file_name in data_prep.get_file_names(path=os.path.join(path_dataset_destination,\n",
    "                                                                 dataset_names[2])):\n",
    "        if file_name in file_names_raw_refuge[label_name]:\n",
    "            pass\n",
    "        else:\n",
    "            print(f\"{file_name} not found in {label_name}\")"
   ]
  },
  {
   "cell_type": "markdown",
   "metadata": {},
   "source": [
    "## PAPILA Dataset\n",
    "### Creating metadata"
   ]
  },
  {
   "cell_type": "code",
   "execution_count": 12,
   "metadata": {},
   "outputs": [],
   "source": [
    "file_names_raw_papila = {\n",
    "    label[0]: [],\n",
    "    label[1]: []\n",
    "}\n",
    "\n",
    "metadata_papila_od_raw = pd.read_excel(os.path.join(path_papila, \"../ClinicalData/patient_data_od.xlsx\"))\n",
    "metadata_papila_os_raw = pd.read_excel(os.path.join(path_papila, \"../ClinicalData/patient_data_os.xlsx\"))"
   ]
  },
  {
   "cell_type": "code",
   "execution_count": 13,
   "metadata": {},
   "outputs": [
    {
     "data": {
      "text/html": [
       "<div>\n",
       "<style scoped>\n",
       "    .dataframe tbody tr th:only-of-type {\n",
       "        vertical-align: middle;\n",
       "    }\n",
       "\n",
       "    .dataframe tbody tr th {\n",
       "        vertical-align: top;\n",
       "    }\n",
       "\n",
       "    .dataframe thead th {\n",
       "        text-align: right;\n",
       "    }\n",
       "</style>\n",
       "<table border=\"1\" class=\"dataframe\">\n",
       "  <thead>\n",
       "    <tr style=\"text-align: right;\">\n",
       "      <th></th>\n",
       "      <th>label</th>\n",
       "      <th>file name</th>\n",
       "      <th>eye side</th>\n",
       "    </tr>\n",
       "  </thead>\n",
       "  <tbody>\n",
       "    <tr>\n",
       "      <th>0</th>\n",
       "      <td>2</td>\n",
       "      <td>RET002OD.jpg</td>\n",
       "      <td>right eye (OD)</td>\n",
       "    </tr>\n",
       "    <tr>\n",
       "      <th>1</th>\n",
       "      <td>1</td>\n",
       "      <td>RET004OD.jpg</td>\n",
       "      <td>right eye (OD)</td>\n",
       "    </tr>\n",
       "    <tr>\n",
       "      <th>2</th>\n",
       "      <td>1</td>\n",
       "      <td>RET005OD.jpg</td>\n",
       "      <td>right eye (OD)</td>\n",
       "    </tr>\n",
       "    <tr>\n",
       "      <th>3</th>\n",
       "      <td>2</td>\n",
       "      <td>RET006OD.jpg</td>\n",
       "      <td>right eye (OD)</td>\n",
       "    </tr>\n",
       "    <tr>\n",
       "      <th>4</th>\n",
       "      <td>2</td>\n",
       "      <td>RET007OD.jpg</td>\n",
       "      <td>right eye (OD)</td>\n",
       "    </tr>\n",
       "  </tbody>\n",
       "</table>\n",
       "</div>"
      ],
      "text/plain": [
       "  label     file name        eye side\n",
       "0     2  RET002OD.jpg  right eye (OD)\n",
       "1     1  RET004OD.jpg  right eye (OD)\n",
       "2     1  RET005OD.jpg  right eye (OD)\n",
       "3     2  RET006OD.jpg  right eye (OD)\n",
       "4     2  RET007OD.jpg  right eye (OD)"
      ]
     },
     "execution_count": 13,
     "metadata": {},
     "output_type": "execute_result"
    }
   ],
   "source": [
    "metadata_papila_od = metadata_papila_od_raw[['Unnamed: 0', 'Diagnosis']].copy()\n",
    "\n",
    "metadata_papila_od.drop(index=[0,1], inplace=True)\n",
    "metadata_papila_od.reset_index(inplace=True, drop=True)\n",
    "metadata_papila_od.rename(columns={\"Unnamed: 0\": \"id\",\n",
    "                                   \"Diagnosis\": \"label\"}, inplace=True)\n",
    "\n",
    "metadata_papila_od['file name'] = \"RET\" + metadata_papila_od.id.str.replace('#', '') + \"OD.jpg\"\n",
    "metadata_papila_od['eye side'] = \"right eye (OD)\"\n",
    "\n",
    "metadata_papila_od.drop(columns=['id'], inplace=True)\n",
    "\n",
    "metadata_papila_od.head()"
   ]
  },
  {
   "cell_type": "code",
   "execution_count": 14,
   "metadata": {},
   "outputs": [
    {
     "data": {
      "text/html": [
       "<div>\n",
       "<style scoped>\n",
       "    .dataframe tbody tr th:only-of-type {\n",
       "        vertical-align: middle;\n",
       "    }\n",
       "\n",
       "    .dataframe tbody tr th {\n",
       "        vertical-align: top;\n",
       "    }\n",
       "\n",
       "    .dataframe thead th {\n",
       "        text-align: right;\n",
       "    }\n",
       "</style>\n",
       "<table border=\"1\" class=\"dataframe\">\n",
       "  <thead>\n",
       "    <tr style=\"text-align: right;\">\n",
       "      <th></th>\n",
       "      <th>label</th>\n",
       "      <th>file name</th>\n",
       "      <th>eye side</th>\n",
       "    </tr>\n",
       "  </thead>\n",
       "  <tbody>\n",
       "    <tr>\n",
       "      <th>0</th>\n",
       "      <td>2</td>\n",
       "      <td>RET002OS.jpg</td>\n",
       "      <td>left eye (OS)</td>\n",
       "    </tr>\n",
       "    <tr>\n",
       "      <th>1</th>\n",
       "      <td>1</td>\n",
       "      <td>RET004OS.jpg</td>\n",
       "      <td>left eye (OS)</td>\n",
       "    </tr>\n",
       "    <tr>\n",
       "      <th>2</th>\n",
       "      <td>1</td>\n",
       "      <td>RET005OS.jpg</td>\n",
       "      <td>left eye (OS)</td>\n",
       "    </tr>\n",
       "    <tr>\n",
       "      <th>3</th>\n",
       "      <td>2</td>\n",
       "      <td>RET006OS.jpg</td>\n",
       "      <td>left eye (OS)</td>\n",
       "    </tr>\n",
       "    <tr>\n",
       "      <th>4</th>\n",
       "      <td>2</td>\n",
       "      <td>RET007OS.jpg</td>\n",
       "      <td>left eye (OS)</td>\n",
       "    </tr>\n",
       "  </tbody>\n",
       "</table>\n",
       "</div>"
      ],
      "text/plain": [
       "  label     file name       eye side\n",
       "0     2  RET002OS.jpg  left eye (OS)\n",
       "1     1  RET004OS.jpg  left eye (OS)\n",
       "2     1  RET005OS.jpg  left eye (OS)\n",
       "3     2  RET006OS.jpg  left eye (OS)\n",
       "4     2  RET007OS.jpg  left eye (OS)"
      ]
     },
     "execution_count": 14,
     "metadata": {},
     "output_type": "execute_result"
    }
   ],
   "source": [
    "metadata_papila_os = metadata_papila_os_raw[['Unnamed: 0', 'Diagnosis']].copy()\n",
    "\n",
    "metadata_papila_os.drop(index=[0,1], inplace=True)\n",
    "metadata_papila_os.reset_index(inplace=True, drop=True)\n",
    "metadata_papila_os.rename(columns={\"Unnamed: 0\": \"id\",\n",
    "                                   \"Diagnosis\": \"label\"}, inplace=True)\n",
    "\n",
    "metadata_papila_os['file name'] = \"RET\" + metadata_papila_os.id.str.replace('#', '') + \"OS.jpg\"\n",
    "metadata_papila_os['eye side'] = \"left eye (OS)\"\n",
    "\n",
    "metadata_papila_os.drop(columns=['id'], inplace=True)\n",
    "\n",
    "metadata_papila_os.head()"
   ]
  },
  {
   "cell_type": "code",
   "execution_count": 15,
   "metadata": {},
   "outputs": [
    {
     "data": {
      "text/html": [
       "<div>\n",
       "<style scoped>\n",
       "    .dataframe tbody tr th:only-of-type {\n",
       "        vertical-align: middle;\n",
       "    }\n",
       "\n",
       "    .dataframe tbody tr th {\n",
       "        vertical-align: top;\n",
       "    }\n",
       "\n",
       "    .dataframe thead th {\n",
       "        text-align: right;\n",
       "    }\n",
       "</style>\n",
       "<table border=\"1\" class=\"dataframe\">\n",
       "  <thead>\n",
       "    <tr style=\"text-align: right;\">\n",
       "      <th></th>\n",
       "      <th>label</th>\n",
       "      <th>file name</th>\n",
       "      <th>eye side</th>\n",
       "    </tr>\n",
       "  </thead>\n",
       "  <tbody>\n",
       "    <tr>\n",
       "      <th>0</th>\n",
       "      <td>suspect</td>\n",
       "      <td>RET002OD.jpg</td>\n",
       "      <td>right eye (OD)</td>\n",
       "    </tr>\n",
       "    <tr>\n",
       "      <th>1</th>\n",
       "      <td>glaukoma</td>\n",
       "      <td>RET004OD.jpg</td>\n",
       "      <td>right eye (OD)</td>\n",
       "    </tr>\n",
       "    <tr>\n",
       "      <th>2</th>\n",
       "      <td>glaukoma</td>\n",
       "      <td>RET005OD.jpg</td>\n",
       "      <td>right eye (OD)</td>\n",
       "    </tr>\n",
       "    <tr>\n",
       "      <th>3</th>\n",
       "      <td>suspect</td>\n",
       "      <td>RET006OD.jpg</td>\n",
       "      <td>right eye (OD)</td>\n",
       "    </tr>\n",
       "    <tr>\n",
       "      <th>4</th>\n",
       "      <td>suspect</td>\n",
       "      <td>RET007OD.jpg</td>\n",
       "      <td>right eye (OD)</td>\n",
       "    </tr>\n",
       "  </tbody>\n",
       "</table>\n",
       "</div>"
      ],
      "text/plain": [
       "      label     file name        eye side\n",
       "0   suspect  RET002OD.jpg  right eye (OD)\n",
       "1  glaukoma  RET004OD.jpg  right eye (OD)\n",
       "2  glaukoma  RET005OD.jpg  right eye (OD)\n",
       "3   suspect  RET006OD.jpg  right eye (OD)\n",
       "4   suspect  RET007OD.jpg  right eye (OD)"
      ]
     },
     "execution_count": 15,
     "metadata": {},
     "output_type": "execute_result"
    }
   ],
   "source": [
    "metadata_papila = pd.concat([metadata_papila_od, metadata_papila_os],\n",
    "                            axis=0,\n",
    "                            ignore_index=True)\n",
    "metadata_papila.loc[metadata_papila.label == 0, 'label'] = label[0]\n",
    "metadata_papila.loc[metadata_papila.label == 1, 'label'] = label[1]\n",
    "metadata_papila.loc[metadata_papila.label == 2, 'label'] = \"suspect\"\n",
    "metadata_papila.head()"
   ]
  },
  {
   "cell_type": "code",
   "execution_count": 17,
   "metadata": {},
   "outputs": [],
   "source": [
    "metadata_papila.to_csv(os.path.join(path_papila, \"../metadata_papila.csv\"), index=False)"
   ]
  },
  {
   "cell_type": "markdown",
   "metadata": {},
   "source": [
    "### Validate the file count"
   ]
  },
  {
   "cell_type": "code",
   "execution_count": 115,
   "metadata": {},
   "outputs": [
    {
     "data": {
      "text/html": [
       "<div>\n",
       "<style scoped>\n",
       "    .dataframe tbody tr th:only-of-type {\n",
       "        vertical-align: middle;\n",
       "    }\n",
       "\n",
       "    .dataframe tbody tr th {\n",
       "        vertical-align: top;\n",
       "    }\n",
       "\n",
       "    .dataframe thead th {\n",
       "        text-align: right;\n",
       "    }\n",
       "</style>\n",
       "<table border=\"1\" class=\"dataframe\">\n",
       "  <thead>\n",
       "    <tr style=\"text-align: right;\">\n",
       "      <th></th>\n",
       "      <th></th>\n",
       "      <th>image</th>\n",
       "    </tr>\n",
       "    <tr>\n",
       "      <th>label</th>\n",
       "      <th>eye side</th>\n",
       "      <th></th>\n",
       "    </tr>\n",
       "  </thead>\n",
       "  <tbody>\n",
       "    <tr>\n",
       "      <th rowspan=\"2\" valign=\"top\">glaukoma</th>\n",
       "      <th>left eye (OS)</th>\n",
       "      <td>47</td>\n",
       "    </tr>\n",
       "    <tr>\n",
       "      <th>right eye (OD)</th>\n",
       "      <td>40</td>\n",
       "    </tr>\n",
       "    <tr>\n",
       "      <th rowspan=\"2\" valign=\"top\">normal</th>\n",
       "      <th>left eye (OS)</th>\n",
       "      <td>163</td>\n",
       "    </tr>\n",
       "    <tr>\n",
       "      <th>right eye (OD)</th>\n",
       "      <td>170</td>\n",
       "    </tr>\n",
       "    <tr>\n",
       "      <th rowspan=\"2\" valign=\"top\">suspect</th>\n",
       "      <th>left eye (OS)</th>\n",
       "      <td>34</td>\n",
       "    </tr>\n",
       "    <tr>\n",
       "      <th>right eye (OD)</th>\n",
       "      <td>34</td>\n",
       "    </tr>\n",
       "  </tbody>\n",
       "</table>\n",
       "</div>"
      ],
      "text/plain": [
       "                         image\n",
       "label    eye side             \n",
       "glaukoma left eye (OS)      47\n",
       "         right eye (OD)     40\n",
       "normal   left eye (OS)     163\n",
       "         right eye (OD)    170\n",
       "suspect  left eye (OS)      34\n",
       "         right eye (OD)     34"
      ]
     },
     "execution_count": 115,
     "metadata": {},
     "output_type": "execute_result"
    }
   ],
   "source": [
    "pd.DataFrame(metadata_papila[['eye side', 'label']].groupby(['label', 'eye side']).size()).rename(columns={0: \"image\"})"
   ]
  },
  {
   "cell_type": "code",
   "execution_count": 116,
   "metadata": {},
   "outputs": [
    {
     "data": {
      "text/plain": [
       "label\n",
       "normal      333\n",
       "glaukoma    155\n",
       "Name: count, dtype: int64"
      ]
     },
     "execution_count": 116,
     "metadata": {},
     "output_type": "execute_result"
    }
   ],
   "source": [
    "metadata_papila.loc[metadata_papila.label == \"suspect\", \"label\"] = label[1]\n",
    "metadata_papila.label.value_counts()"
   ]
  },
  {
   "cell_type": "markdown",
   "metadata": {},
   "source": [
    "### Getting the file name"
   ]
  },
  {
   "cell_type": "code",
   "execution_count": 117,
   "metadata": {},
   "outputs": [],
   "source": [
    "for row in metadata_papila.iterrows():\n",
    "    if row[1]['label'] == label[0]:\n",
    "        file_names_raw_papila[label[0]].append(row[1]['file name'])\n",
    "    elif row[1]['label'] == label[1]:\n",
    "        file_names_raw_papila[label[1]].append(row[1]['file name'])"
   ]
  },
  {
   "cell_type": "markdown",
   "metadata": {},
   "source": [
    "### Validate the file"
   ]
  },
  {
   "cell_type": "code",
   "execution_count": 118,
   "metadata": {},
   "outputs": [
    {
     "name": "stdout",
     "output_type": "stream",
     "text": [
      "Total normal : 333\n",
      "Total glaukoma : 155\n"
     ]
    }
   ],
   "source": [
    "for key in file_names_raw_papila.keys():\n",
    "    print(f\"Total {key} : {len(file_names_raw_papila[key])}\")"
   ]
  },
  {
   "cell_type": "markdown",
   "metadata": {},
   "source": [
    "### Copying the image"
   ]
  },
  {
   "cell_type": "code",
   "execution_count": 120,
   "metadata": {},
   "outputs": [],
   "source": [
    "for label_name, label_file in file_names_raw_papila.items():\n",
    "    data_prep.copy_files(source_path=path_papila,\n",
    "                         destination_path=os.path.join(path_dataset_destination,\n",
    "                                                     dataset_names[3],\n",
    "                                                     label_name),\n",
    "                         file_names=label_file)"
   ]
  },
  {
   "cell_type": "markdown",
   "metadata": {},
   "source": [
    "### Validate the file"
   ]
  },
  {
   "cell_type": "code",
   "execution_count": 121,
   "metadata": {},
   "outputs": [],
   "source": [
    "for label_name in label:\n",
    "    for file_name in data_prep.get_file_names(path=os.path.join(path_dataset_destination,\n",
    "                                                                 dataset_names[3])):\n",
    "        if file_name in file_names_raw_papila[label_name]:\n",
    "            pass\n",
    "        else:\n",
    "            print(f\"{file_name} not found in {label_name}\")"
   ]
  }
 ],
 "metadata": {
  "kernelspec": {
   "display_name": "env_skripsi",
   "language": "python",
   "name": "python3"
  },
  "language_info": {
   "codemirror_mode": {
    "name": "ipython",
    "version": 3
   },
   "file_extension": ".py",
   "mimetype": "text/x-python",
   "name": "python",
   "nbconvert_exporter": "python",
   "pygments_lexer": "ipython3",
   "version": "3.10.13"
  }
 },
 "nbformat": 4,
 "nbformat_minor": 2
}
