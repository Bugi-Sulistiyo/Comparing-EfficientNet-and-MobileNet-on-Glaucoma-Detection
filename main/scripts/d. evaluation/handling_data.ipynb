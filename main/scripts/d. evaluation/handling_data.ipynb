{
 "cells": [
  {
   "cell_type": "code",
   "execution_count": 1,
   "metadata": {},
   "outputs": [],
   "source": [
    "import os\n",
    "import sys\n",
    "from dotenv import load_dotenv\n",
    "\n",
    "load_dotenv()\n",
    "sys.path.append(os.environ.get('PATH_CUSTOM_MODULES'))\n",
    "\n",
    "import pandas as pd\n",
    "import matplotlib.pyplot as plt"
   ]
  },
  {
   "cell_type": "code",
   "execution_count": 10,
   "metadata": {},
   "outputs": [],
   "source": [
    "path_data = os.environ.get('PATH_DATA_DASHBOARD')\n",
    "path_aug_exm = os.path.join(path_data, 'augment_sample')"
   ]
  },
  {
   "cell_type": "markdown",
   "metadata": {},
   "source": [
    "### Refine the scenario guide data"
   ]
  },
  {
   "cell_type": "code",
   "execution_count": 11,
   "metadata": {},
   "outputs": [
    {
     "name": "stderr",
     "output_type": "stream",
     "text": [
      "C:\\Users\\Bugi\\AppData\\Local\\Temp\\ipykernel_19728\\821726218.py:14: FutureWarning: Downcasting behavior in `replace` is deprecated and will be removed in a future version. To retain the old behavior, explicitly call `result.infer_objects(copy=False)`. To opt-in to the future behavior, set `pd.set_option('future.no_silent_downcasting', True)`\n",
      "  scen_guide.replace(to_replace=[1, 0], value=[True, False], inplace=True)\n",
      "C:\\Users\\Bugi\\AppData\\Local\\Temp\\ipykernel_19728\\821726218.py:15: FutureWarning: Downcasting behavior in `replace` is deprecated and will be removed in a future version. To retain the old behavior, explicitly call `result.infer_objects(copy=False)`. To opt-in to the future behavior, set `pd.set_option('future.no_silent_downcasting', True)`\n",
      "  scen_guide.replace(to_replace={'Skenario': True}, value=1, inplace=True)\n"
     ]
    },
    {
     "data": {
      "text/html": [
       "<style type=\"text/css\">\n",
       "</style>\n",
       "<table id=\"T_54961\">\n",
       "  <thead>\n",
       "    <tr>\n",
       "      <th id=\"T_54961_level0_col0\" class=\"col_heading level0 col0\" >Skenario</th>\n",
       "      <th id=\"T_54961_level0_col1\" class=\"col_heading level0 col1\" >Warna</th>\n",
       "      <th id=\"T_54961_level0_col2\" class=\"col_heading level0 col2\" >Resize</th>\n",
       "      <th id=\"T_54961_level0_col3\" class=\"col_heading level0 col3\" >Rescale</th>\n",
       "      <th id=\"T_54961_level0_col4\" class=\"col_heading level0 col4\" >Flip Horizontal</th>\n",
       "      <th id=\"T_54961_level0_col5\" class=\"col_heading level0 col5\" >Flip Vertical</th>\n",
       "      <th id=\"T_54961_level0_col6\" class=\"col_heading level0 col6\" >Rotasi</th>\n",
       "      <th id=\"T_54961_level0_col7\" class=\"col_heading level0 col7\" >Brightness</th>\n",
       "      <th id=\"T_54961_level0_col8\" class=\"col_heading level0 col8\" >CLAHE</th>\n",
       "    </tr>\n",
       "  </thead>\n",
       "  <tbody>\n",
       "    <tr>\n",
       "      <td id=\"T_54961_row0_col0\" class=\"data row0 col0\" >1</td>\n",
       "      <td id=\"T_54961_row0_col1\" class=\"data row0 col1\" >RGB</td>\n",
       "      <td id=\"T_54961_row0_col2\" class=\"data row0 col2\" >True</td>\n",
       "      <td id=\"T_54961_row0_col3\" class=\"data row0 col3\" >True</td>\n",
       "      <td id=\"T_54961_row0_col4\" class=\"data row0 col4\" >False</td>\n",
       "      <td id=\"T_54961_row0_col5\" class=\"data row0 col5\" >False</td>\n",
       "      <td id=\"T_54961_row0_col6\" class=\"data row0 col6\" >False</td>\n",
       "      <td id=\"T_54961_row0_col7\" class=\"data row0 col7\" >False</td>\n",
       "      <td id=\"T_54961_row0_col8\" class=\"data row0 col8\" >False</td>\n",
       "    </tr>\n",
       "    <tr>\n",
       "      <td id=\"T_54961_row1_col0\" class=\"data row1 col0\" >2</td>\n",
       "      <td id=\"T_54961_row1_col1\" class=\"data row1 col1\" >RGB</td>\n",
       "      <td id=\"T_54961_row1_col2\" class=\"data row1 col2\" >True</td>\n",
       "      <td id=\"T_54961_row1_col3\" class=\"data row1 col3\" >True</td>\n",
       "      <td id=\"T_54961_row1_col4\" class=\"data row1 col4\" >True</td>\n",
       "      <td id=\"T_54961_row1_col5\" class=\"data row1 col5\" >True</td>\n",
       "      <td id=\"T_54961_row1_col6\" class=\"data row1 col6\" >True</td>\n",
       "      <td id=\"T_54961_row1_col7\" class=\"data row1 col7\" >True</td>\n",
       "      <td id=\"T_54961_row1_col8\" class=\"data row1 col8\" >False</td>\n",
       "    </tr>\n",
       "    <tr>\n",
       "      <td id=\"T_54961_row2_col0\" class=\"data row2 col0\" >3</td>\n",
       "      <td id=\"T_54961_row2_col1\" class=\"data row2 col1\" >RGB</td>\n",
       "      <td id=\"T_54961_row2_col2\" class=\"data row2 col2\" >True</td>\n",
       "      <td id=\"T_54961_row2_col3\" class=\"data row2 col3\" >True</td>\n",
       "      <td id=\"T_54961_row2_col4\" class=\"data row2 col4\" >True</td>\n",
       "      <td id=\"T_54961_row2_col5\" class=\"data row2 col5\" >True</td>\n",
       "      <td id=\"T_54961_row2_col6\" class=\"data row2 col6\" >True</td>\n",
       "      <td id=\"T_54961_row2_col7\" class=\"data row2 col7\" >True</td>\n",
       "      <td id=\"T_54961_row2_col8\" class=\"data row2 col8\" >True</td>\n",
       "    </tr>\n",
       "  </tbody>\n",
       "</table>\n"
      ],
      "text/plain": [
       "<pandas.io.formats.style.Styler at 0x27f9a720410>"
      ]
     },
     "execution_count": 11,
     "metadata": {},
     "output_type": "execute_result"
    }
   ],
   "source": [
    "scen_guide = pd.read_csv(os.path.join(path_data, 'scenario_guide.csv'))\n",
    "\n",
    "scen_guide.color_schema = scen_guide.color_schema.str.upper()\n",
    "scen_guide.rename(columns={'scenario': 'Skenario',\n",
    "                            'color_schema': 'Warna',\n",
    "                            'aug_resize': 'Resize',\n",
    "                            'aug_rescale': 'Rescale',\n",
    "                            'aug_horizontal_flip': 'Flip Horizontal',\n",
    "                            'aug_vertical_flip': 'Flip Vertical',\n",
    "                            'aug_rotation': 'Rotasi',\n",
    "                            'aug_brightness': 'Brightness',\n",
    "                            'aug_contrast_clahe': 'CLAHE',},\n",
    "                    inplace=True)\n",
    "scen_guide.replace(to_replace=[1, 0], value=[True, False], inplace=True)\n",
    "scen_guide.replace(to_replace={'Skenario': True}, value=1, inplace=True)\n",
    "\n",
    "scen_guide.style.hide()"
   ]
  },
  {
   "cell_type": "code",
   "execution_count": 12,
   "metadata": {},
   "outputs": [],
   "source": [
    "scen_guide.to_csv(os.path.join(path_data, 'rfn_scenario_guide.csv'), index=False)"
   ]
  },
  {
   "cell_type": "markdown",
   "metadata": {},
   "source": [
    "### Manage the augment example"
   ]
  },
  {
   "cell_type": "code",
   "execution_count": 37,
   "metadata": {},
   "outputs": [
    {
     "data": {
      "text/html": [
       "<div>\n",
       "<style scoped>\n",
       "    .dataframe tbody tr th:only-of-type {\n",
       "        vertical-align: middle;\n",
       "    }\n",
       "\n",
       "    .dataframe tbody tr th {\n",
       "        vertical-align: top;\n",
       "    }\n",
       "\n",
       "    .dataframe thead th {\n",
       "        text-align: right;\n",
       "    }\n",
       "</style>\n",
       "<table border=\"1\" class=\"dataframe\">\n",
       "  <thead>\n",
       "    <tr style=\"text-align: right;\">\n",
       "      <th></th>\n",
       "      <th>file_name</th>\n",
       "      <th>scenario</th>\n",
       "      <th>dataset</th>\n",
       "      <th>augmentation</th>\n",
       "    </tr>\n",
       "  </thead>\n",
       "  <tbody>\n",
       "    <tr>\n",
       "      <th>8</th>\n",
       "      <td>scenario_1 g1020 no.png</td>\n",
       "      <td>1</td>\n",
       "      <td>g1020</td>\n",
       "      <td>no</td>\n",
       "    </tr>\n",
       "    <tr>\n",
       "      <th>9</th>\n",
       "      <td>scenario_1 papila no.png</td>\n",
       "      <td>1</td>\n",
       "      <td>papila</td>\n",
       "      <td>no</td>\n",
       "    </tr>\n",
       "    <tr>\n",
       "      <th>10</th>\n",
       "      <td>scenario_1 refuge no.png</td>\n",
       "      <td>1</td>\n",
       "      <td>refuge</td>\n",
       "      <td>no</td>\n",
       "    </tr>\n",
       "    <tr>\n",
       "      <th>11</th>\n",
       "      <td>scenario_1 rimone no.png</td>\n",
       "      <td>1</td>\n",
       "      <td>rimone</td>\n",
       "      <td>no</td>\n",
       "    </tr>\n",
       "    <tr>\n",
       "      <th>12</th>\n",
       "      <td>scenario_2 g1020 bright.png</td>\n",
       "      <td>2</td>\n",
       "      <td>g1020</td>\n",
       "      <td>bright</td>\n",
       "    </tr>\n",
       "  </tbody>\n",
       "</table>\n",
       "</div>"
      ],
      "text/plain": [
       "                      file_name scenario dataset augmentation\n",
       "8       scenario_1 g1020 no.png        1   g1020           no\n",
       "9      scenario_1 papila no.png        1  papila           no\n",
       "10     scenario_1 refuge no.png        1  refuge           no\n",
       "11     scenario_1 rimone no.png        1  rimone           no\n",
       "12  scenario_2 g1020 bright.png        2   g1020       bright"
      ]
     },
     "execution_count": 37,
     "metadata": {},
     "output_type": "execute_result"
    }
   ],
   "source": [
    "aug_files = pd.DataFrame({'file_name': os.listdir(path_aug_exm)})\n",
    "\n",
    "aug_files.drop(aug_files[aug_files.file_name.str.contains('paper')].index, inplace=True)\n",
    "aug_files['scenario'] = aug_files.file_name.str.split('_').str[1].str.split(' ').str[0]\n",
    "aug_files['dataset'] = aug_files.file_name.str.split(' ').str[1]\n",
    "aug_files['augmentation'] = aug_files.file_name.str.split(' ').str[2].str.split('.').str[0]\n",
    "\n",
    "aug_files.head(5)"
   ]
  },
  {
   "cell_type": "code",
   "execution_count": 38,
   "metadata": {},
   "outputs": [],
   "source": [
    "aug_files.to_csv(os.path.join(path_data, 'example_aug_imgs.csv'), index=False)"
   ]
  },
  {
   "cell_type": "code",
   "execution_count": 46,
   "metadata": {},
   "outputs": [
    {
     "data": {
      "text/plain": [
       "['scenario_2 g1020 bright.png',\n",
       " 'scenario_2 papila bright.png',\n",
       " 'scenario_2 refuge bright.png',\n",
       " 'scenario_2 rimone bright.png']"
      ]
     },
     "execution_count": 46,
     "metadata": {},
     "output_type": "execute_result"
    }
   ],
   "source": [
    "list(aug_files.loc[(aug_files.scenario == '2')\n",
    "            & (aug_files.augmentation == 'bright'), 'file_name'].values)"
   ]
  },
  {
   "cell_type": "markdown",
   "metadata": {},
   "source": [
    "### ---"
   ]
  },
  {
   "cell_type": "markdown",
   "metadata": {},
   "source": [
    "### Analysis"
   ]
  },
  {
   "cell_type": "code",
   "execution_count": 6,
   "metadata": {},
   "outputs": [],
   "source": [
    "data_stored = r'./../../../data/evaluation_result/'\n",
    "data_final = pd.read_csv(os.path.join(data_stored,'merge_result_final.csv'))\n",
    "data_raw = pd.read_csv(os.path.join(data_stored,'merge_result.csv'))"
   ]
  },
  {
   "cell_type": "code",
   "execution_count": 8,
   "metadata": {},
   "outputs": [
    {
     "data": {
      "text/plain": [
       "72"
      ]
     },
     "execution_count": 8,
     "metadata": {},
     "output_type": "execute_result"
    }
   ],
   "source": [
    "len(data_final)"
   ]
  },
  {
   "cell_type": "code",
   "execution_count": 13,
   "metadata": {},
   "outputs": [
    {
     "data": {
      "text/plain": [
       "24"
      ]
     },
     "execution_count": 13,
     "metadata": {},
     "output_type": "execute_result"
    }
   ],
   "source": [
    "len(data_final.loc[data_final.scenario == 'scenario_3'])"
   ]
  }
 ],
 "metadata": {
  "kernelspec": {
   "display_name": "env_skripsi",
   "language": "python",
   "name": "python3"
  },
  "language_info": {
   "codemirror_mode": {
    "name": "ipython",
    "version": 3
   },
   "file_extension": ".py",
   "mimetype": "text/x-python",
   "name": "python",
   "nbconvert_exporter": "python",
   "pygments_lexer": "ipython3",
   "version": "3.11.4"
  }
 },
 "nbformat": 4,
 "nbformat_minor": 2
}
