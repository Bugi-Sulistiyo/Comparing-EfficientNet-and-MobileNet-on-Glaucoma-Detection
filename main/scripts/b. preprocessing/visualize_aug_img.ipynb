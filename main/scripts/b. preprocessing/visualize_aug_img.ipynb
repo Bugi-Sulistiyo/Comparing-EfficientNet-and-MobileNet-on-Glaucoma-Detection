{
 "cells": [
  {
   "cell_type": "code",
   "execution_count": null,
   "metadata": {},
   "outputs": [],
   "source": [
    "import os\n",
    "import sys\n",
    "from dotenv import load_dotenv\n",
    "\n",
    "load_dotenv()\n",
    "sys.path.append(os.environ.get('PATH_CUSTOM_MODULES'))\n",
    "\n",
    "import augment_image\n",
    "import matplotlib.pyplot as plt\n",
    "from tensorflow.keras.preprocessing.image import ImageDataGenerator"
   ]
  },
  {
   "cell_type": "markdown",
   "metadata": {},
   "source": [
    "### Prepare all basic variable"
   ]
  },
  {
   "cell_type": "code",
   "execution_count": null,
   "metadata": {},
   "outputs": [],
   "source": [
    "path_source = os.environ.get('PATH_DATASET_DESTINATION')\n",
    "path_img = os.environ.get('PATH_DATA_AUG_SAMPLE')\n",
    "scenario_names = ['scenario_1', 'scenario_2', 'scenario_3', 'scenario_4', 'scenario_5']\n",
    "dataset_names = ['rimone', 'g1020', 'refuge', 'papila']\n",
    "fold = 'fold_2'\n",
    "labels_name = ['normal', 'glaukoma']\n",
    "aug_type = ['h_flip', 'v_flip', 'bright']\n",
    "image_size = {'rimone': (300,300),\n",
    "            'g1020': (240,300),\n",
    "            'refuge': (300,300),\n",
    "            'papila': (200,300)}"
   ]
  },
  {
   "cell_type": "code",
   "execution_count": null,
   "metadata": {},
   "outputs": [],
   "source": [
    "# getting the path of the dataset\n",
    "path_dataset_src = {}\n",
    "for scenario in scenario_names:\n",
    "    for dataset in dataset_names:\n",
    "            path_dataset_src[scenario + '_'\n",
    "                            + dataset + '_'\n",
    "                            + fold] = os.path.join(path_source,\n",
    "                                                    scenario,\n",
    "                                                    dataset,\n",
    "                                                    fold,\n",
    "                                                    'train')\n",
    "del scenario, dataset"
   ]
  },
  {
   "cell_type": "code",
   "execution_count": null,
   "metadata": {},
   "outputs": [],
   "source": [
    "# create the image data generator for original image\n",
    "datagen = ImageDataGenerator(\n",
    "    rescale=1./255,\n",
    ")\n",
    "# create the image data generator for clahe image\n",
    "datagen_clahe = ImageDataGenerator(\n",
    "    rescale=1./255,\n",
    "    preprocessing_function=augment_image.clahe\n",
    ")"
   ]
  },
  {
   "cell_type": "markdown",
   "metadata": {},
   "source": [
    "### Visualize the Image\n",
    "#### Scenario 1\n",
    "**Condition:**\n",
    "- no augmentation\n",
    "- rgb color\n",
    "- no clahe\n",
    "\n",
    "##### Prepare the needed variable"
   ]
  },
  {
   "cell_type": "code",
   "execution_count": null,
   "metadata": {},
   "outputs": [],
   "source": [
    "s1_datagen = {}\n",
    "s1_col_mode = 'rgb'\n",
    "s1_aug = 'no'"
   ]
  },
  {
   "cell_type": "markdown",
   "metadata": {},
   "source": [
    "##### Import the image into data datagenerator"
   ]
  },
  {
   "cell_type": "code",
   "execution_count": null,
   "metadata": {},
   "outputs": [],
   "source": [
    "for dataset in dataset_names:\n",
    "    for label in labels_name:\n",
    "        print(f'Load {dataset} {label}...')\n",
    "        s1_datagen[dataset + '_'\n",
    "                    + label] = datagen.flow_from_directory(\n",
    "                        path_dataset_src[scenario_names[0] + '_'\n",
    "                                        + dataset + '_'\n",
    "                                        + fold],\n",
    "                        target_size=image_size[dataset],\n",
    "                        class_mode='binary',\n",
    "                        classes=[label]\n",
    "                    )\n",
    "del dataset, label"
   ]
  },
  {
   "cell_type": "markdown",
   "metadata": {},
   "source": [
    "##### Show image"
   ]
  },
  {
   "cell_type": "code",
   "execution_count": null,
   "metadata": {},
   "outputs": [],
   "source": [
    "augment_image.visualize_img(datasets=dataset_names,\n",
    "                                labels=labels_name,\n",
    "                                datagen=s1_datagen,\n",
    "                                aug=s1_aug,\n",
    "                                col_mode=s1_col_mode,\n",
    "                                scenario=scenario_names[0],\n",
    "                                plot_dest=path_img)"
   ]
  },
  {
   "cell_type": "markdown",
   "metadata": {},
   "source": [
    "#### Scenario 2\n",
    "**Conditon:**\n",
    "- basic augmentation\n",
    "- rgb color\n",
    "- no clahe\n",
    "\n",
    "##### Prepare the needed variable"
   ]
  },
  {
   "cell_type": "code",
   "execution_count": null,
   "metadata": {},
   "outputs": [],
   "source": [
    "s2_datagen = {}\n",
    "s2_col_mode = 'rgb'\n",
    "s2_aug = aug_type.copy()"
   ]
  },
  {
   "cell_type": "markdown",
   "metadata": {},
   "source": [
    "##### Import the image into data generator"
   ]
  },
  {
   "cell_type": "code",
   "execution_count": null,
   "metadata": {},
   "outputs": [],
   "source": [
    "for dataset in dataset_names:\n",
    "    for label in labels_name:\n",
    "        print(f'Load {dataset} {label}...')\n",
    "        s2_datagen[dataset + '_'\n",
    "                    + label] = datagen.flow_from_directory(\n",
    "                        path_dataset_src[scenario_names[1] + '_'\n",
    "                                        + dataset + '_'\n",
    "                                        + fold],\n",
    "                        target_size=image_size[dataset],\n",
    "                        class_mode='binary',\n",
    "                        classes=[label]\n",
    "                    )\n",
    "del dataset, label"
   ]
  },
  {
   "cell_type": "markdown",
   "metadata": {},
   "source": [
    "##### Store image"
   ]
  },
  {
   "cell_type": "code",
   "execution_count": null,
   "metadata": {},
   "outputs": [],
   "source": [
    "for augmentation_type in s2_aug:\n",
    "    augment_image.visualize_img(datasets=dataset_names,\n",
    "                                    labels=labels_name,\n",
    "                                    datagen=s2_datagen,\n",
    "                                    aug=augmentation_type,\n",
    "                                    col_mode=s2_col_mode,\n",
    "                                    scenario=scenario_names[1],\n",
    "                                    plot_dest=path_img)\n",
    "del augmentation_type"
   ]
  },
  {
   "cell_type": "markdown",
   "metadata": {},
   "source": [
    "#### Scenario 3\n",
    "**Condition:**\n",
    "- basic augmentation\n",
    "- rgb color\n",
    "- clahe\n",
    "##### Prepare the needed variable"
   ]
  },
  {
   "cell_type": "code",
   "execution_count": null,
   "metadata": {},
   "outputs": [],
   "source": [
    "s3_datagen = {}\n",
    "s3_datagen_clahe = {}\n",
    "s3_col_mode = 'rgb'\n",
    "s3_aug = aug_type.copy()"
   ]
  },
  {
   "cell_type": "markdown",
   "metadata": {},
   "source": [
    "##### Import the image into data generator"
   ]
  },
  {
   "cell_type": "code",
   "execution_count": null,
   "metadata": {},
   "outputs": [],
   "source": [
    "for dataset in dataset_names:\n",
    "    for label in labels_name:\n",
    "        print(f'Load {dataset} {label}...')\n",
    "        s3_datagen[dataset + '_'\n",
    "                    + label] = datagen.flow_from_directory(\n",
    "                        path_dataset_src[scenario_names[2] + '_'\n",
    "                                        + dataset + '_'\n",
    "                                        + fold],\n",
    "                        target_size=image_size[dataset],\n",
    "                        class_mode='binary',\n",
    "                        classes=[label],\n",
    "                        shuffle=False\n",
    "                    )\n",
    "del dataset, label"
   ]
  },
  {
   "cell_type": "code",
   "execution_count": null,
   "metadata": {},
   "outputs": [],
   "source": [
    "for dataset in dataset_names:\n",
    "    for label in labels_name:\n",
    "        print(f'Load {dataset} {label}...')\n",
    "        s3_datagen_clahe[dataset + '_'\n",
    "                    + label] = datagen_clahe.flow_from_directory(\n",
    "                        path_dataset_src[scenario_names[2] + '_'\n",
    "                                        + dataset + '_'\n",
    "                                        + fold],\n",
    "                        target_size=image_size[dataset],\n",
    "                        class_mode='binary',\n",
    "                        classes=[label],\n",
    "                        shuffle=False\n",
    "                    )\n",
    "del dataset, label"
   ]
  },
  {
   "cell_type": "markdown",
   "metadata": {},
   "source": [
    "##### Store image"
   ]
  },
  {
   "cell_type": "code",
   "execution_count": null,
   "metadata": {},
   "outputs": [],
   "source": [
    "for augmentation_type in s3_aug:\n",
    "    for dataset in dataset_names:\n",
    "        # create the image size\n",
    "        plt.figure(figsize=(9, 6),\n",
    "                    dpi=300,\n",
    "                    frameon=False,\n",
    "                    layout='constrained')\n",
    "\n",
    "        for img_place, label in enumerate(labels_name):\n",
    "            # get 1 batch from the batched datagen\n",
    "            images_def = next(s3_datagen[f'{dataset}_{label}'])\n",
    "            images_clahe = next(s3_datagen_clahe[f'{dataset}_{label}'])\n",
    "\n",
    "            if img_place == 0:\n",
    "                # original image\n",
    "                plt.subplot(2,3, img_place+1)\n",
    "                plt.title(label=f'{label}',\n",
    "                            fontdict={'fontsize': 14})\n",
    "                plt.imshow(images_def[0][0])\n",
    "\n",
    "                # image clahe implemented\n",
    "                plt.subplot(2,3, img_place+2)\n",
    "                plt.title(label=f'{label} clahe',\n",
    "                            fontdict={'fontsize': 14})\n",
    "                plt.imshow(images_clahe[0][0])\n",
    "\n",
    "                # image clahe implemented and augmented\n",
    "                plt.subplot(2,3, img_place+3)\n",
    "                plt.imshow(augment_image.augment_img(image=images_clahe[0][0],\n",
    "                                                    aug_type=augmentation_type))\n",
    "                plt.title(label=f'{label} {augmentation_type}',\n",
    "                            fontdict={'fontsize': 14})\n",
    "            elif img_place == 1:\n",
    "                # original image\n",
    "                plt.subplot(2,3, img_place+3)\n",
    "                plt.title(label=f'{label}',\n",
    "                            fontdict={'fontsize': 14})\n",
    "                plt.imshow(images_def[0][0])\n",
    "\n",
    "                # image clahe implemented\n",
    "                plt.subplot(2,3, img_place+4)\n",
    "                plt.title(label=f'{label} clahe',\n",
    "                            fontdict={'fontsize': 14})\n",
    "                plt.imshow(images_clahe[0][0])\n",
    "\n",
    "                # image clahe implemented and augmented\n",
    "                plt.subplot(2,3, img_place+5)\n",
    "                plt.imshow(augment_image.augment_img(image=images_clahe[0][0],\n",
    "                                                    aug_type=augmentation_type))\n",
    "                plt.title(label=f'{label} {augmentation_type}',\n",
    "                            fontdict={'fontsize': 14})\n",
    "\n",
    "        # saving the image\n",
    "        plt.savefig(fname=os.path.join(path_img,\n",
    "                                        f'{scenario_names[2]} {dataset} {augmentation_type}.png'),\n",
    "                                        dpi=300,\n",
    "                                        format='png',\n",
    "                                        metadata={\n",
    "                                            'Title': f'{dataset.title()} {augmentation_type.title()} Augmentation{scenario_names[2].replace(\"_\", \" \").title()}',\n",
    "                                            'Author': 'Bugi Sulistiyo',\n",
    "                                            'Description': f'Visualization of {dataset.title()} {augmentation_type.title()} Augmentation\\n{scenario_names[2].replace(\"_\", \" \").title()}'\n",
    "                                        })\n",
    "del augmentation_type, dataset, label,\n",
    "del images_def, images_clahe, img_place"
   ]
  },
  {
   "cell_type": "markdown",
   "metadata": {},
   "source": [
    "#### Scenario 4\n",
    "**Condition:**\n",
    "- basic augmentation\n",
    "- grayscale\n",
    "- no clahe\n",
    "\n",
    "##### Prepare the needed variable"
   ]
  },
  {
   "cell_type": "code",
   "execution_count": null,
   "metadata": {},
   "outputs": [],
   "source": [
    "s4_datagen = {}\n",
    "s4_col_mode = 'grayscale'\n",
    "s4_aug = aug_type.copy()"
   ]
  },
  {
   "cell_type": "markdown",
   "metadata": {},
   "source": [
    "##### Import the image into data generator"
   ]
  },
  {
   "cell_type": "code",
   "execution_count": null,
   "metadata": {},
   "outputs": [],
   "source": [
    "for dataset in dataset_names:\n",
    "    for label in labels_name:\n",
    "        print(f'Load {dataset} {label}...')\n",
    "        s4_datagen[dataset + '_'\n",
    "                    + label] = datagen.flow_from_directory(\n",
    "                        path_dataset_src[scenario_names[3] + '_'\n",
    "                                        + dataset + '_'\n",
    "                                        + fold],\n",
    "                        target_size=image_size[dataset],\n",
    "                        class_mode='binary',\n",
    "                        classes=[label]\n",
    "                    )\n",
    "del dataset, label"
   ]
  },
  {
   "cell_type": "markdown",
   "metadata": {},
   "source": [
    "##### Store image"
   ]
  },
  {
   "cell_type": "code",
   "execution_count": null,
   "metadata": {},
   "outputs": [],
   "source": [
    "for augmentation_type in s4_aug:\n",
    "    augment_image.visualize_img(datasets=dataset_names,\n",
    "                                    labels=labels_name,\n",
    "                                    datagen=s4_datagen,\n",
    "                                    aug=augmentation_type,\n",
    "                                    col_mode=s4_col_mode,\n",
    "                                    scenario=scenario_names[3],\n",
    "                                    plot_dest=path_img)\n",
    "del augmentation_type"
   ]
  },
  {
   "cell_type": "markdown",
   "metadata": {},
   "source": [
    "#### Scenario 5\n",
    "**Condition:**\n",
    "- basic augmentation\n",
    "- grayscale\n",
    "- clahe\n",
    "\n",
    "##### Prepare the needed variable"
   ]
  },
  {
   "cell_type": "code",
   "execution_count": null,
   "metadata": {},
   "outputs": [],
   "source": [
    "s5_datagen = {}\n",
    "s5_datagen_clahe = {}\n",
    "s5_col_mode = 'grayscale'\n",
    "s5_aug = aug_type.copy()"
   ]
  },
  {
   "cell_type": "markdown",
   "metadata": {},
   "source": [
    "##### Import the image into data generator"
   ]
  },
  {
   "cell_type": "code",
   "execution_count": null,
   "metadata": {},
   "outputs": [],
   "source": [
    "# creating the rgb image data generator\n",
    "for dataset in dataset_names:\n",
    "    for label in labels_name:\n",
    "        print(f'Load {dataset} {label}...')\n",
    "        s5_datagen[dataset + '_'\n",
    "                    + label] = datagen.flow_from_directory(\n",
    "                        path_dataset_src[scenario_names[4] + '_'\n",
    "                                        + dataset + '_'\n",
    "                                        + fold],\n",
    "                        target_size=image_size[dataset],\n",
    "                        class_mode='binary',\n",
    "                        classes=[label],\n",
    "                        shuffle=False\n",
    "                    )\n",
    "del dataset, label"
   ]
  },
  {
   "cell_type": "code",
   "execution_count": null,
   "metadata": {},
   "outputs": [],
   "source": [
    "# creating the gray image data generator\n",
    "for dataset in dataset_names:\n",
    "    for label in labels_name:\n",
    "        print(f'Load {dataset} {label}...')\n",
    "        s5_datagen_clahe[dataset + '_'\n",
    "                    + label] = datagen_clahe.flow_from_directory(\n",
    "                        path_dataset_src[scenario_names[4] + '_'\n",
    "                                        + dataset + '_'\n",
    "                                        + fold],\n",
    "                        target_size=image_size[dataset],\n",
    "                        class_mode='binary',\n",
    "                        classes=[label],\n",
    "                        shuffle=False,\n",
    "                        color_mode=s5_col_mode\n",
    "                    )\n",
    "del dataset, label"
   ]
  },
  {
   "cell_type": "markdown",
   "metadata": {},
   "source": [
    "##### Show image"
   ]
  },
  {
   "cell_type": "code",
   "execution_count": null,
   "metadata": {},
   "outputs": [],
   "source": [
    "for augmentation_type in s5_aug:\n",
    "    for dataset in dataset_names:\n",
    "        # define the image sizee\n",
    "        plt.figure(figsize=(9, 6),\n",
    "                    dpi=300,\n",
    "                    frameon=False,\n",
    "                    layout='constrained')\n",
    "\n",
    "        for img_place, label in enumerate(labels_name):\n",
    "            # get 1 batch from the batched datagen\n",
    "            images_def = next(s5_datagen[f'{dataset}_{label}'])\n",
    "            images_clahe = next(s5_datagen_clahe[f'{dataset}_{label}'])\n",
    "\n",
    "            if img_place == 0:\n",
    "                # original image\n",
    "                plt.subplot(2,3, img_place+1)\n",
    "                plt.title(label=f'{label}',\n",
    "                            fontdict={'fontsize': 14})\n",
    "                plt.imshow(images_def[0][0])\n",
    "\n",
    "                # image with clahe implemented\n",
    "                plt.subplot(2,3, img_place+2)\n",
    "                plt.title(label=f'{label} clahe',\n",
    "                            fontdict={'fontsize': 14})\n",
    "                plt.imshow(images_clahe[0][0], cmap='gray')\n",
    "\n",
    "                # image with clahe implemented and augmented\n",
    "                plt.subplot(2,3, img_place+3)\n",
    "                plt.imshow(augment_image.augment_img(image=images_clahe[0][0],\n",
    "                                                    aug_type=augmentation_type),\n",
    "                            cmap='gray')\n",
    "                plt.title(label=f'{label} {augmentation_type}',\n",
    "                            fontdict={'fontsize': 14})\n",
    "            elif img_place == 1:\n",
    "                # original image\n",
    "                plt.subplot(2,3, img_place+3)\n",
    "                plt.title(label=f'{label}',\n",
    "                            fontdict={'fontsize': 14})\n",
    "                plt.imshow(images_def[0][0])\n",
    "\n",
    "                # image with clahe implemented\n",
    "                plt.subplot(2,3, img_place+4)\n",
    "                plt.title(label=f'{label} clahe',\n",
    "                            fontdict={'fontsize': 14})\n",
    "                plt.imshow(images_clahe[0][0], cmap='gray')\n",
    "\n",
    "                # image wit clahe implemented and augmented\n",
    "                plt.subplot(2,3, img_place+5)\n",
    "                plt.imshow(augment_image.augment_img(image=images_clahe[0][0],\n",
    "                                                    aug_type=augmentation_type),\n",
    "                            cmap='gray')\n",
    "                plt.title(label=f'{label} {augmentation_type}',\n",
    "                            fontdict={'fontsize': 14})\n",
    "\n",
    "        # save the image\n",
    "        plt.savefig(fname=os.path.join(path_img,\n",
    "                                        f'{scenario_names[4]} {dataset} {augmentation_type}.png'),\n",
    "                                        dpi=300,\n",
    "                                        format='png',\n",
    "                                        metadata={\n",
    "                                            'Title': f'{dataset.title()} {augmentation_type.title()} Augmentation{scenario_names[4].replace(\"_\", \" \").title()}',\n",
    "                                            'Author': 'Bugi Sulistiyo',\n",
    "                                            'Description': f'Visualization of {dataset.title()} {augmentation_type.title()} Augmentation\\n{scenario_names[4].replace(\"_\", \" \").title()}'\n",
    "                                        })\n",
    "del augmentation_type, dataset, label\n",
    "del images_def, images_clahe, img_place"
   ]
  }
 ],
 "metadata": {
  "kernelspec": {
   "display_name": "env_skripsi",
   "language": "python",
   "name": "python3"
  },
  "language_info": {
   "codemirror_mode": {
    "name": "ipython",
    "version": 3
   },
   "file_extension": ".py",
   "mimetype": "text/x-python",
   "name": "python",
   "nbconvert_exporter": "python",
   "pygments_lexer": "ipython3",
   "version": "3.10.13"
  }
 },
 "nbformat": 4,
 "nbformat_minor": 2
}
