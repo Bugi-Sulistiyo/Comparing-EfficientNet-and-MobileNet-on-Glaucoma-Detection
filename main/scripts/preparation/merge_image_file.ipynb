{
 "cells": [
  {
   "cell_type": "code",
   "execution_count": 1,
   "metadata": {},
   "outputs": [],
   "source": [
    "import sys\n",
    "sys.path.append(r'd:\\\\Programming\\\\Python\\\\Skripsi\\\\main\\\\scripts\\\\action')\n",
    "\n",
    "import os\n",
    "import shutil\n",
    "\n",
    "import data_prep"
   ]
  },
  {
   "cell_type": "markdown",
   "metadata": {},
   "source": [
    "### Prepare the destination directory"
   ]
  },
  {
   "cell_type": "code",
   "execution_count": 11,
   "metadata": {},
   "outputs": [],
   "source": [
    "label = [\"normal\", \"glaukoma\"]\n",
    "dataset_names = [\"rimone\", 'g1020', 'refuge', 'papila']\n",
    "\n",
    "path_dataset = r'd://Programming/Python/Skripsi/dataset/'\n",
    "path_rimone = os.path.join(path_dataset, r'RIM-ONE_DL_images/partitioned_by_hospital')\n",
    "path_g1020 = os.path.join(path_dataset, r'G1020/Images')\n",
    "path_refuge = os.path.join(path_dataset, r'REFUGE/Images_Square')\n",
    "path_papila = os.path.join(path_dataset, r'PAPILA/FundusImages')\n",
    "\n",
    "path_dataset_destination = r'd://Programming/Python/Skripsi/dataset/combined'"
   ]
  },
  {
   "cell_type": "code",
   "execution_count": 3,
   "metadata": {},
   "outputs": [
    {
     "data": {
      "text/plain": [
       "{'Success': [],\n",
       " 'Already Exists': ['d://Programming/Python/Skripsi/dataset/combined\\\\rimone\\\\normal',\n",
       "  'd://Programming/Python/Skripsi/dataset/combined\\\\rimone\\\\glaukoma',\n",
       "  'd://Programming/Python/Skripsi/dataset/combined\\\\g1020\\\\normal',\n",
       "  'd://Programming/Python/Skripsi/dataset/combined\\\\g1020\\\\glaukoma',\n",
       "  'd://Programming/Python/Skripsi/dataset/combined\\\\refuge\\\\normal',\n",
       "  'd://Programming/Python/Skripsi/dataset/combined\\\\refuge\\\\glaukoma',\n",
       "  'd://Programming/Python/Skripsi/dataset/combined\\\\papila\\\\normal',\n",
       "  'd://Programming/Python/Skripsi/dataset/combined\\\\papila\\\\glaukoma']}"
      ]
     },
     "execution_count": 3,
     "metadata": {},
     "output_type": "execute_result"
    }
   ],
   "source": [
    "data_prep.create_destination_directory(path=path_dataset_destination,\n",
    "                                       dataset_names=dataset_names,\n",
    "                                       label_names=label)"
   ]
  },
  {
   "cell_type": "markdown",
   "metadata": {},
   "source": [
    "## RIM-ONE Dataset\n",
    "### Getting the file name"
   ]
  },
  {
   "cell_type": "code",
   "execution_count": 4,
   "metadata": {},
   "outputs": [],
   "source": [
    "file_names_raw_rimone = {\n",
    "    \"training_set\": {\n",
    "        \"normal\": [],\n",
    "        \"glaucoma\": []\n",
    "    },\n",
    "    \"test_set\": {\n",
    "        \"normal\": [],\n",
    "        \"glaucoma\": []\n",
    "    }\n",
    "}"
   ]
  },
  {
   "cell_type": "markdown",
   "metadata": {},
   "source": [
    "### Validate the file count"
   ]
  },
  {
   "cell_type": "code",
   "execution_count": 5,
   "metadata": {},
   "outputs": [],
   "source": [
    "for dataset_name_key, dataset_name_value in file_names_raw_rimone.items():\n",
    "    for label_name_key, label_name_value in dataset_name_value.items():\n",
    "        file_names_raw_rimone[dataset_name_key][label_name_key] = data_prep.get_file_names(path=os.path.join(path_rimone,\n",
    "                                                                                                             dataset_name_key,\n",
    "                                                                                                             label_name_key))"
   ]
  },
  {
   "cell_type": "code",
   "execution_count": 6,
   "metadata": {},
   "outputs": [
    {
     "name": "stdout",
     "output_type": "stream",
     "text": [
      "train normal\n",
      "Total: 195\n",
      "train glaucoma\n",
      "Total: 116\n",
      "test_ normal\n",
      "Total: 118\n",
      "test_ glaucoma\n",
      "Total: 56\n"
     ]
    }
   ],
   "source": [
    "for dataset_name_key, dataset_name_value in file_names_raw_rimone.items():\n",
    "    for label_name_key, label_name_value in dataset_name_value.items():\n",
    "        print(f\"{dataset_name_key[:5]} {label_name_key}\",\n",
    "              f\"Total: {len(label_name_value)}\",\n",
    "              sep=\"\\n\")"
   ]
  },
  {
   "cell_type": "markdown",
   "metadata": {},
   "source": [
    "### Transform the raw data into cleaned one"
   ]
  },
  {
   "cell_type": "code",
   "execution_count": 7,
   "metadata": {},
   "outputs": [],
   "source": [
    "file_names_cleaned = {\n",
    "    label[0]: [],\n",
    "    label[1]: []\n",
    "}\n",
    "for data_type_key, data_type_value in file_names_raw_rimone.items():\n",
    "    for file_name_key, file_name_value in data_type_value.items():\n",
    "        if file_name_key == \"normal\":\n",
    "            file_names_cleaned[label[0]].extend(file_name_value)\n",
    "        elif file_name_key == \"glaucoma\":\n",
    "            file_names_cleaned[label[1]].extend(file_name_value)"
   ]
  },
  {
   "cell_type": "markdown",
   "metadata": {},
   "source": [
    "### Check the validity"
   ]
  },
  {
   "cell_type": "code",
   "execution_count": 8,
   "metadata": {},
   "outputs": [
    {
     "name": "stdout",
     "output_type": "stream",
     "text": [
      "Total normal : 313\n",
      "Total glaukoma : 172\n"
     ]
    }
   ],
   "source": [
    "for label_name, label_file in file_names_cleaned.items():\n",
    "    print(f\"Total {label_name} : {len(label_file)}\")"
   ]
  },
  {
   "cell_type": "markdown",
   "metadata": {},
   "source": [
    "### Copying the image"
   ]
  },
  {
   "cell_type": "code",
   "execution_count": 9,
   "metadata": {},
   "outputs": [],
   "source": [
    "for dataset_name_key, dataset_name_value in file_names_raw_rimone.items():\n",
    "    for label_name_key, label_name_value in dataset_name_value.items():\n",
    "        if label_name_key == \"normal\":\n",
    "            data_prep.copy_files(source_path=os.path.join(path_rimone,\n",
    "                                                        dataset_name_key,\n",
    "                                                        label_name_key),\n",
    "                                destination_path=os.path.join(path_dataset_destination,\n",
    "                                                            dataset_names[0],\n",
    "                                                            label[0]),\n",
    "                                file_names=label_name_value)\n",
    "        elif label_name_key == \"glaucoma\":\n",
    "            data_prep.copy_files(source_path=os.path.join(path_rimone,\n",
    "                                                        dataset_name_key,\n",
    "                                                        label_name_key),\n",
    "                                destination_path=os.path.join(path_dataset_destination,\n",
    "                                                            dataset_names[0],\n",
    "                                                            label[1]),\n",
    "                                file_names=label_name_value)"
   ]
  },
  {
   "cell_type": "markdown",
   "metadata": {},
   "source": [
    "### Validate the file"
   ]
  },
  {
   "cell_type": "code",
   "execution_count": 12,
   "metadata": {},
   "outputs": [],
   "source": [
    "for label_name in label:\n",
    "    for file_name in data_prep.get_file_names(path=os.path.join(path_dataset_destination,\n",
    "                                                                 dataset_names[0])):\n",
    "        if file_name in file_names_cleaned[label_name]:\n",
    "            pass\n",
    "        else:\n",
    "            print(f\"{file_name} not found in {label_name}\")"
   ]
  },
  {
   "cell_type": "markdown",
   "metadata": {},
   "source": [
    "## G1020 Dataset"
   ]
  },
  {
   "cell_type": "markdown",
   "metadata": {},
   "source": [
    "## REFUGE Dataset"
   ]
  },
  {
   "cell_type": "markdown",
   "metadata": {},
   "source": [
    "## PAPILA Dataset"
   ]
  }
 ],
 "metadata": {
  "kernelspec": {
   "display_name": "env_skripsi",
   "language": "python",
   "name": "python3"
  },
  "language_info": {
   "codemirror_mode": {
    "name": "ipython",
    "version": 3
   },
   "file_extension": ".py",
   "mimetype": "text/x-python",
   "name": "python",
   "nbconvert_exporter": "python",
   "pygments_lexer": "ipython3",
   "version": "3.10.13"
  }
 },
 "nbformat": 4,
 "nbformat_minor": 2
}
