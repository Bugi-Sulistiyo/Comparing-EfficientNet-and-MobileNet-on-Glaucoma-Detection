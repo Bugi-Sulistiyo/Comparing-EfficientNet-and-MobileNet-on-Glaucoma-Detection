{
 "cells": [
  {
   "cell_type": "code",
   "execution_count": 1,
   "metadata": {},
   "outputs": [],
   "source": [
    "import PIL"
   ]
  },
  {
   "cell_type": "code",
   "execution_count": 2,
   "metadata": {},
   "outputs": [],
   "source": [
    "import sys\n",
    "import os"
   ]
  },
  {
   "cell_type": "code",
   "execution_count": 3,
   "metadata": {},
   "outputs": [
    {
     "data": {
      "text/plain": [
       "environ{'ALLUSERSPROFILE': 'C:\\\\ProgramData',\n",
       "        'APPDATA': 'C:\\\\Users\\\\Bugi\\\\AppData\\\\Roaming',\n",
       "        'APPLICATION_INSIGHTS_NO_DIAGNOSTIC_CHANNEL': '1',\n",
       "        'CHOCOLATEYINSTALL': 'C:\\\\ProgramData\\\\chocolatey',\n",
       "        'CHOCOLATEYLASTPATHUPDATE': '133056304857468239',\n",
       "        'CHOCOLATEYTOOLSLOCATION': 'C:\\\\tools',\n",
       "        'CHROME_CRASHPAD_PIPE_NAME': '\\\\\\\\.\\\\pipe\\\\crashpad_2004_NDUETHIAWJSELHWT',\n",
       "        'COMMONPROGRAMFILES': 'C:\\\\Program Files\\\\Common Files',\n",
       "        'COMMONPROGRAMFILES(X86)': 'C:\\\\Program Files (x86)\\\\Common Files',\n",
       "        'COMMONPROGRAMW6432': 'C:\\\\Program Files\\\\Common Files',\n",
       "        'COMPUTERNAME': 'RENER-PC',\n",
       "        'COMSPEC': 'C:\\\\WINDOWS\\\\system32\\\\cmd.exe',\n",
       "        'CONDA_DEFAULT_ENV': 'env_skripsi',\n",
       "        'CONDA_EXE': 'C:\\\\Users\\\\Bugi\\\\miniconda3\\\\Scripts\\\\conda.exe',\n",
       "        'CONDA_PREFIX': 'C:\\\\Users\\\\Bugi\\\\miniconda3\\\\envs\\\\env_skripsi',\n",
       "        'CONDA_PROMPT_MODIFIER': '(env_skripsi) ',\n",
       "        'CONDA_PYTHON_EXE': 'C:\\\\Users\\\\Bugi\\\\miniconda3\\\\python.exe',\n",
       "        'CONDA_ROOT': 'C:\\\\Users\\\\Bugi\\\\miniconda3',\n",
       "        'CONDA_SHLVL': '1',\n",
       "        'C_EM64T_REDIST11': 'C:\\\\Program Files (x86)\\\\Common Files\\\\Intel\\\\Shared Files\\\\cpp\\\\',\n",
       "        'DRIVERDATA': 'C:\\\\Windows\\\\System32\\\\Drivers\\\\DriverData',\n",
       "        'EFC_8616': '1',\n",
       "        'ELECTRON_RUN_AS_NODE': '1',\n",
       "        'HOMEDRIVE': 'C:',\n",
       "        'HOMEPATH': '\\\\Users\\\\Bugi',\n",
       "        'INTELLIJ IDEA': 'C:\\\\Program Files\\\\JetBrains\\\\IntelliJ IDEA 2022.1.3\\\\bin;',\n",
       "        'INTELLIJ IDEA COMMUNITY EDITION': 'C:\\\\Program Files\\\\JetBrains\\\\IntelliJ IDEA Community Edition 2021.1.1\\\\bin;',\n",
       "        'JAVA_HOME': 'C:\\\\Program Files\\\\Java\\\\jdk-13.0.2',\n",
       "        'JPY_INTERRUPT_EVENT': '1848',\n",
       "        'LOCALAPPDATA': 'C:\\\\Users\\\\Bugi\\\\AppData\\\\Local',\n",
       "        'LOGONSERVER': '\\\\\\\\RENER-PC',\n",
       "        'MOZ_PLUGIN_PATH': 'C:\\\\PROGRAM FILES (X86)\\\\FOXIT SOFTWARE\\\\FOXIT READER\\\\plugins\\\\',\n",
       "        'NUMBER_OF_PROCESSORS': '8',\n",
       "        'NVTOOLSEXT_PATH': 'C:\\\\Program Files\\\\NVIDIA Corporation\\\\NvToolsExt\\\\',\n",
       "        'ONEDRIVE': 'C:\\\\Users\\\\Bugi\\\\OneDrive',\n",
       "        'ONEDRIVECONSUMER': 'C:\\\\Users\\\\Bugi\\\\OneDrive',\n",
       "        'ORIGINAL_XDG_CURRENT_DESKTOP': 'undefined',\n",
       "        'OS': 'Windows_NT',\n",
       "        'PATH': 'c:\\\\Users\\\\Bugi\\\\miniconda3\\\\envs\\\\env_skripsi;C:\\\\Users\\\\Bugi\\\\miniconda3\\\\envs\\\\env_skripsi;C:\\\\Users\\\\Bugi\\\\miniconda3\\\\envs\\\\env_skripsi\\\\Library\\\\mingw-w64\\\\bin;C:\\\\Users\\\\Bugi\\\\miniconda3\\\\envs\\\\env_skripsi\\\\Library\\\\usr\\\\bin;C:\\\\Users\\\\Bugi\\\\miniconda3\\\\envs\\\\env_skripsi\\\\Library\\\\bin;C:\\\\Users\\\\Bugi\\\\miniconda3\\\\envs\\\\env_skripsi\\\\Scripts;C:\\\\Users\\\\Bugi\\\\miniconda3\\\\envs\\\\env_skripsi\\\\bin;C:\\\\Users\\\\Bugi\\\\miniconda3\\\\condabin;C:\\\\Program Files (x86)\\\\Common Files\\\\Oracle\\\\Java\\\\javapath;C:\\\\ProgramData\\\\Oracle\\\\Java\\\\javapath;C:\\\\Program Files (x86)\\\\Common Files\\\\Intel\\\\Shared Files\\\\cpp\\\\bin\\\\Intel64;c:\\\\windows\\\\system32;c:\\\\windows;c:\\\\windows\\\\system32\\\\wbem;c:\\\\windows\\\\system32\\\\windowspowershell\\\\v1.0;c:\\\\windows\\\\system32\\\\openssh;c:\\\\program files (x86)\\\\nvidia corporation\\\\physx\\\\common;c:\\\\program files\\\\mingw-w64\\\\x86_64-7.2.0-posix-seh-rt_v5-rev1\\\\mingw64\\\\bin;c:\\\\program files\\\\java\\\\jdk-13.0.2\\\\bin;c:\\\\program files\\\\git\\\\cmd;C:\\\\WINDOWS\\\\system32;C:\\\\WINDOWS;C:\\\\WINDOWS\\\\System32\\\\Wbem;C:\\\\WINDOWS\\\\System32\\\\WindowsPowerShell\\\\v1.0;C:\\\\WINDOWS\\\\System32\\\\OpenSSH;C:\\\\Program Files\\\\NVIDIA Corporation\\\\NVIDIA NvDLISR;C:\\\\xampp\\\\php;C:\\\\WINDOWS\\\\system32;C:\\\\WINDOWS;C:\\\\WINDOWS\\\\System32\\\\Wbem;C:\\\\WINDOWS\\\\System32\\\\WindowsPowerShell\\\\v1.0;C:\\\\WINDOWS\\\\System32\\\\OpenSSH;C:\\\\ProgramData\\\\chocolatey\\\\bin;C:\\\\Program Files\\\\nodejs;C:\\\\Users\\\\Bugi\\\\AppData\\\\Local\\\\Programs\\\\Python\\\\Python311\\\\Scripts;C:\\\\Users\\\\Bugi\\\\AppData\\\\Local\\\\Programs\\\\Python\\\\Python311;C:\\\\Users\\\\Bugi\\\\AppData\\\\Local\\\\Programs\\\\Python\\\\Python310\\\\Scripts;C:\\\\Users\\\\Bugi\\\\AppData\\\\Local\\\\Programs\\\\Python\\\\Python310;C:\\\\Users\\\\Bugi\\\\AppData\\\\Local\\\\Programs\\\\Microsoft VS Code\\\\bin;C:\\\\Program Files\\\\Java\\\\jdk-13.0.2\\\\bin;C:\\\\Program Files\\\\JetBrains\\\\IntelliJ IDEA Community Edition 2021.1.1\\\\bin;.;C:\\\\Users\\\\Bugi\\\\AppData\\\\Local\\\\Microsoft\\\\WindowsApps;C:\\\\Program Files\\\\JetBrains\\\\PyCharm 2022.1.3\\\\bin;.;C:\\\\Program Files\\\\JetBrains\\\\IntelliJ IDEA 2022.1.3\\\\bin;.;C:\\\\Program Files\\\\Google Protobuf\\\\bin;C:\\\\Users\\\\Bugi\\\\AppData\\\\Roaming\\\\Pub\\\\Cache\\\\bin;C:\\\\Users\\\\Bugi\\\\AppData\\\\Local\\\\GitHubDesktop\\\\bin;C:\\\\Users\\\\Bugi\\\\AppData\\\\Roaming\\\\npm;.',\n",
       "        'PATHEXT': '.COM;.EXE;.BAT;.CMD;.VBS;.VBE;.JS;.JSE;.WSF;.WSH;.MSC',\n",
       "        'PROCESSOR_ARCHITECTURE': 'AMD64',\n",
       "        'PROCESSOR_IDENTIFIER': 'Intel64 Family 6 Model 165 Stepping 2, GenuineIntel',\n",
       "        'PROCESSOR_LEVEL': '6',\n",
       "        'PROCESSOR_REVISION': 'a502',\n",
       "        'PROGRAMDATA': 'C:\\\\ProgramData',\n",
       "        'PROGRAMFILES': 'C:\\\\Program Files',\n",
       "        'PROGRAMFILES(X86)': 'C:\\\\Program Files (x86)',\n",
       "        'PROGRAMW6432': 'C:\\\\Program Files',\n",
       "        'PROMPT': '(env_skripsi) $P$G',\n",
       "        'PSMODULEPATH': 'C:\\\\Program Files (x86)\\\\WindowsPowerShell\\\\Modules;C:\\\\WINDOWS\\\\system32\\\\WindowsPowerShell\\\\v1.0\\\\Modules;',\n",
       "        'PUBLIC': 'C:\\\\Users\\\\Public',\n",
       "        'PYCHARM': 'C:\\\\Program Files\\\\JetBrains\\\\PyCharm 2022.1.3\\\\bin;',\n",
       "        'PYDEVD_IPYTHON_COMPATIBLE_DEBUGGING': '1',\n",
       "        'PYTHONIOENCODING': 'utf-8',\n",
       "        'PYTHONUNBUFFERED': '1',\n",
       "        'PYTHONUTF8': '1',\n",
       "        'ROBOTINOVIEW4_DIR': 'C:\\\\Program Files\\\\Didactic\\\\RobotinoView4',\n",
       "        'SESSIONNAME': 'Console',\n",
       "        'SSL_CERT_FILE': 'C:\\\\Users\\\\Bugi\\\\miniconda3\\\\envs\\\\env_skripsi\\\\Library\\\\ssl\\\\cacert.pem',\n",
       "        'SYSTEMDRIVE': 'C:',\n",
       "        'SYSTEMROOT': 'C:\\\\WINDOWS',\n",
       "        'TEMP': 'C:\\\\Users\\\\Bugi\\\\AppData\\\\Local\\\\Temp',\n",
       "        'TMP': 'C:\\\\Users\\\\Bugi\\\\AppData\\\\Local\\\\Temp',\n",
       "        'USERDOMAIN': 'RENER-PC',\n",
       "        'USERDOMAIN_ROAMINGPROFILE': 'RENER-PC',\n",
       "        'USERNAME': 'Bugi',\n",
       "        'USERPROFILE': 'C:\\\\Users\\\\Bugi',\n",
       "        'VS140COMNTOOLS': 'C:\\\\Program Files (x86)\\\\Microsoft Visual Studio 14.0\\\\Common7\\\\Tools\\\\',\n",
       "        'VSCODE_AMD_ENTRYPOINT': 'vs/workbench/api/node/extensionHostProcess',\n",
       "        'VSCODE_CODE_CACHE_PATH': 'C:\\\\Users\\\\Bugi\\\\AppData\\\\Roaming\\\\Code\\\\CachedData\\\\af28b32d7e553898b2a91af498b1fb666fdebe0c',\n",
       "        'VSCODE_CRASH_REPORTER_PROCESS_TYPE': 'extensionHost',\n",
       "        'VSCODE_CWD': 'C:\\\\Users\\\\Bugi\\\\AppData\\\\Local\\\\Programs\\\\Microsoft VS Code',\n",
       "        'VSCODE_HANDLES_UNCAUGHT_ERRORS': 'true',\n",
       "        'VSCODE_IPC_HOOK': '\\\\\\\\.\\\\pipe\\\\b7db975b8c681f6656121ba56a0d9477-1.85.0-main-sock',\n",
       "        'VSCODE_L10N_BUNDLE_LOCATION': '',\n",
       "        'VSCODE_NLS_CONFIG': '{\"locale\":\"en-us\",\"osLocale\":\"en-gb\",\"availableLanguages\":{},\"_languagePackSupport\":true}',\n",
       "        'VSCODE_PID': '2004',\n",
       "        'WEBOTS_HOME': 'C:\\\\Program Files\\\\Webots',\n",
       "        'WINDIR': 'C:\\\\WINDOWS',\n",
       "        '_CONDA_OLD_CHCP': '437',\n",
       "        '__COMPAT_LAYER': 'DetectorsAppHealth',\n",
       "        '__CONDA_OPENSLL_CERT_FILE_SET': '\"1\"',\n",
       "        'PYDEVD_USE_FRAME_EVAL': 'NO',\n",
       "        'TERM': 'xterm-color',\n",
       "        'CLICOLOR': '1',\n",
       "        'FORCE_COLOR': '1',\n",
       "        'CLICOLOR_FORCE': '1',\n",
       "        'PAGER': 'cat',\n",
       "        'GIT_PAGER': 'cat',\n",
       "        'MPLBACKEND': 'module://matplotlib_inline.backend_inline'}"
      ]
     },
     "execution_count": 3,
     "metadata": {},
     "output_type": "execute_result"
    }
   ],
   "source": [
    "os.environ"
   ]
  },
  {
   "cell_type": "code",
   "execution_count": 4,
   "metadata": {},
   "outputs": [
    {
     "data": {
      "text/plain": [
       "['d:\\\\Programming\\\\Python\\\\Skripsi\\\\main\\\\scripts\\\\experiment',\n",
       " 'c:\\\\Users\\\\Bugi\\\\miniconda3\\\\envs\\\\env_skripsi\\\\python310.zip',\n",
       " 'c:\\\\Users\\\\Bugi\\\\miniconda3\\\\envs\\\\env_skripsi\\\\DLLs',\n",
       " 'c:\\\\Users\\\\Bugi\\\\miniconda3\\\\envs\\\\env_skripsi\\\\lib',\n",
       " 'c:\\\\Users\\\\Bugi\\\\miniconda3\\\\envs\\\\env_skripsi',\n",
       " '',\n",
       " 'C:\\\\Users\\\\Bugi\\\\AppData\\\\Roaming\\\\Python\\\\Python310\\\\site-packages',\n",
       " 'c:\\\\Users\\\\Bugi\\\\miniconda3\\\\envs\\\\env_skripsi\\\\lib\\\\site-packages',\n",
       " 'c:\\\\Users\\\\Bugi\\\\miniconda3\\\\envs\\\\env_skripsi\\\\lib\\\\site-packages\\\\win32',\n",
       " 'c:\\\\Users\\\\Bugi\\\\miniconda3\\\\envs\\\\env_skripsi\\\\lib\\\\site-packages\\\\win32\\\\lib',\n",
       " 'c:\\\\Users\\\\Bugi\\\\miniconda3\\\\envs\\\\env_skripsi\\\\lib\\\\site-packages\\\\Pythonwin']"
      ]
     },
     "execution_count": 4,
     "metadata": {},
     "output_type": "execute_result"
    }
   ],
   "source": [
    "sys.path"
   ]
  },
  {
   "cell_type": "code",
   "execution_count": 7,
   "metadata": {},
   "outputs": [],
   "source": [
    "sys.path.append(r'd:\\\\Programming\\\\Python\\\\Skripsi\\\\main\\\\scripts')"
   ]
  },
  {
   "cell_type": "code",
   "execution_count": 8,
   "metadata": {},
   "outputs": [
    {
     "data": {
      "text/plain": [
       "['d:\\\\Programming\\\\Python\\\\Skripsi\\\\main\\\\scripts\\\\experiment',\n",
       " 'c:\\\\Users\\\\Bugi\\\\miniconda3\\\\envs\\\\env_skripsi\\\\python310.zip',\n",
       " 'c:\\\\Users\\\\Bugi\\\\miniconda3\\\\envs\\\\env_skripsi\\\\DLLs',\n",
       " 'c:\\\\Users\\\\Bugi\\\\miniconda3\\\\envs\\\\env_skripsi\\\\lib',\n",
       " 'c:\\\\Users\\\\Bugi\\\\miniconda3\\\\envs\\\\env_skripsi',\n",
       " '',\n",
       " 'C:\\\\Users\\\\Bugi\\\\AppData\\\\Roaming\\\\Python\\\\Python310\\\\site-packages',\n",
       " 'c:\\\\Users\\\\Bugi\\\\miniconda3\\\\envs\\\\env_skripsi\\\\lib\\\\site-packages',\n",
       " 'c:\\\\Users\\\\Bugi\\\\miniconda3\\\\envs\\\\env_skripsi\\\\lib\\\\site-packages\\\\win32',\n",
       " 'c:\\\\Users\\\\Bugi\\\\miniconda3\\\\envs\\\\env_skripsi\\\\lib\\\\site-packages\\\\win32\\\\lib',\n",
       " 'c:\\\\Users\\\\Bugi\\\\miniconda3\\\\envs\\\\env_skripsi\\\\lib\\\\site-packages\\\\Pythonwin',\n",
       " 'd:\\\\\\\\Programming\\\\\\\\Python\\\\\\\\Skripsi\\\\\\\\main\\\\\\\\scripts']"
      ]
     },
     "execution_count": 8,
     "metadata": {},
     "output_type": "execute_result"
    }
   ],
   "source": [
    "sys.path"
   ]
  },
  {
   "cell_type": "code",
   "execution_count": 9,
   "metadata": {},
   "outputs": [],
   "source": [
    "from action import data_prep"
   ]
  }
 ],
 "metadata": {
  "kernelspec": {
   "display_name": "env_skripsi",
   "language": "python",
   "name": "python3"
  },
  "language_info": {
   "codemirror_mode": {
    "name": "ipython",
    "version": 3
   },
   "file_extension": ".py",
   "mimetype": "text/x-python",
   "name": "python",
   "nbconvert_exporter": "python",
   "pygments_lexer": "ipython3",
   "version": "3.10.13"
  }
 },
 "nbformat": 4,
 "nbformat_minor": 2
}
