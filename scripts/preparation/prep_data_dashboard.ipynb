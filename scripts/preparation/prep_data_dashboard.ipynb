{
 "cells": [
  {
   "cell_type": "code",
   "execution_count": 18,
   "metadata": {},
   "outputs": [],
   "source": [
    "import pandas as pd\n",
    "import os"
   ]
  },
  {
   "cell_type": "code",
   "execution_count": 7,
   "metadata": {},
   "outputs": [],
   "source": [
    "author_info = {\n",
    "    \"Nama\": [\"Bugi Sulistiyo\",\n",
    "             \"Prof. Dr. Anindita Septiarini, S.T., M.Cs.\",\n",
    "             \"Prof. Dr. Ir. Hamdani, S.T., M.Cs., IPM.\"],\n",
    "    \"Program Studi\": [\"Informatika\",\n",
    "                      \"Informatika\",\n",
    "                      \"Informatika\"],\n",
    "    \"Tipe Penulis\": [\"Mahasiswa\",\n",
    "                     \"Dosen Pembimbing 1\",\n",
    "                     \"Dosen Pembimbing 2\"],\n",
    "}"
   ]
  },
  {
   "cell_type": "code",
   "execution_count": 13,
   "metadata": {},
   "outputs": [],
   "source": [
    "dataset_info = {\n",
    "    \"Nama Dataset\": [\"RIM-ONE\",\n",
    "                     \"G1020\",\n",
    "                     \"REFUGE\",\n",
    "                     \"PAPILA\"],\n",
    "    \"Sumber\": [\"https://github.com/miag-ull/rim-one-dl\",\n",
    "               \"https://www.kaggle.com/datasets/arnavjain1/glaucoma-datasets\",\n",
    "               \"https://www.kaggle.com/datasets/arnavjain1/glaucoma-datasets\",\n",
    "               \"https://doi.org/10.6084/m9.figshare.14798004.v1\"]\n",
    "}"
   ]
  },
  {
   "cell_type": "code",
   "execution_count": 9,
   "metadata": {},
   "outputs": [],
   "source": [
    "arsitektur_info = {\n",
    "    \"Nama Arsitektur\": [\"MobileNetV2\",\n",
    "                        \"MobileNetV3small\",\n",
    "                        \"MobileNetV3large\",\n",
    "                        \"EfficientNetV2S\",\n",
    "                        \"EfficientNetV2M\",\n",
    "                        \"EfficientNetV2L\",],\n",
    "    \"Dasar Arsitektur\": [\"MobileNet\",\n",
    "                         \"MobileNet\",\n",
    "                         \"MobileNet\",\n",
    "                         \"EfficientNet\",\n",
    "                         \"EfficientNet\",\n",
    "                         \"EfficientNet\"],\n",
    "}"
   ]
  },
  {
   "cell_type": "code",
   "execution_count": 14,
   "metadata": {},
   "outputs": [],
   "source": [
    "author_df = pd.DataFrame(author_info)\n",
    "dataset_df = pd.DataFrame(dataset_info)\n",
    "arsitektur_df = pd.DataFrame(arsitektur_info)"
   ]
  },
  {
   "cell_type": "code",
   "execution_count": 11,
   "metadata": {},
   "outputs": [
    {
     "data": {
      "text/html": [
       "<div>\n",
       "<style scoped>\n",
       "    .dataframe tbody tr th:only-of-type {\n",
       "        vertical-align: middle;\n",
       "    }\n",
       "\n",
       "    .dataframe tbody tr th {\n",
       "        vertical-align: top;\n",
       "    }\n",
       "\n",
       "    .dataframe thead th {\n",
       "        text-align: right;\n",
       "    }\n",
       "</style>\n",
       "<table border=\"1\" class=\"dataframe\">\n",
       "  <thead>\n",
       "    <tr style=\"text-align: right;\">\n",
       "      <th></th>\n",
       "      <th>Nama</th>\n",
       "      <th>Program Studi</th>\n",
       "      <th>Tipe Penulis</th>\n",
       "    </tr>\n",
       "  </thead>\n",
       "  <tbody>\n",
       "    <tr>\n",
       "      <th>0</th>\n",
       "      <td>Bugi Sulistiyo</td>\n",
       "      <td>Informatika</td>\n",
       "      <td>Mahasiswa</td>\n",
       "    </tr>\n",
       "    <tr>\n",
       "      <th>1</th>\n",
       "      <td>Prof. Dr. Anindita Septiarini, S.T., M.Cs.</td>\n",
       "      <td>Informatika</td>\n",
       "      <td>Dosen Pembimbing 1</td>\n",
       "    </tr>\n",
       "    <tr>\n",
       "      <th>2</th>\n",
       "      <td>Prof. Dr. Ir. Hamdani, S.T., M.Cs., IPM.</td>\n",
       "      <td>Informatika</td>\n",
       "      <td>Dosen Pembimbing 2</td>\n",
       "    </tr>\n",
       "  </tbody>\n",
       "</table>\n",
       "</div>"
      ],
      "text/plain": [
       "                                         Nama Program Studi  \\\n",
       "0                              Bugi Sulistiyo   Informatika   \n",
       "1  Prof. Dr. Anindita Septiarini, S.T., M.Cs.   Informatika   \n",
       "2    Prof. Dr. Ir. Hamdani, S.T., M.Cs., IPM.   Informatika   \n",
       "\n",
       "         Tipe Penulis  \n",
       "0           Mahasiswa  \n",
       "1  Dosen Pembimbing 1  \n",
       "2  Dosen Pembimbing 2  "
      ]
     },
     "execution_count": 11,
     "metadata": {},
     "output_type": "execute_result"
    }
   ],
   "source": [
    "author_df.head()"
   ]
  },
  {
   "cell_type": "code",
   "execution_count": 15,
   "metadata": {},
   "outputs": [
    {
     "data": {
      "text/html": [
       "<div>\n",
       "<style scoped>\n",
       "    .dataframe tbody tr th:only-of-type {\n",
       "        vertical-align: middle;\n",
       "    }\n",
       "\n",
       "    .dataframe tbody tr th {\n",
       "        vertical-align: top;\n",
       "    }\n",
       "\n",
       "    .dataframe thead th {\n",
       "        text-align: right;\n",
       "    }\n",
       "</style>\n",
       "<table border=\"1\" class=\"dataframe\">\n",
       "  <thead>\n",
       "    <tr style=\"text-align: right;\">\n",
       "      <th></th>\n",
       "      <th>Nama Dataset</th>\n",
       "      <th>Sumber</th>\n",
       "    </tr>\n",
       "  </thead>\n",
       "  <tbody>\n",
       "    <tr>\n",
       "      <th>0</th>\n",
       "      <td>RIM-ONE</td>\n",
       "      <td>https://github.com/miag-ull/rim-one-dl</td>\n",
       "    </tr>\n",
       "    <tr>\n",
       "      <th>1</th>\n",
       "      <td>G1020</td>\n",
       "      <td>https://www.kaggle.com/datasets/arnavjain1/gla...</td>\n",
       "    </tr>\n",
       "    <tr>\n",
       "      <th>2</th>\n",
       "      <td>REFUGE</td>\n",
       "      <td>https://www.kaggle.com/datasets/arnavjain1/gla...</td>\n",
       "    </tr>\n",
       "    <tr>\n",
       "      <th>3</th>\n",
       "      <td>PAPILA</td>\n",
       "      <td>https://doi.org/10.6084/m9.figshare.14798004.v1</td>\n",
       "    </tr>\n",
       "  </tbody>\n",
       "</table>\n",
       "</div>"
      ],
      "text/plain": [
       "  Nama Dataset                                             Sumber\n",
       "0      RIM-ONE             https://github.com/miag-ull/rim-one-dl\n",
       "1        G1020  https://www.kaggle.com/datasets/arnavjain1/gla...\n",
       "2       REFUGE  https://www.kaggle.com/datasets/arnavjain1/gla...\n",
       "3       PAPILA    https://doi.org/10.6084/m9.figshare.14798004.v1"
      ]
     },
     "execution_count": 15,
     "metadata": {},
     "output_type": "execute_result"
    }
   ],
   "source": [
    "dataset_df.head()"
   ]
  },
  {
   "cell_type": "code",
   "execution_count": 17,
   "metadata": {},
   "outputs": [
    {
     "data": {
      "text/html": [
       "<div>\n",
       "<style scoped>\n",
       "    .dataframe tbody tr th:only-of-type {\n",
       "        vertical-align: middle;\n",
       "    }\n",
       "\n",
       "    .dataframe tbody tr th {\n",
       "        vertical-align: top;\n",
       "    }\n",
       "\n",
       "    .dataframe thead th {\n",
       "        text-align: right;\n",
       "    }\n",
       "</style>\n",
       "<table border=\"1\" class=\"dataframe\">\n",
       "  <thead>\n",
       "    <tr style=\"text-align: right;\">\n",
       "      <th></th>\n",
       "      <th>Nama Arsitektur</th>\n",
       "      <th>Dasar Arsitektur</th>\n",
       "    </tr>\n",
       "  </thead>\n",
       "  <tbody>\n",
       "    <tr>\n",
       "      <th>0</th>\n",
       "      <td>MobileNetV2</td>\n",
       "      <td>MobileNet</td>\n",
       "    </tr>\n",
       "    <tr>\n",
       "      <th>1</th>\n",
       "      <td>MobileNetV3small</td>\n",
       "      <td>MobileNet</td>\n",
       "    </tr>\n",
       "    <tr>\n",
       "      <th>2</th>\n",
       "      <td>MobileNetV3large</td>\n",
       "      <td>MobileNet</td>\n",
       "    </tr>\n",
       "    <tr>\n",
       "      <th>3</th>\n",
       "      <td>EfficientNetV2S</td>\n",
       "      <td>EfficientNet</td>\n",
       "    </tr>\n",
       "    <tr>\n",
       "      <th>4</th>\n",
       "      <td>EfficientNetV2M</td>\n",
       "      <td>EfficientNet</td>\n",
       "    </tr>\n",
       "    <tr>\n",
       "      <th>5</th>\n",
       "      <td>EfficientNetV2L</td>\n",
       "      <td>EfficientNet</td>\n",
       "    </tr>\n",
       "  </tbody>\n",
       "</table>\n",
       "</div>"
      ],
      "text/plain": [
       "    Nama Arsitektur Dasar Arsitektur\n",
       "0       MobileNetV2        MobileNet\n",
       "1  MobileNetV3small        MobileNet\n",
       "2  MobileNetV3large        MobileNet\n",
       "3   EfficientNetV2S     EfficientNet\n",
       "4   EfficientNetV2M     EfficientNet\n",
       "5   EfficientNetV2L     EfficientNet"
      ]
     },
     "execution_count": 17,
     "metadata": {},
     "output_type": "execute_result"
    }
   ],
   "source": [
    "arsitektur_df.head(6)"
   ]
  },
  {
   "cell_type": "code",
   "execution_count": 19,
   "metadata": {},
   "outputs": [],
   "source": [
    "path_data_storage = r'./../../../data/'"
   ]
  },
  {
   "cell_type": "code",
   "execution_count": 20,
   "metadata": {},
   "outputs": [],
   "source": [
    "author_df.to_csv(os.path.join(path_data_storage, 'author_info.csv'), index=False)\n",
    "dataset_df.to_csv(os.path.join(path_data_storage, 'dataset_info.csv'), index=False)\n",
    "arsitektur_df.to_csv(os.path.join(path_data_storage, 'arsitektur_info.csv'), index=False)"
   ]
  }
 ],
 "metadata": {
  "kernelspec": {
   "display_name": "env_skripsi",
   "language": "python",
   "name": "python3"
  },
  "language_info": {
   "codemirror_mode": {
    "name": "ipython",
    "version": 3
   },
   "file_extension": ".py",
   "mimetype": "text/x-python",
   "name": "python",
   "nbconvert_exporter": "python",
   "pygments_lexer": "ipython3",
   "version": "3.10.13"
  }
 },
 "nbformat": 4,
 "nbformat_minor": 2
}
