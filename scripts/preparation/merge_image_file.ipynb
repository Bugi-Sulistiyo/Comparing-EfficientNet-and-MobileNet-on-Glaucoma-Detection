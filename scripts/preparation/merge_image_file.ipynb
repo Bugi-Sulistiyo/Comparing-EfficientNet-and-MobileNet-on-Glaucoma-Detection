{
 "cells": [
  {
   "cell_type": "code",
   "execution_count": 1,
   "metadata": {},
   "outputs": [],
   "source": [
    "import sys\n",
    "sys.path.append(r'd:\\\\Programming\\\\Python\\\\Skripsi\\\\main\\\\scripts\\\\action')\n",
    "\n",
    "import os\n",
    "import shutil\n",
    "\n",
    "import data_prep"
   ]
  },
  {
   "cell_type": "markdown",
   "metadata": {},
   "source": [
    "### Prepare the destination directory"
   ]
  },
  {
   "cell_type": "code",
   "execution_count": 2,
   "metadata": {},
   "outputs": [],
   "source": [
    "label = [\"normal\", \"glaukoma\"]\n",
    "\n",
    "path_dataset = r'd://Programming/Python/Skripsi/dataset/'\n",
    "path_rimone_base = os.path.join(path_dataset, r'RIM-ONE_DL_Images/partitioned_by_hospital')\n",
    "path_g1020 = os.path.join(path_dataset, r'G1020/Images')\n",
    "path_refuge = os.path.join(path_dataset, r'REFUGE/Images_Square')\n",
    "path_papila = os.path.join(path_dataset, r'PAPILA/FundusImages')\n",
    "\n",
    "path_dataset_destination = r'd://Programming/Python/Skripsi/dataset/combined'"
   ]
  },
  {
   "cell_type": "code",
   "execution_count": 3,
   "metadata": {},
   "outputs": [
    {
     "data": {
      "text/plain": [
       "{'Success': [],\n",
       " 'Already Exists': ['d://Programming/Python/Skripsi/dataset/combined\\\\rimone\\\\normal',\n",
       "  'd://Programming/Python/Skripsi/dataset/combined\\\\rimone\\\\glaukoma',\n",
       "  'd://Programming/Python/Skripsi/dataset/combined\\\\g1020\\\\normal',\n",
       "  'd://Programming/Python/Skripsi/dataset/combined\\\\g1020\\\\glaukoma',\n",
       "  'd://Programming/Python/Skripsi/dataset/combined\\\\refuge\\\\normal',\n",
       "  'd://Programming/Python/Skripsi/dataset/combined\\\\refuge\\\\glaukoma',\n",
       "  'd://Programming/Python/Skripsi/dataset/combined\\\\papila\\\\normal',\n",
       "  'd://Programming/Python/Skripsi/dataset/combined\\\\papila\\\\glaukoma']}"
      ]
     },
     "execution_count": 3,
     "metadata": {},
     "output_type": "execute_result"
    }
   ],
   "source": [
    "data_prep.create_destination_directory(path=path_dataset_destination,\n",
    "                                       dataset_names=[\"rimone\", 'g1020', 'refuge', 'papila'],\n",
    "                                       label_names=label)"
   ]
  },
  {
   "cell_type": "markdown",
   "metadata": {},
   "source": [
    "## RIM-ONE Dataset\n",
    "### Getting the file"
   ]
  },
  {
   "cell_type": "code",
   "execution_count": null,
   "metadata": {},
   "outputs": [],
   "source": []
  },
  {
   "cell_type": "markdown",
   "metadata": {},
   "source": [
    "## G1020 Dataset"
   ]
  },
  {
   "cell_type": "markdown",
   "metadata": {},
   "source": [
    "## REFUGE Dataset"
   ]
  },
  {
   "cell_type": "markdown",
   "metadata": {},
   "source": [
    "## PAPILA Dataset"
   ]
  }
 ],
 "metadata": {
  "kernelspec": {
   "display_name": "env_skripsi",
   "language": "python",
   "name": "python3"
  },
  "language_info": {
   "codemirror_mode": {
    "name": "ipython",
    "version": 3
   },
   "file_extension": ".py",
   "mimetype": "text/x-python",
   "name": "python",
   "nbconvert_exporter": "python",
   "pygments_lexer": "ipython3",
   "version": "3.10.13"
  }
 },
 "nbformat": 4,
 "nbformat_minor": 2
}
